{
 "cells": [
  {
   "cell_type": "markdown",
   "metadata": {},
   "source": [
    "# **Methylation Biomarkers for Predicting Cancer**\n",
    "\n",
    "## **Data Pre-Processing**\n",
    "\n",
    "**Author:** Meg Hutch\n",
    "\n",
    "**Date:** February 25, 2020\n",
    "\n",
    "**Objective:** Pre-process data for use in Neural Networks, Randfom Forest, and logistic regression.\n",
    "\n",
    "**Note:** In this version, I will only test the ability of methylation levels to classify cancer types. I will not include phenotypic data for now. Additionally, this version has our data split 70% for training and 30% for testing. The 70% training data will undergo leave-one-out-cross-fold validation to tune hyperparameters prior to testing final performance on the 30% test set. \n",
    "\n",
    "Note: This is the new version of the script where we normalize gene counts using DEseq2 in the initial pre-processing script in R. This provided more than double the number of Principal Components that make up 90% of the variance (157). Regardless, we will begin running the deep learning classifier on the revised data. \n",
    "\n",
    "\n",
    "\n",
    "\n",
    "**Notes/ToDos: Will need to similarly normalize/modify the final testing sets as well. For now, I just focused on the various training sets. I also have sections to create a few more datasets, combining stomach/colon cancer + removing GBM + BC, will work on this after initital analyses**"
   ]
  },
  {
   "cell_type": "code",
   "execution_count": 1,
   "metadata": {},
   "outputs": [],
   "source": [
    "import pandas as pd\n",
    "import numpy as np\n",
    "import matplotlib\n",
    "import matplotlib.pyplot as plt\n",
    "import matplotlib.colors\n",
    "import seaborn as sns"
   ]
  },
  {
   "cell_type": "code",
   "execution_count": 2,
   "metadata": {},
   "outputs": [
    {
     "data": {
      "text/plain": [
       "'C:\\\\Users\\\\User\\\\Box Sync\\\\Projects\\\\Multi_Cancer_DL'"
      ]
     },
     "execution_count": 2,
     "metadata": {},
     "output_type": "execute_result"
    }
   ],
   "source": [
    "# set working directory for git hub\n",
    "import os\n",
    "#os.chdir('/projects/p31049/Multi_Cancer_DL/')\n",
    "os.chdir('C:\\\\Users\\\\User\\\\Box Sync/Projects/Multi_Cancer_DL/')\n",
    "os. getcwd()"
   ]
  },
  {
   "cell_type": "markdown",
   "metadata": {},
   "source": [
    "**Import Training, Testing, and Principal component data**"
   ]
  },
  {
   "cell_type": "code",
   "execution_count": 3,
   "metadata": {},
   "outputs": [],
   "source": [
    "# Training set\n",
    "mcTrain = pd.read_csv('02_Processed_Data/mcTrain_70_30.csv')\n",
    "# Testing set\n",
    "mcTest = pd.read_csv('02_Processed_Data/mcTest_70_30.csv')"
   ]
  },
  {
   "cell_type": "code",
   "execution_count": 4,
   "metadata": {},
   "outputs": [
    {
     "data": {
      "text/html": [
       "<div>\n",
       "<style scoped>\n",
       "    .dataframe tbody tr th:only-of-type {\n",
       "        vertical-align: middle;\n",
       "    }\n",
       "\n",
       "    .dataframe tbody tr th {\n",
       "        vertical-align: top;\n",
       "    }\n",
       "\n",
       "    .dataframe thead th {\n",
       "        text-align: right;\n",
       "    }\n",
       "</style>\n",
       "<table border=\"1\" class=\"dataframe\">\n",
       "  <thead>\n",
       "    <tr style=\"text-align: right;\">\n",
       "      <th></th>\n",
       "      <th>seq_num</th>\n",
       "      <th>diagnosis</th>\n",
       "      <th>gender</th>\n",
       "      <th>age</th>\n",
       "      <th>frag_mean</th>\n",
       "      <th>OR4F5</th>\n",
       "      <th>AL627309.1</th>\n",
       "      <th>OR4F29</th>\n",
       "      <th>OR4F16</th>\n",
       "      <th>AL669831.1</th>\n",
       "      <th>...</th>\n",
       "      <th>SYCE3</th>\n",
       "      <th>CPT1B</th>\n",
       "      <th>CHKB-CPT1B</th>\n",
       "      <th>CHKB</th>\n",
       "      <th>MAPK8IP2</th>\n",
       "      <th>ARSA</th>\n",
       "      <th>SHANK3</th>\n",
       "      <th>ACR</th>\n",
       "      <th>RABL2B</th>\n",
       "      <th>dilute_library_concentration</th>\n",
       "    </tr>\n",
       "  </thead>\n",
       "  <tbody>\n",
       "    <tr>\n",
       "      <th>0</th>\n",
       "      <td>SEQF2032</td>\n",
       "      <td>HEA</td>\n",
       "      <td>1</td>\n",
       "      <td>58</td>\n",
       "      <td>178.232040</td>\n",
       "      <td>0.000000</td>\n",
       "      <td>24.924181</td>\n",
       "      <td>0</td>\n",
       "      <td>0</td>\n",
       "      <td>6.062639</td>\n",
       "      <td>...</td>\n",
       "      <td>103.738482</td>\n",
       "      <td>0.000000</td>\n",
       "      <td>20.208795</td>\n",
       "      <td>109.127494</td>\n",
       "      <td>145.503325</td>\n",
       "      <td>117.211012</td>\n",
       "      <td>920.847433</td>\n",
       "      <td>127.989036</td>\n",
       "      <td>84.203313</td>\n",
       "      <td>6.579</td>\n",
       "    </tr>\n",
       "    <tr>\n",
       "      <th>1</th>\n",
       "      <td>SEQF2036</td>\n",
       "      <td>HCC</td>\n",
       "      <td>1</td>\n",
       "      <td>49</td>\n",
       "      <td>186.899353</td>\n",
       "      <td>0.000000</td>\n",
       "      <td>28.198300</td>\n",
       "      <td>0</td>\n",
       "      <td>0</td>\n",
       "      <td>6.189871</td>\n",
       "      <td>...</td>\n",
       "      <td>90.097008</td>\n",
       "      <td>0.000000</td>\n",
       "      <td>26.822774</td>\n",
       "      <td>105.227804</td>\n",
       "      <td>120.358599</td>\n",
       "      <td>99.037933</td>\n",
       "      <td>846.636774</td>\n",
       "      <td>90.784772</td>\n",
       "      <td>80.468321</td>\n",
       "      <td>6.666</td>\n",
       "    </tr>\n",
       "    <tr>\n",
       "      <th>2</th>\n",
       "      <td>SEQF2037</td>\n",
       "      <td>HCC</td>\n",
       "      <td>0</td>\n",
       "      <td>47</td>\n",
       "      <td>179.389458</td>\n",
       "      <td>0.761211</td>\n",
       "      <td>26.642369</td>\n",
       "      <td>0</td>\n",
       "      <td>0</td>\n",
       "      <td>5.328474</td>\n",
       "      <td>...</td>\n",
       "      <td>93.628898</td>\n",
       "      <td>0.000000</td>\n",
       "      <td>14.463000</td>\n",
       "      <td>105.808267</td>\n",
       "      <td>114.942793</td>\n",
       "      <td>149.958478</td>\n",
       "      <td>950.751978</td>\n",
       "      <td>118.748846</td>\n",
       "      <td>76.882266</td>\n",
       "      <td>6.536</td>\n",
       "    </tr>\n",
       "    <tr>\n",
       "      <th>3</th>\n",
       "      <td>SEQF2038</td>\n",
       "      <td>HCC</td>\n",
       "      <td>1</td>\n",
       "      <td>50</td>\n",
       "      <td>178.434177</td>\n",
       "      <td>0.714086</td>\n",
       "      <td>10.711287</td>\n",
       "      <td>0</td>\n",
       "      <td>0</td>\n",
       "      <td>13.567631</td>\n",
       "      <td>...</td>\n",
       "      <td>112.825559</td>\n",
       "      <td>0.714086</td>\n",
       "      <td>14.995802</td>\n",
       "      <td>122.108675</td>\n",
       "      <td>117.110074</td>\n",
       "      <td>105.684701</td>\n",
       "      <td>893.321358</td>\n",
       "      <td>89.974813</td>\n",
       "      <td>102.114272</td>\n",
       "      <td>7.026</td>\n",
       "    </tr>\n",
       "    <tr>\n",
       "      <th>4</th>\n",
       "      <td>SEQF2040</td>\n",
       "      <td>HEA</td>\n",
       "      <td>0</td>\n",
       "      <td>71</td>\n",
       "      <td>179.532989</td>\n",
       "      <td>0.000000</td>\n",
       "      <td>15.776344</td>\n",
       "      <td>0</td>\n",
       "      <td>0</td>\n",
       "      <td>4.302639</td>\n",
       "      <td>...</td>\n",
       "      <td>103.263339</td>\n",
       "      <td>0.000000</td>\n",
       "      <td>20.078983</td>\n",
       "      <td>103.263339</td>\n",
       "      <td>124.776535</td>\n",
       "      <td>113.302831</td>\n",
       "      <td>955.902997</td>\n",
       "      <td>116.171257</td>\n",
       "      <td>96.092274</td>\n",
       "      <td>7.260</td>\n",
       "    </tr>\n",
       "  </tbody>\n",
       "</table>\n",
       "<p>5 rows × 19106 columns</p>\n",
       "</div>"
      ],
      "text/plain": [
       "    seq_num diagnosis  gender  age   frag_mean     OR4F5  AL627309.1  OR4F29  \\\n",
       "0  SEQF2032       HEA       1   58  178.232040  0.000000   24.924181       0   \n",
       "1  SEQF2036       HCC       1   49  186.899353  0.000000   28.198300       0   \n",
       "2  SEQF2037       HCC       0   47  179.389458  0.761211   26.642369       0   \n",
       "3  SEQF2038       HCC       1   50  178.434177  0.714086   10.711287       0   \n",
       "4  SEQF2040       HEA       0   71  179.532989  0.000000   15.776344       0   \n",
       "\n",
       "   OR4F16  AL669831.1              ...                    SYCE3     CPT1B  \\\n",
       "0       0    6.062639              ...               103.738482  0.000000   \n",
       "1       0    6.189871              ...                90.097008  0.000000   \n",
       "2       0    5.328474              ...                93.628898  0.000000   \n",
       "3       0   13.567631              ...               112.825559  0.714086   \n",
       "4       0    4.302639              ...               103.263339  0.000000   \n",
       "\n",
       "   CHKB-CPT1B        CHKB    MAPK8IP2        ARSA      SHANK3         ACR  \\\n",
       "0   20.208795  109.127494  145.503325  117.211012  920.847433  127.989036   \n",
       "1   26.822774  105.227804  120.358599   99.037933  846.636774   90.784772   \n",
       "2   14.463000  105.808267  114.942793  149.958478  950.751978  118.748846   \n",
       "3   14.995802  122.108675  117.110074  105.684701  893.321358   89.974813   \n",
       "4   20.078983  103.263339  124.776535  113.302831  955.902997  116.171257   \n",
       "\n",
       "       RABL2B  dilute_library_concentration  \n",
       "0   84.203313                         6.579  \n",
       "1   80.468321                         6.666  \n",
       "2   76.882266                         6.536  \n",
       "3  102.114272                         7.026  \n",
       "4   96.092274                         7.260  \n",
       "\n",
       "[5 rows x 19106 columns]"
      ]
     },
     "execution_count": 4,
     "metadata": {},
     "output_type": "execute_result"
    }
   ],
   "source": [
    "mcTrain.head()"
   ]
  },
  {
   "cell_type": "markdown",
   "metadata": {},
   "source": [
    "# **Pre-Process Data**"
   ]
  },
  {
   "cell_type": "markdown",
   "metadata": {},
   "source": [
    "**Shuffle the training and test sets**\n",
    "\n",
    "Currently, all disease states are in order - we don't want to feed to the network in order!"
   ]
  },
  {
   "cell_type": "code",
   "execution_count": 5,
   "metadata": {},
   "outputs": [],
   "source": [
    "import random\n",
    "random.seed(222020)\n",
    "mcTrain = mcTrain.sample(frac=1, axis = 0).reset_index(drop=True) # frac = 1 returns all rows in random order\n",
    "mcTest = mcTest.sample(frac=1, axis = 0).reset_index(drop=True)"
   ]
  },
  {
   "cell_type": "markdown",
   "metadata": {},
   "source": [
    "**Create a new numeric index and drop seq_num and demographic data for these experiments**\n",
    "\n",
    "For future code we want the index to be numeric"
   ]
  },
  {
   "cell_type": "code",
   "execution_count": 6,
   "metadata": {},
   "outputs": [],
   "source": [
    "# Create new ids\n",
    "mcTrain['id'] = mcTrain.index + 1\n",
    "mcTest['id'] = mcTest.index + 243\n",
    "\n",
    "# Drop num_seq\n",
    "mcTrain = mcTrain.drop(columns=[\"seq_num\"])\n",
    "mcTest = mcTest.drop(columns=[\"seq_num\"])\n",
    "\n",
    "# set index id\n",
    "mcTrain = mcTrain.set_index('id')\n",
    "mcTest = mcTest.set_index('id')"
   ]
  },
  {
   "cell_type": "code",
   "execution_count": 7,
   "metadata": {},
   "outputs": [
    {
     "data": {
      "text/plain": [
       "array(['CRC', 'STAD', 'HCC', 'GBM', 'HEA', 'BRCA', 'ESCA'], dtype=object)"
      ]
     },
     "execution_count": 7,
     "metadata": {},
     "output_type": "execute_result"
    }
   ],
   "source": [
    "# Examine the unique target variables\n",
    "mcTrain.diagnosis.unique()"
   ]
  },
  {
   "cell_type": "code",
   "execution_count": 8,
   "metadata": {},
   "outputs": [],
   "source": [
    "# Replace each outcome target with numerical value\n",
    "mcTrain = mcTrain.replace('HEA', 0)\n",
    "mcTrain = mcTrain.replace('CRC', 1)\n",
    "mcTrain = mcTrain.replace('ESCA', 2)\n",
    "mcTrain = mcTrain.replace('HCC', 3)\n",
    "mcTrain = mcTrain.replace('STAD', 4)\n",
    "mcTrain = mcTrain.replace('GBM', 5)\n",
    "mcTrain = mcTrain.replace('BRCA', 6)\n",
    "\n",
    "mcTest = mcTest.replace('HEA', 0)\n",
    "mcTest = mcTest.replace('CRC', 1)\n",
    "mcTest = mcTest.replace('ESCA', 2)\n",
    "mcTest = mcTest.replace('HCC', 3)\n",
    "mcTest = mcTest.replace('STAD', 4)\n",
    "mcTest = mcTest.replace('GBM', 5)\n",
    "mcTest = mcTest.replace('BRCA', 6)"
   ]
  },
  {
   "cell_type": "markdown",
   "metadata": {},
   "source": [
    "**Save the Training and Testing sets**"
   ]
  },
  {
   "cell_type": "code",
   "execution_count": 9,
   "metadata": {},
   "outputs": [],
   "source": [
    "mcTrain.to_csv('02_Processed_Data/Final_Datasets/mcTrain_Full_70_30.csv')\n",
    "mcTest.to_csv('02_Processed_Data/Final_Datasets/mcTest_Full_70_30.csv')"
   ]
  },
  {
   "cell_type": "markdown",
   "metadata": {},
   "source": [
    "**Remove Labels (Diagnosis) from the datasets**"
   ]
  },
  {
   "cell_type": "code",
   "execution_count": 10,
   "metadata": {},
   "outputs": [],
   "source": [
    "mcTrain_x = mcTrain.drop(columns=[\"diagnosis\"])\n",
    "mcTest_x = mcTest.drop(columns=[\"diagnosis\"])"
   ]
  },
  {
   "cell_type": "markdown",
   "metadata": {},
   "source": [
    "**Create Labeled Datasets**"
   ]
  },
  {
   "cell_type": "code",
   "execution_count": 11,
   "metadata": {},
   "outputs": [],
   "source": [
    "mcTrain_y = mcTrain[['diagnosis']]\n",
    "mcTest_y = mcTest[['diagnosis']]"
   ]
  },
  {
   "cell_type": "markdown",
   "metadata": {},
   "source": [
    "# **Save the Main Training and Testing Datasets**"
   ]
  },
  {
   "cell_type": "code",
   "execution_count": 12,
   "metadata": {},
   "outputs": [],
   "source": [
    "mcTrain_x.to_csv('02_Processed_Data/Final_Datasets/mcTrain_x_Full_70_30.csv')\n",
    "mcTrain_y.to_csv('02_Processed_Data/Final_Datasets/mcTrain_y_Full_70_30.csv')\n",
    "\n",
    "mcTest_x.to_csv('02_Processed_Data/Final_Datasets/mcTest_x_Full_70_30.csv')\n",
    "mcTest_y.to_csv('02_Processed_Data/Final_Datasets/mcTest_y_Full_70_30.csv')"
   ]
  },
  {
   "cell_type": "markdown",
   "metadata": {},
   "source": [
    "# **Downsampling the Majority Class**"
   ]
  },
  {
   "cell_type": "code",
   "execution_count": 13,
   "metadata": {},
   "outputs": [],
   "source": [
    "# Subset healthy patients\n",
    "class0 = mcTrain_y[mcTrain_y.diagnosis == 0]\n",
    "\n",
    "# Select only 30 healthy subjects - we will remove these subjects\n",
    "class0 = class0.head(30)\n",
    "class0 = class0.index.tolist()\n",
    "\n",
    "# remove these patients from the main dataframe \n",
    "mcTrain_y_ds = mcTrain_y[~mcTrain_y.index.isin(class0)]\n",
    "#print(mcTrain_y.head(20))\n",
    "\n",
    "# Print the cases we wanted to remove\n",
    "#print(class0)\n",
    "\n",
    "#Observe class distributions\n",
    "class0_new = mcTrain_y[mcTrain_y.diagnosis == 0]\n",
    "#print('# Healthy Subjects', class0_new.shape) # shoud be 31\n",
    "#print('# Full Training Set', mcTrain_y.shape)"
   ]
  },
  {
   "cell_type": "markdown",
   "metadata": {},
   "source": [
    "**Remove excess healthy patients from the input training set and original dataset**"
   ]
  },
  {
   "cell_type": "code",
   "execution_count": 14,
   "metadata": {},
   "outputs": [
    {
     "name": "stdout",
     "output_type": "stream",
     "text": [
      "(212, 19104)\n"
     ]
    }
   ],
   "source": [
    "mcTrain_x_ds = mcTrain_x[~mcTrain_x.index.isin(class0)]\n",
    "print(mcTrain_x_ds.shape)"
   ]
  },
  {
   "cell_type": "markdown",
   "metadata": {},
   "source": [
    "# **Save the Downsampled Training Data**"
   ]
  },
  {
   "cell_type": "code",
   "execution_count": 15,
   "metadata": {},
   "outputs": [],
   "source": [
    "mcTrain_x_ds.to_csv('02_Processed_Data/Final_Datasets/mcTrain_x_ds_70_30.csv')\n",
    "mcTrain_y_ds.to_csv('02_Processed_Data/Final_Datasets/mcTrain_y_ds_70_30.csv')"
   ]
  },
  {
   "cell_type": "markdown",
   "metadata": {},
   "source": [
    "# **Equalize All Classes**"
   ]
  },
  {
   "cell_type": "code",
   "execution_count": 16,
   "metadata": {},
   "outputs": [],
   "source": [
    "# Subset healthy patients\n",
    "class0 = mcTrain_y[mcTrain_y.diagnosis == 0]\n",
    "class1 = mcTrain_y[mcTrain_y.diagnosis == 1]\n",
    "class2 = mcTrain_y[mcTrain_y.diagnosis == 2]\n",
    "class3 = mcTrain_y[mcTrain_y.diagnosis == 3]\n",
    "class4 = mcTrain_y[mcTrain_y.diagnosis == 4]\n",
    "class5 = mcTrain_y[mcTrain_y.diagnosis == 5]\n",
    "class6 = mcTrain_y[mcTrain_y.diagnosis == 6]\n",
    "\n",
    "\n",
    "# Select only top 20 patients - we will remove these patients\n",
    "class0 = class0.head(20)\n",
    "class0 = class0.index.tolist()\n",
    "\n",
    "class1 = class1.head(20)\n",
    "class1 = class1.index.tolist()\n",
    "\n",
    "class2 = class2.head(20)\n",
    "class2 = class2.index.tolist()\n",
    "\n",
    "class3 = class3.head(20)\n",
    "class3 = class3.index.tolist()\n",
    "\n",
    "class4 = class4.head(20)\n",
    "class4 = class4.index.tolist()\n",
    "\n",
    "class5 = class5.head(20)\n",
    "class5 = class5.index.tolist()\n",
    "\n",
    "class6 = class6.head(20)\n",
    "class6 = class6.index.tolist()\n",
    "\n",
    "# Subset the main mcTrain database with the 20 patients in each class (note: gbm and breast cancer will have 19 and 18)\n",
    "mcTrain_y_es_20 = mcTrain_y[mcTrain_y.index.isin(class0)]\n",
    "mcTrain_y_es_20_1 = mcTrain_y[mcTrain_y.index.isin(class1)]\n",
    "mcTrain_y_es_20_2 = mcTrain_y[mcTrain_y.index.isin(class2)]\n",
    "mcTrain_y_es_20_3 = mcTrain_y[mcTrain_y.index.isin(class3)]\n",
    "mcTrain_y_es_20_4 = mcTrain_y[mcTrain_y.index.isin(class4)]\n",
    "mcTrain_y_es_20_5 = mcTrain_y[mcTrain_y.index.isin(class5)]\n",
    "mcTrain_y_es_20_6 = mcTrain_y[mcTrain_y.index.isin(class6)]\n",
    "\n",
    "# bind all dataframes\n",
    "mcTrain_y_es_20 = mcTrain_y_es_20.append(pd.DataFrame(data = mcTrain_y_es_20_1))\n",
    "mcTrain_y_es_20 = mcTrain_y_es_20.append(pd.DataFrame(data = mcTrain_y_es_20_2))\n",
    "mcTrain_y_es_20 = mcTrain_y_es_20.append(pd.DataFrame(data = mcTrain_y_es_20_3))\n",
    "mcTrain_y_es_20 = mcTrain_y_es_20.append(pd.DataFrame(data = mcTrain_y_es_20_4))\n",
    "mcTrain_y_es_20 = mcTrain_y_es_20.append(pd.DataFrame(data = mcTrain_y_es_20_5))\n",
    "mcTrain_y_es_20 = mcTrain_y_es_20.append(pd.DataFrame(data = mcTrain_y_es_20_6))"
   ]
  },
  {
   "cell_type": "code",
   "execution_count": 17,
   "metadata": {},
   "outputs": [
    {
     "data": {
      "text/plain": [
       "(137, 1)"
      ]
     },
     "execution_count": 17,
     "metadata": {},
     "output_type": "execute_result"
    }
   ],
   "source": [
    "mcTrain_y_es_20.shape"
   ]
  },
  {
   "cell_type": "markdown",
   "metadata": {},
   "source": [
    "**Modify the feature training x set**"
   ]
  },
  {
   "cell_type": "code",
   "execution_count": 18,
   "metadata": {},
   "outputs": [],
   "source": [
    "mcTrain_x_es_20 = mcTrain_x[mcTrain_x.index.isin(class0)]\n",
    "mcTrain_x_es_20_1 = mcTrain_x[mcTrain_x.index.isin(class1)]\n",
    "mcTrain_x_es_20_2 = mcTrain_x[mcTrain_x.index.isin(class2)]\n",
    "mcTrain_x_es_20_3 = mcTrain_x[mcTrain_x.index.isin(class3)]\n",
    "mcTrain_x_es_20_4 = mcTrain_x[mcTrain_x.index.isin(class4)]\n",
    "mcTrain_x_es_20_5 = mcTrain_x[mcTrain_x.index.isin(class5)]\n",
    "mcTrain_x_es_20_6 = mcTrain_x[mcTrain_x.index.isin(class6)]\n",
    "\n",
    "# bind all dataframes\n",
    "mcTrain_x_es_20 = mcTrain_x_es_20.append(pd.DataFrame(data = mcTrain_x_es_20_1))\n",
    "mcTrain_x_es_20 = mcTrain_x_es_20.append(pd.DataFrame(data = mcTrain_x_es_20_2))\n",
    "mcTrain_x_es_20 = mcTrain_x_es_20.append(pd.DataFrame(data = mcTrain_x_es_20_3))\n",
    "mcTrain_x_es_20 = mcTrain_x_es_20.append(pd.DataFrame(data = mcTrain_x_es_20_4))\n",
    "mcTrain_x_es_20 = mcTrain_x_es_20.append(pd.DataFrame(data = mcTrain_x_es_20_5))\n",
    "mcTrain_x_es_20 = mcTrain_x_es_20.append(pd.DataFrame(data = mcTrain_x_es_20_6))"
   ]
  },
  {
   "cell_type": "code",
   "execution_count": 19,
   "metadata": {},
   "outputs": [
    {
     "data": {
      "text/plain": [
       "(137, 19104)"
      ]
     },
     "execution_count": 19,
     "metadata": {},
     "output_type": "execute_result"
    }
   ],
   "source": [
    "mcTrain_x_es_20.shape"
   ]
  },
  {
   "cell_type": "markdown",
   "metadata": {},
   "source": [
    "# **Save Equal Downsampled Datasets** "
   ]
  },
  {
   "cell_type": "code",
   "execution_count": 20,
   "metadata": {},
   "outputs": [],
   "source": [
    "mcTrain_x_es_20.to_csv('02_Processed_Data/Final_Datasets/mcTrain_x_es_70_30.csv')\n",
    "mcTrain_y_es_20.to_csv('02_Processed_Data/Final_Datasets/mcTrain_y_es_70_30.csv')"
   ]
  },
  {
   "cell_type": "markdown",
   "metadata": {},
   "source": [
    "# **Only keep GI Cancers**"
   ]
  },
  {
   "cell_type": "code",
   "execution_count": 21,
   "metadata": {},
   "outputs": [],
   "source": [
    "mcTrain_hea = mcTrain[mcTrain.diagnosis == 0]\n",
    "mcTrain_crc = mcTrain[mcTrain.diagnosis == 1]\n",
    "mcTrain_esca = mcTrain[mcTrain.diagnosis == 2]\n",
    "mcTrain_hcc = mcTrain[mcTrain.diagnosis == 3]\n",
    "mcTrain_stad = mcTrain[mcTrain.diagnosis == 4]\n",
    "\n",
    "# bind dataframes\n",
    "mcTrain_gi = mcTrain_hea.append(pd.DataFrame(data = mcTrain_crc))\n",
    "mcTrain_gi = mcTrain_gi.append(pd.DataFrame(data = mcTrain_esca))\n",
    "mcTrain_gi = mcTrain_gi.append(pd.DataFrame(data = mcTrain_hcc))\n",
    "mcTrain_gi = mcTrain_gi.append(pd.DataFrame(data = mcTrain_stad))"
   ]
  },
  {
   "cell_type": "markdown",
   "metadata": {},
   "source": [
    "**Remove Labels (Diagnosis) from the datasets**"
   ]
  },
  {
   "cell_type": "code",
   "execution_count": 22,
   "metadata": {},
   "outputs": [],
   "source": [
    "mcTrain_gi_x = mcTrain_gi.drop(columns=[\"diagnosis\"])"
   ]
  },
  {
   "cell_type": "markdown",
   "metadata": {},
   "source": [
    "**Create Labeled Datasets**"
   ]
  },
  {
   "cell_type": "code",
   "execution_count": 23,
   "metadata": {},
   "outputs": [],
   "source": [
    "mcTrain_gi_y = mcTrain_gi[['diagnosis']]"
   ]
  },
  {
   "cell_type": "markdown",
   "metadata": {},
   "source": [
    "**Save training and testing sets**"
   ]
  },
  {
   "cell_type": "code",
   "execution_count": 25,
   "metadata": {},
   "outputs": [],
   "source": [
    "mcTrain_gi.to_csv('02_Processed_Data/GI_Datasets/mcTrain_gi_Full_70_30.csv')\n",
    "mcTrain_gi_x.to_csv('02_Processed_Data/GI_Datasets/mcTrain_x_gi_Full_70_30.csv')\n",
    "mcTrain_gi_y.to_csv('02_Processed_Data/GI_Datasets/mcTrain_y_gi_Full_70_30.csv')"
   ]
  },
  {
   "cell_type": "markdown",
   "metadata": {},
   "source": [
    "# **Combine Stomach + Colon Cancer Patients**"
   ]
  },
  {
   "cell_type": "code",
   "execution_count": null,
   "metadata": {},
   "outputs": [],
   "source": []
  },
  {
   "cell_type": "markdown",
   "metadata": {},
   "source": [
    "# **Remove Breast Cancer + GBM Patients**"
   ]
  },
  {
   "cell_type": "code",
   "execution_count": null,
   "metadata": {},
   "outputs": [],
   "source": []
  }
 ],
 "metadata": {
  "kernelspec": {
   "display_name": "Python 3",
   "language": "python",
   "name": "python3"
  },
  "language_info": {
   "codemirror_mode": {
    "name": "ipython",
    "version": 3
   },
   "file_extension": ".py",
   "mimetype": "text/x-python",
   "name": "python",
   "nbconvert_exporter": "python",
   "pygments_lexer": "ipython3",
   "version": "3.7.1"
  }
 },
 "nbformat": 4,
 "nbformat_minor": 2
}
