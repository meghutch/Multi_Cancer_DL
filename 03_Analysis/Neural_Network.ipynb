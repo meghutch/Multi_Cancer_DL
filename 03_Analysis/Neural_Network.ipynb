{
 "cells": [
  {
   "cell_type": "markdown",
   "metadata": {},
   "source": [
    "# **Methylation Biomarkers for Predicting Cancer**\n",
    "\n",
    "## **Deep Learning Approaches to Cancer Classification**\n",
    "\n",
    "**Author:** Meg Hutch\n",
    "\n",
    "**Date:** January 26, 2020\n",
    "\n",
    "**Objective:** Use neural networks to classify colon, esophagus, liver, and stomach cancer patients and healthy subjects."
   ]
  },
  {
   "cell_type": "code",
   "execution_count": 1,
   "metadata": {},
   "outputs": [],
   "source": [
    "import pandas as pd\n",
    "import numpy as np\n",
    "import matplotlib\n",
    "import matplotlib.pyplot as plt\n",
    "import matplotlib.colors\n",
    "import seaborn as sns"
   ]
  },
  {
   "cell_type": "markdown",
   "metadata": {},
   "source": [
    "**Import Training, Testing, and Principal component data**"
   ]
  },
  {
   "cell_type": "code",
   "execution_count": 2,
   "metadata": {},
   "outputs": [],
   "source": [
    "# Training set\n",
    "mcTrain = pd.read_csv('C:\\\\Users\\\\User\\\\Box Sync/Projects/Multi_Cancer_DL/02_Processed_Data/mcTrain.csv')\n",
    "# Testing set\n",
    "mcTest = pd.read_csv('C:\\\\Users\\\\User\\\\Box Sync/Projects/Multi_Cancer_DL/02_Processed_Data/mcTest.csv')\n",
    "# All Principal Components\n",
    "principal_Df_ALL = pd.read_csv('C:\\\\Users\\\\User\\\\Box Sync/Projects/Multi_Cancer_DL/02_Processed_Data/principalDF_ALL.csv')\n",
    "# Principal Components that make up 90% of the variance of the training set\n",
    "genesTrain_transformed_90 = pd.read_csv('C:\\\\Users\\\\User\\\\Box Sync/Projects/Multi_Cancer_DL/02_Processed_Data/genesTrain_transformed_90.csv')\n",
    "# Principal Components projected onto the test set\n",
    "genesTest_transformed_90 = pd.read_csv('C:\\\\Users\\\\User\\\\Box Sync/Projects/Multi_Cancer_DL/02_Processed_Data/genesTest_transformed_90.csv')"
   ]
  },
  {
   "cell_type": "markdown",
   "metadata": {},
   "source": [
    "**Pre-Process Data**\n",
    "\n",
    "* Standarized all data: UPDATE: Not going to worry about this yet!\n",
    "* Make sure that data is formatted correctly\n",
    "* Structure the neural network architecture for multi-classifciation - (check loss function?)\n",
    "* Determine how to do LOOCFV \n",
    "* The idea is that I will try and get high AUCs using the LOOCFV and then once I optimize that, I'll test on the testing set (is it cheating at all to test and then go back to change?"
   ]
  },
  {
   "cell_type": "code",
   "execution_count": 3,
   "metadata": {},
   "outputs": [],
   "source": [
    "# remove genetic data from the mcTrain dataset\n",
    "mcTrain = mcTrain[['seq_num','diagnosis', 'dilute_library_concentration', 'age', 'gender']]\n",
    "\n",
    "# do the same for the testing set\n",
    "mcTest = mcTest[['seq_num','diagnosis', 'dilute_library_concentration', 'age', 'gender']]"
   ]
  },
  {
   "cell_type": "code",
   "execution_count": 4,
   "metadata": {},
   "outputs": [],
   "source": [
    "# rename the first column name of the PC dataframes\n",
    "genesTrain_transformed_90.rename(columns={'Unnamed: 0':'seq_num'}, inplace=True)\n",
    "genesTest_transformed_90.rename(columns={'Unnamed: 0':'seq_num'}, inplace=True)"
   ]
  },
  {
   "cell_type": "code",
   "execution_count": 5,
   "metadata": {},
   "outputs": [],
   "source": [
    "# merge PCs with clinical/phenotypic data\n",
    "mcTrain = pd.merge(mcTrain, genesTrain_transformed_90, how=\"left\", on=\"seq_num\") \n",
    "mcTest = pd.merge(mcTest, genesTest_transformed_90, how=\"left\", on=\"seq_num\") "
   ]
  },
  {
   "cell_type": "markdown",
   "metadata": {},
   "source": [
    "**Shuffle the training and test sets**\n",
    "\n",
    "Currently, all disease states are in order - we don't want to feed to the network in order!"
   ]
  },
  {
   "cell_type": "code",
   "execution_count": 6,
   "metadata": {},
   "outputs": [],
   "source": [
    "import random\n",
    "random.seed(222020)\n",
    "mcTrain = mcTrain.sample(frac=1, axis = 0).reset_index(drop=True) # frac = 1 returns all rows in random order\n",
    "mcTest = mcTest.sample(frac=1, axis = 0).reset_index(drop=True)"
   ]
  },
  {
   "cell_type": "markdown",
   "metadata": {},
   "source": [
    "**Create a new numeric index and drop seq_num**\n",
    "For future code we want the index to be numeric"
   ]
  },
  {
   "cell_type": "code",
   "execution_count": 7,
   "metadata": {},
   "outputs": [],
   "source": [
    "# Create new ids\n",
    "mcTrain['id'] = mcTrain.index + 1\n",
    "mcTest['id'] = mcTest.index + 239\n",
    "\n",
    "# Drop num_seq\n",
    "mcTrain= mcTrain.drop(columns=[\"seq_num\"])\n",
    "mcTest = mcTest.drop(columns=[\"seq_num\"])"
   ]
  },
  {
   "cell_type": "markdown",
   "metadata": {},
   "source": [
    "**Remove Labels (Diagnosis) from the datasets**"
   ]
  },
  {
   "cell_type": "code",
   "execution_count": 8,
   "metadata": {},
   "outputs": [],
   "source": [
    "mcTrain_x = mcTrain.drop(columns=[\"diagnosis\"])\n",
    "mcTest_x = mcTest.drop(columns=[\"diagnosis\"])"
   ]
  },
  {
   "cell_type": "markdown",
   "metadata": {},
   "source": [
    "**Create Labeled Datasets**"
   ]
  },
  {
   "cell_type": "code",
   "execution_count": 9,
   "metadata": {},
   "outputs": [],
   "source": [
    "mcTrain_y = mcTrain[['id','diagnosis']]\n",
    "mcTest_y = mcTest[['id','diagnosis']]"
   ]
  },
  {
   "cell_type": "code",
   "execution_count": 10,
   "metadata": {},
   "outputs": [
    {
     "data": {
      "text/plain": [
       "array(['CRC', 'HEA', 'HCC', 'ESCA', 'STAD'], dtype=object)"
      ]
     },
     "execution_count": 10,
     "metadata": {},
     "output_type": "execute_result"
    }
   ],
   "source": [
    "# Examine the unique target variables\n",
    "mcTrain_y.diagnosis.unique()"
   ]
  },
  {
   "cell_type": "code",
   "execution_count": 11,
   "metadata": {},
   "outputs": [],
   "source": [
    "# Replace each outcome target with numerical value\n",
    "mcTrain_y = mcTrain_y.replace('HEA', 0)\n",
    "mcTrain_y = mcTrain_y.replace('CRC', 1)\n",
    "mcTrain_y = mcTrain_y.replace('ESCA', 2)\n",
    "mcTrain_y = mcTrain_y.replace('HCC', 3)\n",
    "mcTrain_y = mcTrain_y.replace('STAD', 4)\n",
    "\n",
    "mcTest_y = mcTest_y.replace('HEA', 0)\n",
    "mcTest_y = mcTest_y.replace('CRC', 1)\n",
    "mcTest_y = mcTest_y.replace('ESCA', 2)\n",
    "mcTest_y = mcTest_y.replace('HCC', 3)\n",
    "mcTest_y = mcTest_y.replace('STAD', 4)"
   ]
  },
  {
   "cell_type": "markdown",
   "metadata": {},
   "source": [
    "**Convert seq_num id to index**"
   ]
  },
  {
   "cell_type": "code",
   "execution_count": 12,
   "metadata": {},
   "outputs": [],
   "source": [
    "mcTrain_x = mcTrain_x.set_index('id')\n",
    "mcTrain_y = mcTrain_y.set_index('id')\n",
    "\n",
    "mcTest_x = mcTest_x.set_index('id')\n",
    "mcTest_y = mcTest_y.set_index('id')"
   ]
  },
  {
   "cell_type": "markdown",
   "metadata": {},
   "source": [
    "# Neural Netwo"
   ]
  },
  {
   "cell_type": "code",
   "execution_count": 13,
   "metadata": {},
   "outputs": [],
   "source": [
    "# Import PyTorch packages\n",
    "import torch\n",
    "from torch import nn\n",
    "from torchvision import datasets, transforms\n",
    "from torch import optim\n",
    "from torch.utils.data.sampler import SubsetRandomSampler\n",
    "from torch.utils.data.dataloader import DataLoader\n",
    "from torch.utils.data import TensorDataset\n",
    "import torch.nn.functional as F\n",
    "from sklearn.metrics import roc_curve, auc\n",
    "from sklearn.metrics import classification_report, confusion_matrix, accuracy_score"
   ]
  },
  {
   "cell_type": "code",
   "execution_count": 23,
   "metadata": {},
   "outputs": [
    {
     "name": "stdout",
     "output_type": "stream",
     "text": [
      "Epoch 1/2, Training loss: 5.012\n",
      "Epoch 2/2, Training loss: 3.663\n",
      "Epoch 1/2, Training loss: 2.797\n",
      "Epoch 2/2, Training loss: 2.227\n",
      "Epoch 1/2, Training loss: 1.857\n",
      "Epoch 2/2, Training loss: 1.613\n",
      "Epoch 1/2, Training loss: 1.369\n",
      "Epoch 2/2, Training loss: 1.277\n",
      "Epoch 1/2, Training loss: 1.211\n",
      "Epoch 2/2, Training loss: 1.153\n",
      "prediction: [[1]]\n",
      "true: [[1]]\n",
      "Results: 1\n",
      "[1]\n",
      "prediction: [[0]]\n",
      "true: [[0]]\n",
      "Results: 1\n",
      "[1, 1]\n",
      "prediction: [[3]]\n",
      "true: [[1]]\n",
      "Results: 0\n",
      "[1, 1, 0]\n",
      "prediction: [[1]]\n",
      "true: [[1]]\n",
      "Results: 1\n",
      "[1, 1, 0, 1]\n",
      "prediction: [[0]]\n",
      "true: [[0]]\n",
      "Results: 1\n",
      "[1, 1, 0, 1, 1]\n"
     ]
    }
   ],
   "source": [
    "# Define the model with hidden layers - 50 inputs\n",
    "model = nn.Sequential(nn.Linear(55, 30),\n",
    "                      nn.ReLU(),\n",
    "                      nn.Linear(30, 5))\n",
    "                      \n",
    "                      \n",
    "# Set optimizer and learning rate\n",
    "#optimizer = optim.SGD(model.parameters(), lr=0.003)\n",
    "\n",
    "# Could also use Adam optimizer; similar to stochastic gradient descent, but uses momentum which can speed up the actual fitting process, and it also adjusts the learning rate for each of the individual parameters in the model\n",
    "optimizer = optim.Adam(model.parameters(), lr=0.001)\n",
    "\n",
    "criterion = nn.CrossEntropyLoss() #don't use with softmax or sigmoid- PyTorch manual indicates \"This criterion combines nn.LogSoftmax() and nn.NLLLoss() in one single class.\"\n",
    "\n",
    "#Create a for loop to achieve leave-one-out cross fold validation\n",
    "df_train_x = []\n",
    "df_train_y = []\n",
    "\n",
    "for index in range (0,5):\n",
    "    # X - features\n",
    "    mcTrain_xy = mcTrain_x.drop(mcTrain_x.index[index])\n",
    "    mcTrain_xy = np.array(mcTrain_xy, dtype = \"float32\")\n",
    "    \n",
    "    # y - target/outputs\n",
    "    mcTrain_yz = mcTrain_y.drop(mcTrain_y.index[index]) \n",
    "    mcTrain_yz = np.array(mcTrain_yz, dtype = \"float32\")\n",
    "    \n",
    "    # reformatt into tensors\n",
    "    xb = torch.from_numpy(mcTrain_xy)\n",
    "    yb = torch.from_numpy(mcTrain_yz)\n",
    "    \n",
    "    # squeeze \n",
    "    yb = yb.squeeze(1) # function is used when we want to remove single-dimensional entries from the shape of an array.\n",
    "    \n",
    "    # append all dfs\n",
    "    #df_train_x.append(xb)\n",
    "    #df_train_y.append(yb)\n",
    "    \n",
    "#### What I think I can do next is maybe forgo the df_train_x - list of dataframes, rather I may just be able to start iteratively running the code\n",
    "    # Define the batchsize\n",
    "    batch_size = 32\n",
    "\n",
    "    # Combine the arrays\n",
    "    trainloader = TensorDataset(xb, yb)\n",
    "    \n",
    "    # Training Loader\n",
    "    trainloader = DataLoader(trainloader, batch_size, shuffle=True)\n",
    "    \n",
    "    # Set epochs\n",
    "    epochs = 2\n",
    "    for e in range(epochs):\n",
    "        running_loss = 0\n",
    "        for xb, yb in trainloader:\n",
    "        \n",
    "            # Clear the gradients, do this because gradients are accumulated\n",
    "            optimizer.zero_grad()\n",
    "        \n",
    "            # Training pass\n",
    "            output = model.forward(xb)\n",
    "            loss = criterion(output, yb.long()) # Loss calculated from the output compared to the labels  \n",
    "            loss.backward()\n",
    "            optimizer.step()\n",
    "        \n",
    "            running_loss += loss.item() # loss.item() gets the scalar value held in the loss. Running_loss = 0, \n",
    "            # += notation, says \"Add a value and the variable and assigns the result to that variable.\" So, adds the running_loss (0) with loss.item and assigns to running_loss\n",
    "        else:\n",
    "            print(\"Epoch {}/{}, Training loss: {:.3f}\".format(e+1, epochs, running_loss/len(trainloader)))\n",
    "\n",
    "results_ls = []\n",
    "#Test to evaluate model performace\n",
    "# For each ID, starting with id = 1, isolate the training data + testing data\n",
    "for index in range (0,5):\n",
    "    mcTrain_test_x = mcTrain_x.iloc[[index]]\n",
    "    mcTrain_test_x = np.array(mcTrain_test_x, dtype = \"float32\")\n",
    "            \n",
    "    # y - targets/outputs\n",
    "    mcTrain_test_y = mcTrain_y.iloc[[index]]\n",
    "    mcTrain_test_y = np.array(mcTrain_test_y, dtype = \"float32\")\n",
    "        \n",
    "    # Convert arrays into tensors\n",
    "    test_xb = torch.from_numpy(mcTrain_test_x)\n",
    "    test_yb = torch.from_numpy(mcTrain_test_y)\n",
    "\n",
    "    # Apply the model to the whole testing dataset\n",
    "    ps = model(test_xb)\n",
    "                \n",
    "                \n",
    "    #print('Probabilities', ps[:10])\n",
    "\n",
    "    # Obtain the top probability\n",
    "    top_p, top_class = ps.topk(1, dim=1)\n",
    "    #print('true vals', test_yb[:10])\n",
    "\n",
    "    #print(ps, top_p, top_class) # ps: shows us the model predictions for each of the 5 classes\n",
    "    # top_p: identifies the max of the classes\n",
    "    # top_class: gives us the 0-4 classification\n",
    "                \n",
    "    # Drop the grad \n",
    "    top_p = top_p.detach().numpy()\n",
    "    top_class = top_class.detach().numpy()\n",
    "\n",
    "    # convert to integers\n",
    "    top_class = top_class.astype(np.int)\n",
    "    test_yb = test_yb.numpy()\n",
    "    test_yb = test_yb.astype(np.int)\n",
    "    #print('top class', top_class[:10])\n",
    "    print('prediction:', top_class)\n",
    "    print('true:', test_yb)\n",
    "                \n",
    "    # compare top_class to test_yb\n",
    "    if top_class == test_yb:                \n",
    "        results = 1 # prediction and true value are equal\n",
    "    else: \n",
    "        results = 0\n",
    "    print('Results:', results)\n",
    "    \n",
    "    results_ls.append(results)\n",
    "    print(results_ls)\n",
    "    #print(results_ls.append(results)) - not working\n",
    "\n",
    "    #df_train_x[1].shape # this works!\n",
    "    #df_train_y[3].shape #237 "
   ]
  },
  {
   "cell_type": "code",
   "execution_count": null,
   "metadata": {},
   "outputs": [],
   "source": []
  },
  {
   "cell_type": "markdown",
   "metadata": {},
   "source": [
    "**Updates Feb 2:** It looks like the code is working in terms of testing 1 sample after every epoch.  \n",
    "\n",
    "**NEXT STEPS:** Determine how to store accuracy vs not accurate into a list or dataframe in order to compute calculations. "
   ]
  }
 ],
 "metadata": {
  "kernelspec": {
   "display_name": "Python 3",
   "language": "python",
   "name": "python3"
  },
  "language_info": {
   "codemirror_mode": {
    "name": "ipython",
    "version": 3
   },
   "file_extension": ".py",
   "mimetype": "text/x-python",
   "name": "python",
   "nbconvert_exporter": "python",
   "pygments_lexer": "ipython3",
   "version": "3.7.1"
  }
 },
 "nbformat": 4,
 "nbformat_minor": 2
}
