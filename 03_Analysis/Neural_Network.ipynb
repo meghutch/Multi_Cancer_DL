{
 "cells": [
  {
   "cell_type": "markdown",
   "metadata": {},
   "source": [
    "# **Methylation Biomarkers for Predicting Cancer**\n",
    "\n",
    "## **Deep Learning Approaches to Cancer Classification**\n",
    "\n",
    "**Author:** Meg Hutch\n",
    "\n",
    "**Date:** January 26, 2020\n",
    "\n",
    "**Objective:** Use neural networks to classify colon, esophagus, liver, and stomach cancer patients and healthy subjects."
   ]
  },
  {
   "cell_type": "code",
   "execution_count": 1,
   "metadata": {},
   "outputs": [],
   "source": [
    "import pandas as pd\n",
    "import numpy as np\n",
    "import matplotlib\n",
    "import matplotlib.pyplot as plt\n",
    "import matplotlib.colors\n",
    "import seaborn as sns"
   ]
  },
  {
   "cell_type": "markdown",
   "metadata": {},
   "source": [
    "**Import Training, Testing, and Principal component data**"
   ]
  },
  {
   "cell_type": "code",
   "execution_count": 2,
   "metadata": {},
   "outputs": [],
   "source": [
    "# Training set\n",
    "mcTrain = pd.read_csv('C:\\\\Users\\\\User\\\\Box Sync/Projects/Multi_Cancer_DL/02_Processed_Data/mcTrain.csv')\n",
    "# Testing set\n",
    "mcTest = pd.read_csv('C:\\\\Users\\\\User\\\\Box Sync/Projects/Multi_Cancer_DL/02_Processed_Data/mcTest.csv')\n",
    "# All Principal Components\n",
    "principal_Df_ALL = pd.read_csv('C:\\\\Users\\\\User\\\\Box Sync/Projects/Multi_Cancer_DL/02_Processed_Data/principalDF_ALL.csv')\n",
    "# Principal Components that make up 90% of the variance of the training set\n",
    "genesTrain_transformed_90 = pd.read_csv('C:\\\\Users\\\\User\\\\Box Sync/Projects/Multi_Cancer_DL/02_Processed_Data/genesTrain_transformed_90.csv')\n",
    "# Principal Components projected onto the test set\n",
    "genesTest_transformed_90 = pd.read_csv('C:\\\\Users\\\\User\\\\Box Sync/Projects/Multi_Cancer_DL/02_Processed_Data/genesTest_transformed_90.csv')"
   ]
  },
  {
   "cell_type": "code",
   "execution_count": 3,
   "metadata": {},
   "outputs": [
    {
     "data": {
      "text/html": [
       "<div>\n",
       "<style scoped>\n",
       "    .dataframe tbody tr th:only-of-type {\n",
       "        vertical-align: middle;\n",
       "    }\n",
       "\n",
       "    .dataframe tbody tr th {\n",
       "        vertical-align: top;\n",
       "    }\n",
       "\n",
       "    .dataframe thead th {\n",
       "        text-align: right;\n",
       "    }\n",
       "</style>\n",
       "<table border=\"1\" class=\"dataframe\">\n",
       "  <thead>\n",
       "    <tr style=\"text-align: right;\">\n",
       "      <th></th>\n",
       "      <th>Unnamed: 0</th>\n",
       "      <th>pc1</th>\n",
       "      <th>pc2</th>\n",
       "      <th>pc3</th>\n",
       "      <th>pc4</th>\n",
       "      <th>pc5</th>\n",
       "      <th>pc6</th>\n",
       "      <th>pc7</th>\n",
       "      <th>pc8</th>\n",
       "      <th>pc9</th>\n",
       "      <th>...</th>\n",
       "      <th>pc43</th>\n",
       "      <th>pc44</th>\n",
       "      <th>pc45</th>\n",
       "      <th>pc46</th>\n",
       "      <th>pc47</th>\n",
       "      <th>pc48</th>\n",
       "      <th>pc49</th>\n",
       "      <th>pc50</th>\n",
       "      <th>pc51</th>\n",
       "      <th>pc52</th>\n",
       "    </tr>\n",
       "  </thead>\n",
       "  <tbody>\n",
       "    <tr>\n",
       "      <th>0</th>\n",
       "      <td>SEQF2183</td>\n",
       "      <td>-144.158481</td>\n",
       "      <td>-27.480976</td>\n",
       "      <td>-7.781986</td>\n",
       "      <td>13.734680</td>\n",
       "      <td>27.506510</td>\n",
       "      <td>-16.649830</td>\n",
       "      <td>28.168318</td>\n",
       "      <td>-14.486793</td>\n",
       "      <td>0.559815</td>\n",
       "      <td>...</td>\n",
       "      <td>2.378400</td>\n",
       "      <td>-0.830927</td>\n",
       "      <td>4.014084</td>\n",
       "      <td>-1.475105</td>\n",
       "      <td>9.307659</td>\n",
       "      <td>-11.167497</td>\n",
       "      <td>-1.389498</td>\n",
       "      <td>-8.699041</td>\n",
       "      <td>-1.389689</td>\n",
       "      <td>-0.797106</td>\n",
       "    </tr>\n",
       "    <tr>\n",
       "      <th>1</th>\n",
       "      <td>SEQF2054</td>\n",
       "      <td>-62.711787</td>\n",
       "      <td>4.444954</td>\n",
       "      <td>11.411418</td>\n",
       "      <td>13.286470</td>\n",
       "      <td>-1.257518</td>\n",
       "      <td>6.414986</td>\n",
       "      <td>4.740393</td>\n",
       "      <td>0.146344</td>\n",
       "      <td>-0.367381</td>\n",
       "      <td>...</td>\n",
       "      <td>1.831946</td>\n",
       "      <td>0.499020</td>\n",
       "      <td>-2.449973</td>\n",
       "      <td>-1.474650</td>\n",
       "      <td>-3.769866</td>\n",
       "      <td>-0.674254</td>\n",
       "      <td>-0.798050</td>\n",
       "      <td>1.165255</td>\n",
       "      <td>-4.197586</td>\n",
       "      <td>-7.707251</td>\n",
       "    </tr>\n",
       "    <tr>\n",
       "      <th>2</th>\n",
       "      <td>SEQF2489</td>\n",
       "      <td>35.480599</td>\n",
       "      <td>23.448786</td>\n",
       "      <td>3.856209</td>\n",
       "      <td>11.685045</td>\n",
       "      <td>41.517738</td>\n",
       "      <td>-17.683351</td>\n",
       "      <td>-3.424532</td>\n",
       "      <td>-2.065137</td>\n",
       "      <td>12.988382</td>\n",
       "      <td>...</td>\n",
       "      <td>5.837145</td>\n",
       "      <td>-11.558882</td>\n",
       "      <td>-4.847770</td>\n",
       "      <td>-0.577521</td>\n",
       "      <td>5.357721</td>\n",
       "      <td>-2.457032</td>\n",
       "      <td>1.825354</td>\n",
       "      <td>0.832253</td>\n",
       "      <td>-1.805568</td>\n",
       "      <td>-5.711660</td>\n",
       "    </tr>\n",
       "    <tr>\n",
       "      <th>3</th>\n",
       "      <td>SEQF2158</td>\n",
       "      <td>32.712541</td>\n",
       "      <td>-20.317249</td>\n",
       "      <td>0.630302</td>\n",
       "      <td>-14.809538</td>\n",
       "      <td>-0.058078</td>\n",
       "      <td>-4.138992</td>\n",
       "      <td>11.249006</td>\n",
       "      <td>-1.469514</td>\n",
       "      <td>3.027478</td>\n",
       "      <td>...</td>\n",
       "      <td>2.596779</td>\n",
       "      <td>-2.031014</td>\n",
       "      <td>1.287617</td>\n",
       "      <td>-0.625744</td>\n",
       "      <td>1.294597</td>\n",
       "      <td>0.641198</td>\n",
       "      <td>0.610230</td>\n",
       "      <td>2.953519</td>\n",
       "      <td>3.034539</td>\n",
       "      <td>-0.379165</td>\n",
       "    </tr>\n",
       "    <tr>\n",
       "      <th>4</th>\n",
       "      <td>SEQF2348</td>\n",
       "      <td>17.158915</td>\n",
       "      <td>-20.655900</td>\n",
       "      <td>1.473698</td>\n",
       "      <td>-5.535790</td>\n",
       "      <td>0.105691</td>\n",
       "      <td>-2.992127</td>\n",
       "      <td>5.757142</td>\n",
       "      <td>-1.167972</td>\n",
       "      <td>-5.081490</td>\n",
       "      <td>...</td>\n",
       "      <td>1.795425</td>\n",
       "      <td>1.149464</td>\n",
       "      <td>1.076880</td>\n",
       "      <td>4.131549</td>\n",
       "      <td>-0.617409</td>\n",
       "      <td>1.387274</td>\n",
       "      <td>-4.101220</td>\n",
       "      <td>-1.765308</td>\n",
       "      <td>2.756626</td>\n",
       "      <td>-4.772480</td>\n",
       "    </tr>\n",
       "  </tbody>\n",
       "</table>\n",
       "<p>5 rows × 53 columns</p>\n",
       "</div>"
      ],
      "text/plain": [
       "  Unnamed: 0         pc1        pc2        pc3        pc4        pc5  \\\n",
       "0   SEQF2183 -144.158481 -27.480976  -7.781986  13.734680  27.506510   \n",
       "1   SEQF2054  -62.711787   4.444954  11.411418  13.286470  -1.257518   \n",
       "2   SEQF2489   35.480599  23.448786   3.856209  11.685045  41.517738   \n",
       "3   SEQF2158   32.712541 -20.317249   0.630302 -14.809538  -0.058078   \n",
       "4   SEQF2348   17.158915 -20.655900   1.473698  -5.535790   0.105691   \n",
       "\n",
       "         pc6        pc7        pc8        pc9    ...         pc43       pc44  \\\n",
       "0 -16.649830  28.168318 -14.486793   0.559815    ...     2.378400  -0.830927   \n",
       "1   6.414986   4.740393   0.146344  -0.367381    ...     1.831946   0.499020   \n",
       "2 -17.683351  -3.424532  -2.065137  12.988382    ...     5.837145 -11.558882   \n",
       "3  -4.138992  11.249006  -1.469514   3.027478    ...     2.596779  -2.031014   \n",
       "4  -2.992127   5.757142  -1.167972  -5.081490    ...     1.795425   1.149464   \n",
       "\n",
       "       pc45      pc46      pc47       pc48      pc49      pc50      pc51  \\\n",
       "0  4.014084 -1.475105  9.307659 -11.167497 -1.389498 -8.699041 -1.389689   \n",
       "1 -2.449973 -1.474650 -3.769866  -0.674254 -0.798050  1.165255 -4.197586   \n",
       "2 -4.847770 -0.577521  5.357721  -2.457032  1.825354  0.832253 -1.805568   \n",
       "3  1.287617 -0.625744  1.294597   0.641198  0.610230  2.953519  3.034539   \n",
       "4  1.076880  4.131549 -0.617409   1.387274 -4.101220 -1.765308  2.756626   \n",
       "\n",
       "       pc52  \n",
       "0 -0.797106  \n",
       "1 -7.707251  \n",
       "2 -5.711660  \n",
       "3 -0.379165  \n",
       "4 -4.772480  \n",
       "\n",
       "[5 rows x 53 columns]"
      ]
     },
     "execution_count": 3,
     "metadata": {},
     "output_type": "execute_result"
    }
   ],
   "source": [
    "mcTrain.head()\n",
    "genesTrain_transformed_90.head()"
   ]
  },
  {
   "cell_type": "markdown",
   "metadata": {},
   "source": [
    "# **Pre-Process Data**"
   ]
  },
  {
   "cell_type": "code",
   "execution_count": 4,
   "metadata": {},
   "outputs": [],
   "source": [
    "# remove genetic data from the mcTrain dataset\n",
    "mcTrain = mcTrain[['seq_num','diagnosis', 'dilute_library_concentration', 'age', 'gender']]\n",
    "\n",
    "# do the same for the testing set\n",
    "mcTest = mcTest[['seq_num','diagnosis', 'dilute_library_concentration', 'age', 'gender']]"
   ]
  },
  {
   "cell_type": "code",
   "execution_count": 5,
   "metadata": {},
   "outputs": [],
   "source": [
    "# rename the first column name of the PC dataframes\n",
    "genesTrain_transformed_90.rename(columns={'Unnamed: 0':'seq_num'}, inplace=True)\n",
    "genesTest_transformed_90.rename(columns={'Unnamed: 0':'seq_num'}, inplace=True)"
   ]
  },
  {
   "cell_type": "code",
   "execution_count": 6,
   "metadata": {},
   "outputs": [],
   "source": [
    "# merge PCs with clinical/phenotypic data\n",
    "mcTrain = pd.merge(mcTrain, genesTrain_transformed_90, how=\"left\", on=\"seq_num\") \n",
    "mcTest = pd.merge(mcTest, genesTest_transformed_90, how=\"left\", on=\"seq_num\") "
   ]
  },
  {
   "cell_type": "markdown",
   "metadata": {},
   "source": [
    "**Shuffle the training and test sets**\n",
    "\n",
    "Currently, all disease states are in order - we don't want to feed to the network in order!"
   ]
  },
  {
   "cell_type": "code",
   "execution_count": 7,
   "metadata": {},
   "outputs": [],
   "source": [
    "import random\n",
    "random.seed(222020)\n",
    "mcTrain = mcTrain.sample(frac=1, axis = 0).reset_index(drop=True) # frac = 1 returns all rows in random order\n",
    "mcTest = mcTest.sample(frac=1, axis = 0).reset_index(drop=True)"
   ]
  },
  {
   "cell_type": "markdown",
   "metadata": {},
   "source": [
    "**Create a new numeric index and drop seq_num**\n",
    "For future code we want the index to be numeric"
   ]
  },
  {
   "cell_type": "code",
   "execution_count": 8,
   "metadata": {},
   "outputs": [],
   "source": [
    "# Create new ids\n",
    "mcTrain['id'] = mcTrain.index + 1\n",
    "mcTest['id'] = mcTest.index + 239\n",
    "\n",
    "# Drop num_seq\n",
    "mcTrain= mcTrain.drop(columns=[\"seq_num\"])\n",
    "mcTest = mcTest.drop(columns=[\"seq_num\"])"
   ]
  },
  {
   "cell_type": "markdown",
   "metadata": {},
   "source": [
    "**Remove Labels (Diagnosis) from the datasets**"
   ]
  },
  {
   "cell_type": "code",
   "execution_count": 9,
   "metadata": {},
   "outputs": [],
   "source": [
    "mcTrain_x = mcTrain.drop(columns=[\"diagnosis\"])\n",
    "mcTest_x = mcTest.drop(columns=[\"diagnosis\"])"
   ]
  },
  {
   "cell_type": "markdown",
   "metadata": {},
   "source": [
    "**Create Labeled Datasets**"
   ]
  },
  {
   "cell_type": "code",
   "execution_count": 10,
   "metadata": {},
   "outputs": [],
   "source": [
    "mcTrain_y = mcTrain[['id','diagnosis']]\n",
    "mcTest_y = mcTest[['id','diagnosis']]"
   ]
  },
  {
   "cell_type": "code",
   "execution_count": 11,
   "metadata": {},
   "outputs": [
    {
     "data": {
      "text/plain": [
       "array(['HEA', 'CRC', 'HCC', 'ESCA', 'STAD'], dtype=object)"
      ]
     },
     "execution_count": 11,
     "metadata": {},
     "output_type": "execute_result"
    }
   ],
   "source": [
    "# Examine the unique target variables\n",
    "mcTrain_y.diagnosis.unique()"
   ]
  },
  {
   "cell_type": "code",
   "execution_count": 12,
   "metadata": {},
   "outputs": [],
   "source": [
    "# Replace each outcome target with numerical value\n",
    "mcTrain_y = mcTrain_y.replace('HEA', 0)\n",
    "mcTrain_y = mcTrain_y.replace('CRC', 1)\n",
    "mcTrain_y = mcTrain_y.replace('ESCA', 2)\n",
    "mcTrain_y = mcTrain_y.replace('HCC', 3)\n",
    "mcTrain_y = mcTrain_y.replace('STAD', 4)\n",
    "\n",
    "mcTest_y = mcTest_y.replace('HEA', 0)\n",
    "mcTest_y = mcTest_y.replace('CRC', 1)\n",
    "mcTest_y = mcTest_y.replace('ESCA', 2)\n",
    "mcTest_y = mcTest_y.replace('HCC', 3)\n",
    "mcTest_y = mcTest_y.replace('STAD', 4)"
   ]
  },
  {
   "cell_type": "markdown",
   "metadata": {},
   "source": [
    "**Convert seq_num id to index**"
   ]
  },
  {
   "cell_type": "code",
   "execution_count": 13,
   "metadata": {},
   "outputs": [],
   "source": [
    "mcTrain_x = mcTrain_x.set_index('id')\n",
    "mcTrain_y = mcTrain_y.set_index('id')\n",
    "\n",
    "mcTest_x = mcTest_x.set_index('id')\n",
    "mcTest_y = mcTest_y.set_index('id')"
   ]
  },
  {
   "cell_type": "markdown",
   "metadata": {},
   "source": [
    "**Examine Distribution of Variables**"
   ]
  },
  {
   "cell_type": "code",
   "execution_count": 23,
   "metadata": {},
   "outputs": [
    {
     "data": {
      "text/plain": [
       "Text(0, 0.5, 'Frequency')"
      ]
     },
     "execution_count": 23,
     "metadata": {},
     "output_type": "execute_result"
    },
    {
     "data": {
      "image/png": "[encoded data removed]",
      "text/plain": [
       "<Figure size 432x288 with 1 Axes>"
      ]
     },
     "metadata": {
      "needs_background": "light"
     },
     "output_type": "display_data"
    }
   ],
   "source": [
    "# cfDNA Concentration\n",
    "plt.hist(mcTrain_x.dilute_library_concentration, bins='auto', color='#0504aa',\n",
    "                            alpha=0.7, rwidth=0.85)\n",
    "plt.grid(axis='y', alpha=0.75)\n",
    "plt.title('cfDNA Concentration')\n",
    "plt.xlabel('Dilute Library Concentration')\n",
    "plt.ylabel('Frequency')"
   ]
  },
  {
   "cell_type": "code",
   "execution_count": 24,
   "metadata": {},
   "outputs": [
    {
     "data": {
      "text/plain": [
       "Text(0, 0.5, 'Frequency')"
      ]
     },
     "execution_count": 24,
     "metadata": {},
     "output_type": "execute_result"
    },
    {
     "data": {
      "image/png": "[encoded data removed]",
      "text/plain": [
       "<Figure size 432x288 with 1 Axes>"
      ]
     },
     "metadata": {
      "needs_background": "light"
     },
     "output_type": "display_data"
    }
   ],
   "source": [
    "# Age\n",
    "plt.hist(mcTrain_x.age, bins='auto', color='#0504aa',\n",
    "                            alpha=0.7, rwidth=0.85)\n",
    "plt.grid(axis='y', alpha=0.75)\n",
    "plt.title('Age of Subjects')\n",
    "plt.xlabel('Age')\n",
    "plt.ylabel('Frequency')"
   ]
  },
  {
   "cell_type": "code",
   "execution_count": 25,
   "metadata": {},
   "outputs": [
    {
     "data": {
      "text/plain": [
       "Text(0, 0.5, 'Frequency')"
      ]
     },
     "execution_count": 25,
     "metadata": {},
     "output_type": "execute_result"
    },
    {
     "data": {
      "image/png": "[encoded data removed]",
      "text/plain": [
       "<Figure size 432x288 with 1 Axes>"
      ]
     },
     "metadata": {
      "needs_background": "light"
     },
     "output_type": "display_data"
    }
   ],
   "source": [
    "# principal component\n",
    "plt.hist(mcTrain_x.pc1, bins='auto', color='#0504aa',\n",
    "                            alpha=0.7, rwidth=0.85)\n",
    "plt.grid(axis='y', alpha=0.75)\n",
    "plt.title('Principal Component 1')\n",
    "plt.xlabel('PC1')\n",
    "plt.ylabel('Frequency')"
   ]
  },
  {
   "cell_type": "markdown",
   "metadata": {},
   "source": [
    "**Normalize Data**\n",
    "\n",
    "From my reading, it seems that normalization, as opposed to standardization, is the more optimal approach when data is not normally distributed. \n",
    "\n",
    "Normalization will rescale our values into range of [0,1]. We need to normalize both the training and test sets"
   ]
  },
  {
   "cell_type": "code",
   "execution_count": 17,
   "metadata": {},
   "outputs": [
    {
     "name": "stderr",
     "output_type": "stream",
     "text": [
      "C:\\Users\\User\\Anaconda3\\lib\\site-packages\\sklearn\\preprocessing\\data.py:323: DataConversionWarning: Data with input dtype int64, float64 were all converted to float64 by MinMaxScaler.\n",
      "  return self.partial_fit(X, y)\n",
      "C:\\Users\\User\\Anaconda3\\lib\\site-packages\\sklearn\\preprocessing\\data.py:323: DataConversionWarning: Data with input dtype int64, float64 were all converted to float64 by MinMaxScaler.\n",
      "  return self.partial_fit(X, y)\n"
     ]
    }
   ],
   "source": [
    "from sklearn.preprocessing import MinMaxScaler\n",
    "\n",
    "# The normalization function to be performed will convert dataframe into array, for this reason we'll have to convert it back\n",
    "# Thus, need to store columns and index\n",
    "# select all columns\n",
    "cols = list(mcTrain_x.columns.values)\n",
    "index_train = list(mcTrain_x.index)\n",
    "index_test = list(mcTest_x.index)\n",
    "\n",
    "# Normalize data\n",
    "scaler = MinMaxScaler()\n",
    "mcTrain_x = scaler.fit_transform(mcTrain_x)\n",
    "mcTest_x = scaler.fit_transform(mcTest_x)\n",
    "\n",
    "# Convert back to dataframe\n",
    "mcTrain_x = pd.DataFrame(mcTrain_x, columns = cols, index = index_train)\n",
    "mcTest_x = pd.DataFrame(mcTest_x, columns = cols, index = index_test)"
   ]
  },
  {
   "cell_type": "markdown",
   "metadata": {},
   "source": [
    "# Construct & Test Neural Network"
   ]
  },
  {
   "cell_type": "code",
   "execution_count": null,
   "metadata": {},
   "outputs": [],
   "source": [
    "# Import PyTorch packages\n",
    "import torch\n",
    "from torch import nn\n",
    "from torchvision import datasets, transforms\n",
    "from torch import optim\n",
    "from torch.utils.data.sampler import SubsetRandomSampler\n",
    "from torch.utils.data.dataloader import DataLoader\n",
    "from torch.utils.data import TensorDataset\n",
    "import torch.nn.functional as F\n",
    "from sklearn.metrics import roc_curve, auc\n",
    "from sklearn.metrics import classification_report, confusion_matrix, accuracy_score"
   ]
  },
  {
   "cell_type": "code",
   "execution_count": null,
   "metadata": {},
   "outputs": [],
   "source": [
    "# define list for results\n",
    "results_ls = []  \n",
    "\n",
    "# Leave-one-out-cross-fold validation\n",
    "for index in range (0,238):\n",
    "\n",
    "    # X - features\n",
    "    mcTrain_xy = mcTrain_x.drop(mcTrain_x.index[index])\n",
    "    mcTrain_xy = np.array(mcTrain_xy, dtype = \"float32\")\n",
    "    \n",
    "    # y - target/outputs\n",
    "    mcTrain_yz = mcTrain_y.drop(mcTrain_y.index[index]) \n",
    "    mcTrain_yz = np.array(mcTrain_yz, dtype = \"float32\")\n",
    "    \n",
    "    # reformatt into tensors\n",
    "    xb = torch.from_numpy(mcTrain_xy)\n",
    "    yb = torch.from_numpy(mcTrain_yz)\n",
    "    \n",
    "    # squeeze \n",
    "    yb = yb.squeeze(1) # function is used when we want to remove single-dimensional entries from the shape of an array.\n",
    "    \n",
    "    # add the equivalent training_test set\n",
    "    mcTrain_test_x = mcTrain_x.iloc[[index]]\n",
    "    mcTrain_test_x = np.array(mcTrain_test_x, dtype = \"float32\")\n",
    "            \n",
    "    # y - targets/outputs\n",
    "    mcTrain_test_y = mcTrain_y.iloc[[index]]\n",
    "    mcTrain_test_y = np.array(mcTrain_test_y, dtype = \"float32\")\n",
    "        \n",
    "    # Convert arrays into tensors\n",
    "    test_xb = torch.from_numpy(mcTrain_test_x)\n",
    "    test_yb = torch.from_numpy(mcTrain_test_y)\n",
    "    \n",
    "    # append all dfs\n",
    "    #df_train_x.append(xb)\n",
    "    #df_train_y.append(yb)\n",
    "    \n",
    "#### What I think I can do next is maybe forgo the df_train_x - list of dataframes, rather I may just be able to start iteratively running the code\n",
    "    # Define the batchsize\n",
    "    batch_size = 32\n",
    "\n",
    "    # Combine the arrays\n",
    "    trainloader = TensorDataset(xb, yb)\n",
    "    \n",
    "    # Training Loader\n",
    "    trainloader = DataLoader(trainloader, batch_size, shuffle=True)\n",
    "    \n",
    "    # Build Model\n",
    "    # Define the model with hidden layers - 50 inputs\n",
    "    model = nn.Sequential(nn.Linear(55, 30),\n",
    "                          nn.ReLU(),\n",
    "                          nn.Linear(30, 5))\n",
    "                      \n",
    "                      \n",
    "    # Set optimizer and learning rate\n",
    "    #optimizer = optim.SGD(model.parameters(), lr=0.003)\n",
    "\n",
    "    # Could also use Adam optimizer; similar to stochastic gradient descent, but uses momentum which can speed up the actual fitting process, and it also adjusts the learning rate for each of the individual parameters in the model\n",
    "    optimizer = optim.Adam(model.parameters(), lr=0.001)\n",
    "\n",
    "    # loss function\n",
    "    criterion = nn.CrossEntropyLoss() #don't use with softmax or sigmoid- PyTorch manual indicates \"This criterion combines nn.LogSoftmax() and nn.NLLLoss() in one single class.\"\n",
    "\n",
    "    \n",
    "    # Set epochs\n",
    "    epochs = 100\n",
    "    for e in range(epochs):\n",
    "        running_loss = 0\n",
    "        \n",
    "        for xb, yb in trainloader:\n",
    "            # Training pass\n",
    "            output = model.forward(xb)\n",
    "            loss = criterion(output, yb.long()) # Loss calculated from the output compared to the labels  \n",
    "            # clear gradients\n",
    "            optimizer.zero_grad()\n",
    "            loss.backward()\n",
    "            optimizer.step()\n",
    "        \n",
    "            running_loss += loss.item() # loss.item() gets the scalar value held in the loss. Running_loss = 0, \n",
    "            # += notation, says \"Add a value and the variable and assigns the result to that variable.\" So, adds the running_loss (0) with loss.item and assigns to running_loss\n",
    "        else:\n",
    "            print(\"Epoch {}/{}, Training loss: {:.5f}\".format(e+1, epochs, running_loss/len(trainloader)))\n",
    "\n",
    "    #for index in range (0,3):\n",
    "    # Apply the model to the whole testing dataset\n",
    "    ps = model(test_xb)\n",
    "        \n",
    "    #print('Probabilities', ps[:10])\n",
    "\n",
    "    # Obtain the top probability\n",
    "    top_p, top_class = ps.topk(1, dim=1)\n",
    "    #print('true vals', test_yb[:10])\n",
    "\n",
    "    #print(ps, top_p, top_class) # ps: shows us the model predictions for each of the 5 classes\n",
    "    # top_p: identifies the max of the classes\n",
    "    # top_class: gives us the 0-4 classification\n",
    "                \n",
    "    # Drop the grad \n",
    "    top_p = top_p.detach().numpy()\n",
    "    top_class = top_class.detach().numpy()\n",
    "\n",
    "    # convert to integers\n",
    "    top_class = top_class.astype(np.int)\n",
    "    test_yb = test_yb.numpy()\n",
    "    test_yb = test_yb.astype(np.int)\n",
    "    #print('top class', top_class[:10])\n",
    "    print('prediction:', top_class)\n",
    "    print('true:', test_yb)\n",
    "                \n",
    "# compare top_class to test_yb\n",
    "    #for index in range(0,3):\n",
    "    if top_class == test_yb:                \n",
    "        results = 1 # prediction and true value are equal\n",
    "    else: \n",
    "        results = 0\n",
    "    print('Results:', results)\n",
    "    \n",
    "    results_ls.append(results)\n",
    "    #results_ls.append(results_ls)\n",
    "    print(results_ls)  "
   ]
  },
  {
   "cell_type": "code",
   "execution_count": null,
   "metadata": {},
   "outputs": [],
   "source": [
    "percent_correct = sum(results_ls)\n",
    "percent_correct = percent_correct/len(mcTrain)*100\n",
    "print('Percent Correct', percent_correct)"
   ]
  },
  {
   "cell_type": "markdown",
   "metadata": {},
   "source": [
    "**Updates Feb 2:** I have the code working in a way that runs...but I need to ensure that the code is running in the way that I want. For each training set (Training set - 1), we want to run the neural network and then test the prediction of the 1 sample left out. Then we want to aggregate the predictions (test error) in order to average and have a sense of model performance. As of now, when I increase the number of samples + epochs we are getting no testing errors which seems highly unlikely and makes me thinkt there is a problem with my for loop.\n",
    "\n",
    "Most recent update: The append is working - should confirm that everything looks okay. Will also need to run all samples with more epochs. Additionally, I should try and create a function to test back which samples aren't being classified correctly. Will be interesting to look at. \n",
    "\n",
    "Update: I realzied that the gradients aren't clearing. This might be something with the for loop - but I think at the first for loop stage when we are creating the seprearte tests\n",
    "\n",
    "Update: Got the code to work! Needed to specify the nerual network code within the for loop\n",
    "\n",
    "Still need to figure out of if I should re-scale everything + test out different hyperparameters"
   ]
  },
  {
   "cell_type": "markdown",
   "metadata": {},
   "source": [
    "**Monday Feb 3:**\n",
    "\n",
    "* Standardize all data?\n",
    "* Start running tests \n",
    "* Create plot with each of the running loss to see how many epochs until converge? Different color for each test?\n",
    "* Determine which samples are being misclassified?\n",
    "* Develop grid search for hyperparameter tuning?"
   ]
  }
 ],
 "metadata": {
  "kernelspec": {
   "display_name": "Python 3",
   "language": "python",
   "name": "python3"
  },
  "language_info": {
   "codemirror_mode": {
    "name": "ipython",
    "version": 3
   },
   "file_extension": ".py",
   "mimetype": "text/x-python",
   "name": "python",
   "nbconvert_exporter": "python",
   "pygments_lexer": "ipython3",
   "version": "3.7.1"
  }
 },
 "nbformat": 4,
 "nbformat_minor": 2
}
