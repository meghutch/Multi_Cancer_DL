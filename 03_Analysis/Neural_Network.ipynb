{
 "cells": [
  {
   "cell_type": "markdown",
   "metadata": {},
   "source": [
    "# **Methylation Biomarkers for Predicting Cancer**\n",
    "\n",
    "## **Deep Learning Approaches for Cancer Classification**\n",
    "\n",
    "**Author:** Meg Hutch\n",
    "\n",
    "**Date:** February 14, 2020\n",
    "\n",
    "**Objective:** Use neural networks to classify cancer type. \n",
    "\n",
    "**Note:** In this version, I will only test the ability of methylation levels to classify cancer types. I will not include phenotypic data for now. Additionally, this version has our data split 70% for training and 30% for testing. The 70% training data will undergo leave-one-out-cross-fold validation to tune hyperparameters prior to testing final performance on the 30% test set. \n",
    "\n",
    "Note: This is the new version of the script where we normalize gene counts using DEseq2 in the initial pre-processing script in R. This provided more than double the number of Principal Components that make up 90% of the variance (157). Regardless, we will begin running the deep learning classifier on the revised data. "
   ]
  },
  {
   "cell_type": "code",
   "execution_count": 66,
   "metadata": {},
   "outputs": [],
   "source": [
    "import pandas as pd\n",
    "import numpy as np\n",
    "import matplotlib\n",
    "import matplotlib.pyplot as plt\n",
    "import matplotlib.colors\n",
    "import seaborn as sns"
   ]
  },
  {
   "cell_type": "code",
   "execution_count": 67,
   "metadata": {},
   "outputs": [
    {
     "data": {
      "text/plain": [
       "'/projects/p31049/Multi_Cancer_DL'"
      ]
     },
     "execution_count": 67,
     "metadata": {},
     "output_type": "execute_result"
    }
   ],
   "source": [
    "# set working directory for git hub\n",
    "import os\n",
    "os.chdir('/projects/p31049/Multi_Cancer_DL/')\n",
    "os. getcwd()"
   ]
  },
  {
   "cell_type": "markdown",
   "metadata": {},
   "source": [
    "**Import Training, Testing, and Principal component data**"
   ]
  },
  {
   "cell_type": "code",
   "execution_count": 68,
   "metadata": {},
   "outputs": [],
   "source": [
    "# Training set\n",
    "mcTrain = pd.read_csv('02_Processed_Data/mcTrain_70_30.csv')\n",
    "# Testing set\n",
    "mcTest = pd.read_csv('02_Processed_Data/mcTest_70_30.csv')\n",
    "# Principal Components that make up 90% of the variance of the training set\n",
    "genesTrain_transformed_90 = pd.read_csv('02_Processed_Data/genesTrain_transformed_157pc_70_30.csv')\n",
    "# Principal Components projected onto the test set\n",
    "genesTest_transformed_90 = pd.read_csv('02_Processed_Data/genesTest_transformed_157pc_70_30.csv')"
   ]
  },
  {
   "cell_type": "code",
   "execution_count": 69,
   "metadata": {},
   "outputs": [
    {
     "data": {
      "text/html": [
       "<div>\n",
       "<style scoped>\n",
       "    .dataframe tbody tr th:only-of-type {\n",
       "        vertical-align: middle;\n",
       "    }\n",
       "\n",
       "    .dataframe tbody tr th {\n",
       "        vertical-align: top;\n",
       "    }\n",
       "\n",
       "    .dataframe thead th {\n",
       "        text-align: right;\n",
       "    }\n",
       "</style>\n",
       "<table border=\"1\" class=\"dataframe\">\n",
       "  <thead>\n",
       "    <tr style=\"text-align: right;\">\n",
       "      <th></th>\n",
       "      <th>Unnamed: 0</th>\n",
       "      <th>pc1</th>\n",
       "      <th>pc2</th>\n",
       "      <th>pc3</th>\n",
       "      <th>pc4</th>\n",
       "      <th>pc5</th>\n",
       "      <th>pc6</th>\n",
       "      <th>pc7</th>\n",
       "      <th>pc8</th>\n",
       "      <th>pc9</th>\n",
       "      <th>...</th>\n",
       "      <th>pc148</th>\n",
       "      <th>pc149</th>\n",
       "      <th>pc150</th>\n",
       "      <th>pc151</th>\n",
       "      <th>pc152</th>\n",
       "      <th>pc153</th>\n",
       "      <th>pc154</th>\n",
       "      <th>pc155</th>\n",
       "      <th>pc156</th>\n",
       "      <th>pc157</th>\n",
       "    </tr>\n",
       "  </thead>\n",
       "  <tbody>\n",
       "    <tr>\n",
       "      <th>0</th>\n",
       "      <td>SEQF2032</td>\n",
       "      <td>-28.945059</td>\n",
       "      <td>-32.403797</td>\n",
       "      <td>-0.519967</td>\n",
       "      <td>-27.074691</td>\n",
       "      <td>-14.202266</td>\n",
       "      <td>19.993461</td>\n",
       "      <td>18.922518</td>\n",
       "      <td>-6.985856</td>\n",
       "      <td>0.358684</td>\n",
       "      <td>...</td>\n",
       "      <td>-5.164339</td>\n",
       "      <td>-0.560490</td>\n",
       "      <td>5.182056</td>\n",
       "      <td>6.927316</td>\n",
       "      <td>0.949892</td>\n",
       "      <td>-4.678334</td>\n",
       "      <td>-3.688339</td>\n",
       "      <td>0.433768</td>\n",
       "      <td>-6.032803</td>\n",
       "      <td>4.715499</td>\n",
       "    </tr>\n",
       "    <tr>\n",
       "      <th>1</th>\n",
       "      <td>SEQF2036</td>\n",
       "      <td>-44.217894</td>\n",
       "      <td>24.452308</td>\n",
       "      <td>33.042421</td>\n",
       "      <td>-16.371200</td>\n",
       "      <td>-11.621861</td>\n",
       "      <td>-14.680939</td>\n",
       "      <td>1.362154</td>\n",
       "      <td>-4.139965</td>\n",
       "      <td>-0.503822</td>\n",
       "      <td>...</td>\n",
       "      <td>3.135182</td>\n",
       "      <td>1.609314</td>\n",
       "      <td>0.540895</td>\n",
       "      <td>1.674428</td>\n",
       "      <td>0.780811</td>\n",
       "      <td>6.550943</td>\n",
       "      <td>2.203284</td>\n",
       "      <td>-2.186134</td>\n",
       "      <td>2.337185</td>\n",
       "      <td>-1.654099</td>\n",
       "    </tr>\n",
       "    <tr>\n",
       "      <th>2</th>\n",
       "      <td>SEQF2037</td>\n",
       "      <td>0.402742</td>\n",
       "      <td>-2.331201</td>\n",
       "      <td>-0.163246</td>\n",
       "      <td>-27.016531</td>\n",
       "      <td>-3.761961</td>\n",
       "      <td>22.911067</td>\n",
       "      <td>9.722398</td>\n",
       "      <td>2.136080</td>\n",
       "      <td>2.637944</td>\n",
       "      <td>...</td>\n",
       "      <td>-2.626749</td>\n",
       "      <td>0.343140</td>\n",
       "      <td>-3.307787</td>\n",
       "      <td>-1.680439</td>\n",
       "      <td>-2.682968</td>\n",
       "      <td>2.546865</td>\n",
       "      <td>0.303318</td>\n",
       "      <td>-2.718366</td>\n",
       "      <td>-0.652620</td>\n",
       "      <td>1.215243</td>\n",
       "    </tr>\n",
       "    <tr>\n",
       "      <th>3</th>\n",
       "      <td>SEQF2038</td>\n",
       "      <td>22.945211</td>\n",
       "      <td>89.824662</td>\n",
       "      <td>-62.017133</td>\n",
       "      <td>-29.163198</td>\n",
       "      <td>3.770062</td>\n",
       "      <td>10.497954</td>\n",
       "      <td>2.137644</td>\n",
       "      <td>1.693253</td>\n",
       "      <td>5.346057</td>\n",
       "      <td>...</td>\n",
       "      <td>3.709008</td>\n",
       "      <td>-0.659335</td>\n",
       "      <td>4.609737</td>\n",
       "      <td>-4.582692</td>\n",
       "      <td>-5.888171</td>\n",
       "      <td>-3.690396</td>\n",
       "      <td>-1.855820</td>\n",
       "      <td>0.342069</td>\n",
       "      <td>0.081236</td>\n",
       "      <td>0.658757</td>\n",
       "    </tr>\n",
       "    <tr>\n",
       "      <th>4</th>\n",
       "      <td>SEQF2040</td>\n",
       "      <td>-49.427962</td>\n",
       "      <td>-13.271621</td>\n",
       "      <td>-0.336084</td>\n",
       "      <td>-20.161418</td>\n",
       "      <td>-17.332071</td>\n",
       "      <td>-0.177102</td>\n",
       "      <td>13.728438</td>\n",
       "      <td>-8.602698</td>\n",
       "      <td>0.822969</td>\n",
       "      <td>...</td>\n",
       "      <td>-1.294989</td>\n",
       "      <td>-6.169188</td>\n",
       "      <td>4.229857</td>\n",
       "      <td>0.294180</td>\n",
       "      <td>3.464734</td>\n",
       "      <td>-1.982001</td>\n",
       "      <td>0.224488</td>\n",
       "      <td>1.915049</td>\n",
       "      <td>8.692484</td>\n",
       "      <td>4.023793</td>\n",
       "    </tr>\n",
       "  </tbody>\n",
       "</table>\n",
       "<p>5 rows × 158 columns</p>\n",
       "</div>"
      ],
      "text/plain": [
       "  Unnamed: 0        pc1        pc2        pc3        pc4        pc5  \\\n",
       "0   SEQF2032 -28.945059 -32.403797  -0.519967 -27.074691 -14.202266   \n",
       "1   SEQF2036 -44.217894  24.452308  33.042421 -16.371200 -11.621861   \n",
       "2   SEQF2037   0.402742  -2.331201  -0.163246 -27.016531  -3.761961   \n",
       "3   SEQF2038  22.945211  89.824662 -62.017133 -29.163198   3.770062   \n",
       "4   SEQF2040 -49.427962 -13.271621  -0.336084 -20.161418 -17.332071   \n",
       "\n",
       "         pc6        pc7       pc8       pc9  ...     pc148     pc149  \\\n",
       "0  19.993461  18.922518 -6.985856  0.358684  ... -5.164339 -0.560490   \n",
       "1 -14.680939   1.362154 -4.139965 -0.503822  ...  3.135182  1.609314   \n",
       "2  22.911067   9.722398  2.136080  2.637944  ... -2.626749  0.343140   \n",
       "3  10.497954   2.137644  1.693253  5.346057  ...  3.709008 -0.659335   \n",
       "4  -0.177102  13.728438 -8.602698  0.822969  ... -1.294989 -6.169188   \n",
       "\n",
       "      pc150     pc151     pc152     pc153     pc154     pc155     pc156  \\\n",
       "0  5.182056  6.927316  0.949892 -4.678334 -3.688339  0.433768 -6.032803   \n",
       "1  0.540895  1.674428  0.780811  6.550943  2.203284 -2.186134  2.337185   \n",
       "2 -3.307787 -1.680439 -2.682968  2.546865  0.303318 -2.718366 -0.652620   \n",
       "3  4.609737 -4.582692 -5.888171 -3.690396 -1.855820  0.342069  0.081236   \n",
       "4  4.229857  0.294180  3.464734 -1.982001  0.224488  1.915049  8.692484   \n",
       "\n",
       "      pc157  \n",
       "0  4.715499  \n",
       "1 -1.654099  \n",
       "2  1.215243  \n",
       "3  0.658757  \n",
       "4  4.023793  \n",
       "\n",
       "[5 rows x 158 columns]"
      ]
     },
     "execution_count": 69,
     "metadata": {},
     "output_type": "execute_result"
    }
   ],
   "source": [
    "mcTrain.head()\n",
    "genesTrain_transformed_90.head()"
   ]
  },
  {
   "cell_type": "markdown",
   "metadata": {},
   "source": [
    "# **Pre-Process Data**"
   ]
  },
  {
   "cell_type": "code",
   "execution_count": 70,
   "metadata": {},
   "outputs": [],
   "source": [
    "# remove genetic data from the mcTrain dataset\n",
    "mcTrain = mcTrain[['seq_num','diagnosis', 'dilute_library_concentration', 'age', 'gender', 'frag_mean']]\n",
    "\n",
    "# do the same for the testing set\n",
    "mcTest = mcTest[['seq_num','diagnosis', 'dilute_library_concentration', 'age', 'gender', 'frag_mean']]"
   ]
  },
  {
   "cell_type": "code",
   "execution_count": 71,
   "metadata": {},
   "outputs": [],
   "source": [
    "# rename the first column name of the PC dataframes\n",
    "genesTrain_transformed_90.rename(columns={'Unnamed: 0':'seq_num'}, inplace=True)\n",
    "genesTest_transformed_90.rename(columns={'Unnamed: 0':'seq_num'}, inplace=True)"
   ]
  },
  {
   "cell_type": "code",
   "execution_count": 72,
   "metadata": {},
   "outputs": [],
   "source": [
    "# merge PCs with clinical/phenotypic data\n",
    "mcTrain = pd.merge(mcTrain, genesTrain_transformed_90, how=\"left\", on=\"seq_num\") \n",
    "mcTest = pd.merge(mcTest, genesTest_transformed_90, how=\"left\", on=\"seq_num\") "
   ]
  },
  {
   "cell_type": "markdown",
   "metadata": {},
   "source": [
    "**Shuffle the training and test sets**\n",
    "\n",
    "Currently, all disease states are in order - we don't want to feed to the network in order!"
   ]
  },
  {
   "cell_type": "code",
   "execution_count": 73,
   "metadata": {},
   "outputs": [],
   "source": [
    "import random\n",
    "random.seed(222020)\n",
    "mcTrain = mcTrain.sample(frac=1, axis = 0).reset_index(drop=True) # frac = 1 returns all rows in random order\n",
    "mcTest = mcTest.sample(frac=1, axis = 0).reset_index(drop=True)"
   ]
  },
  {
   "cell_type": "markdown",
   "metadata": {},
   "source": [
    "**Create a new numeric index and drop seq_num and demographic data for these experiments**\n",
    "\n",
    "For future code we want the index to be numeric"
   ]
  },
  {
   "cell_type": "code",
   "execution_count": 74,
   "metadata": {},
   "outputs": [],
   "source": [
    "# Create new ids\n",
    "mcTrain['id'] = mcTrain.index + 1\n",
    "mcTest['id'] = mcTest.index + 243\n",
    "\n",
    "# Drop num_seq\n",
    "mcTrain = mcTrain.drop(columns=[\"seq_num\", \"dilute_library_concentration\", \"age\", \"gender\", \"frag_mean\"])\n",
    "mcTest = mcTest.drop(columns=[\"seq_num\", \"dilute_library_concentration\", \"age\", \"gender\", \"frag_mean\"])"
   ]
  },
  {
   "cell_type": "markdown",
   "metadata": {},
   "source": [
    "**Remove Labels (Diagnosis) from the datasets**"
   ]
  },
  {
   "cell_type": "code",
   "execution_count": 75,
   "metadata": {},
   "outputs": [],
   "source": [
    "mcTrain_x = mcTrain.drop(columns=[\"diagnosis\"])\n",
    "mcTest_x = mcTest.drop(columns=[\"diagnosis\"])"
   ]
  },
  {
   "cell_type": "markdown",
   "metadata": {},
   "source": [
    "**Create Labeled Datasets**"
   ]
  },
  {
   "cell_type": "code",
   "execution_count": 76,
   "metadata": {},
   "outputs": [],
   "source": [
    "mcTrain_y = mcTrain[['id','diagnosis']]\n",
    "mcTest_y = mcTest[['id','diagnosis']]"
   ]
  },
  {
   "cell_type": "code",
   "execution_count": 77,
   "metadata": {},
   "outputs": [
    {
     "data": {
      "text/plain": [
       "array(['CRC', 'ESCA', 'HCC', 'BRCA', 'STAD', 'GBM', 'HEA'], dtype=object)"
      ]
     },
     "execution_count": 77,
     "metadata": {},
     "output_type": "execute_result"
    }
   ],
   "source": [
    "# Examine the unique target variables\n",
    "mcTrain_y.diagnosis.unique()"
   ]
  },
  {
   "cell_type": "code",
   "execution_count": 78,
   "metadata": {},
   "outputs": [],
   "source": [
    "# Replace each outcome target with numerical value\n",
    "mcTrain_y = mcTrain_y.replace('HEA', 0)\n",
    "mcTrain_y = mcTrain_y.replace('CRC', 1)\n",
    "mcTrain_y = mcTrain_y.replace('ESCA', 2)\n",
    "mcTrain_y = mcTrain_y.replace('HCC', 3)\n",
    "mcTrain_y = mcTrain_y.replace('STAD', 4)\n",
    "mcTrain_y = mcTrain_y.replace('GBM', 5)\n",
    "mcTrain_y = mcTrain_y.replace('BRCA', 6)\n",
    "\n",
    "mcTest_y = mcTest_y.replace('HEA', 0)\n",
    "mcTest_y = mcTest_y.replace('CRC', 1)\n",
    "mcTest_y = mcTest_y.replace('ESCA', 2)\n",
    "mcTest_y = mcTest_y.replace('HCC', 3)\n",
    "mcTest_y = mcTest_y.replace('STAD', 4)\n",
    "mcTest_y = mcTest_y.replace('GBM', 5)\n",
    "mcTest_y = mcTest_y.replace('BRCA', 6)"
   ]
  },
  {
   "cell_type": "markdown",
   "metadata": {},
   "source": [
    "**Convert seq_num id to index**"
   ]
  },
  {
   "cell_type": "code",
   "execution_count": 79,
   "metadata": {},
   "outputs": [],
   "source": [
    "mcTrain_x = mcTrain_x.set_index('id')\n",
    "mcTrain_y = mcTrain_y.set_index('id')\n",
    "\n",
    "mcTest_x = mcTest_x.set_index('id')\n",
    "mcTest_y = mcTest_y.set_index('id')"
   ]
  },
  {
   "cell_type": "markdown",
   "metadata": {},
   "source": [
    "**Normalize Data**\n",
    "\n",
    "From my reading, it seems that normalization, as opposed to standardization, is the more optimal approach when data is not normally distributed. \n",
    "\n",
    "Normalization will rescale our values into range of [0,1]. We need to normalize both the training and test sets"
   ]
  },
  {
   "cell_type": "code",
   "execution_count": 80,
   "metadata": {},
   "outputs": [],
   "source": [
    "from sklearn.preprocessing import MinMaxScaler\n",
    "\n",
    "# The normalization function to be performed will convert dataframe into array, for this reason we'll have to convert it back\n",
    "# Thus, need to store columns and index\n",
    "# select all columns\n",
    "cols = list(mcTrain_x.columns.values)\n",
    "index_train = list(mcTrain_x.index)\n",
    "index_test = list(mcTest_x.index)\n",
    "\n",
    "# Normalize data\n",
    "scaler = MinMaxScaler()\n",
    "mcTrain_x = scaler.fit_transform(mcTrain_x.astype(np.float))\n",
    "mcTest_x = scaler.fit_transform(mcTest_x.astype(np.float))\n",
    "\n",
    "# Convert back to dataframe\n",
    "mcTrain_x = pd.DataFrame(mcTrain_x, columns = cols, index = index_train)\n",
    "mcTest_x = pd.DataFrame(mcTest_x, columns = cols, index = index_test)"
   ]
  },
  {
   "cell_type": "markdown",
   "metadata": {},
   "source": [
    "# **Downsampling**"
   ]
  },
  {
   "cell_type": "code",
   "execution_count": 81,
   "metadata": {},
   "outputs": [
    {
     "name": "stdout",
     "output_type": "stream",
     "text": [
      "    diagnosis\n",
      "id           \n",
      "1           1\n",
      "2           2\n",
      "3           2\n",
      "4           1\n",
      "5           1\n",
      "6           1\n",
      "7           1\n",
      "8           3\n",
      "9           3\n",
      "10          6\n",
      "11          4\n",
      "12          5\n",
      "13          3\n",
      "14          3\n",
      "15          3\n",
      "16          3\n",
      "18          4\n",
      "20          3\n",
      "21          1\n",
      "22          2\n",
      "[17, 19, 25, 26, 28, 35, 37, 42, 43, 46, 48, 51, 52, 56, 61, 63, 64, 67, 78, 81, 82, 84, 87, 91, 92, 94, 95, 96, 99, 101]\n",
      "# Healthy Patients (31, 1)\n",
      "# Full Training Set (212, 1)\n"
     ]
    }
   ],
   "source": [
    "# Subset healthy patients\n",
    "class0 = mcTrain_y[mcTrain_y.diagnosis == 0]\n",
    "\n",
    "# Select only 30 healthy patients - we will remove these patients\n",
    "class0 = class0.head(30)\n",
    "class0 = class0.index.tolist()\n",
    "\n",
    "mcTrain_y = mcTrain_y[~mcTrain_y.index.isin(class0)]\n",
    "print(mcTrain_y.head(20))\n",
    "\n",
    "# Print the cases we wanted to remove\n",
    "print(class0)\n",
    "\n",
    "#Observe class distributions\n",
    "class0_new = mcTrain_y[mcTrain_y.diagnosis == 0]\n",
    "print('# Healthy Patients', class0_new.shape) # shoud be 31\n",
    "print('# Full Training Set', mcTrain_y.shape)"
   ]
  },
  {
   "cell_type": "markdown",
   "metadata": {},
   "source": [
    "**Remove excess healthy patients from the input training set**"
   ]
  },
  {
   "cell_type": "code",
   "execution_count": 83,
   "metadata": {},
   "outputs": [
    {
     "name": "stdout",
     "output_type": "stream",
     "text": [
      "# Full Training Set           pc1       pc2       pc3       pc4       pc5       pc6       pc7  \\\n",
      "1    0.145890  0.472849  0.300517  0.277395  0.246940  0.138856  0.137264   \n",
      "2    0.293914  0.474188  0.446039  0.163044  0.141580  0.541373  0.226053   \n",
      "3    0.222786  0.468694  0.310928  0.497762  0.147533  0.361219  0.139404   \n",
      "4    0.301754  0.365650  0.345429  0.823359  0.123556  0.330222  0.098939   \n",
      "5    0.260164  0.496975  0.333187  0.301571  0.150425  0.351253  0.206076   \n",
      "..        ...       ...       ...       ...       ...       ...       ...   \n",
      "238  0.317733  0.263839  0.339166  0.257026  0.126273  0.551731  0.281176   \n",
      "239  0.432476  0.350453  0.444885  0.770263  0.150381  0.000000  0.237331   \n",
      "240  0.305303  0.406216  0.326541  0.241104  0.158980  0.528615  0.228235   \n",
      "241  0.738019  0.516699  0.450546  0.201814  0.066691  0.361829  0.183415   \n",
      "242  0.322057  0.281809  0.348708  0.098676  0.102548  0.664349  0.304150   \n",
      "\n",
      "          pc8       pc9      pc10  ...     pc148     pc149     pc150  \\\n",
      "1    0.471336  0.319678  0.413600  ...  0.498268  0.401265  0.489568   \n",
      "2    0.458331  0.312167  0.364516  ...  0.424473  0.484026  0.626125   \n",
      "3    0.457382  0.300652  0.350481  ...  0.654713  0.375767  0.553233   \n",
      "4    0.453823  0.302301  0.340069  ...  0.633810  0.293720  0.412814   \n",
      "5    0.453215  0.308431  0.366839  ...  0.304782  0.156933  0.480831   \n",
      "..        ...       ...       ...  ...       ...       ...       ...   \n",
      "238  0.455281  0.309777  0.354695  ...  0.461576  0.458848  0.546267   \n",
      "239  0.475591  0.303242  0.309841  ...  0.452153  0.368782  0.460942   \n",
      "240  0.456514  0.314918  0.371699  ...  0.522675  0.458362  0.240738   \n",
      "241  0.423760  0.291158  0.346302  ...  0.329402  0.319615  0.410767   \n",
      "242  0.439977  0.313973  0.335976  ...  0.318932  0.359193  0.617358   \n",
      "\n",
      "        pc151     pc152     pc153     pc154     pc155     pc156     pc157  \n",
      "1    0.391126  0.326823  0.417612  0.432254  0.418887  0.518503  0.472374  \n",
      "2    0.426094  0.376404  0.531476  0.220551  0.254313  0.267542  0.466351  \n",
      "3    0.515824  0.088702  0.712563  0.893219  0.417544  0.563393  0.193618  \n",
      "4    0.588527  0.490114  0.430191  0.364801  0.294443  0.616425  0.577549  \n",
      "5    0.374198  0.728650  0.546398  0.560629  0.435275  0.441382  0.936189  \n",
      "..        ...       ...       ...       ...       ...       ...       ...  \n",
      "238  0.693716  0.303540  0.258538  0.400083  0.427300  0.464623  0.226132  \n",
      "239  0.501519  0.362210  0.454972  0.439119  0.414508  0.483260  0.483505  \n",
      "240  0.459044  0.288114  0.370636  0.357406  0.168725  0.418755  0.270576  \n",
      "241  0.510057  0.298139  0.674803  0.694849  0.541394  0.522042  0.559081  \n",
      "242  0.662075  0.376282  0.326681  0.334508  0.419912  0.322777  0.613675  \n",
      "\n",
      "[212 rows x 157 columns]\n"
     ]
    }
   ],
   "source": [
    "mcTrain_x = mcTrain_x[~mcTrain_x.index.isin(class0)]\n",
    "print('# Full Training Set', mcTrain_x)"
   ]
  },
  {
   "cell_type": "markdown",
   "metadata": {},
   "source": [
    "# Construct & Run Neural Network"
   ]
  },
  {
   "cell_type": "code",
   "execution_count": 84,
   "metadata": {},
   "outputs": [],
   "source": [
    "# Import PyTorch packages\n",
    "import torch\n",
    "from torch import nn\n",
    "#from torchvision import datasets, transforms\n",
    "from torch import optim\n",
    "from torch.utils.data.sampler import SubsetRandomSampler\n",
    "from torch.utils.data.dataloader import DataLoader\n",
    "from torch.utils.data import TensorDataset\n",
    "import torch.nn.functional as F\n",
    "from sklearn.metrics import roc_curve, auc\n",
    "from sklearn.metrics import classification_report, confusion_matrix, accuracy_score"
   ]
  },
  {
   "cell_type": "code",
   "execution_count": 86,
   "metadata": {
    "scrolled": true
   },
   "outputs": [
    {
     "name": "stdout",
     "output_type": "stream",
     "text": [
      "[0]\n",
      "[0, 0]\n"
     ]
    },
    {
     "ename": "KeyboardInterrupt",
     "evalue": "",
     "output_type": "error",
     "traceback": [
      "\u001b[0;31m---------------------------------------------------------------------------\u001b[0m",
      "\u001b[0;31mKeyboardInterrupt\u001b[0m                         Traceback (most recent call last)",
      "\u001b[0;32m<ipython-input-86-9245c517100a>\u001b[0m in \u001b[0;36m<module>\u001b[0;34m\u001b[0m\n\u001b[1;32m     75\u001b[0m \u001b[0;34m\u001b[0m\u001b[0m\n\u001b[1;32m     76\u001b[0m         \u001b[0;31m# Run the model for each xb, yb in the trainloader. For the number of epochs specified, the\u001b[0m\u001b[0;34m\u001b[0m\u001b[0;34m\u001b[0m\u001b[0;34m\u001b[0m\u001b[0m\n\u001b[0;32m---> 77\u001b[0;31m         \u001b[0;32mfor\u001b[0m \u001b[0mxb\u001b[0m\u001b[0;34m,\u001b[0m \u001b[0myb\u001b[0m \u001b[0;32min\u001b[0m \u001b[0mtrainloader\u001b[0m\u001b[0;34m:\u001b[0m\u001b[0;34m\u001b[0m\u001b[0;34m\u001b[0m\u001b[0m\n\u001b[0m\u001b[1;32m     78\u001b[0m             \u001b[0;31m# clear gradients - otherwise they are stored\u001b[0m\u001b[0;34m\u001b[0m\u001b[0;34m\u001b[0m\u001b[0;34m\u001b[0m\u001b[0m\n\u001b[1;32m     79\u001b[0m             \u001b[0moptimizer\u001b[0m\u001b[0;34m.\u001b[0m\u001b[0mzero_grad\u001b[0m\u001b[0;34m(\u001b[0m\u001b[0;34m)\u001b[0m\u001b[0;34m\u001b[0m\u001b[0;34m\u001b[0m\u001b[0m\n",
      "\u001b[0;32m~/.conda/envs/envs_dl/lib/python3.7/site-packages/torch/utils/data/dataloader.py\u001b[0m in \u001b[0;36m__next__\u001b[0;34m(self)\u001b[0m\n\u001b[1;32m    344\u001b[0m     \u001b[0;32mdef\u001b[0m \u001b[0m__next__\u001b[0m\u001b[0;34m(\u001b[0m\u001b[0mself\u001b[0m\u001b[0;34m)\u001b[0m\u001b[0;34m:\u001b[0m\u001b[0;34m\u001b[0m\u001b[0;34m\u001b[0m\u001b[0m\n\u001b[1;32m    345\u001b[0m         \u001b[0mindex\u001b[0m \u001b[0;34m=\u001b[0m \u001b[0mself\u001b[0m\u001b[0;34m.\u001b[0m\u001b[0m_next_index\u001b[0m\u001b[0;34m(\u001b[0m\u001b[0;34m)\u001b[0m  \u001b[0;31m# may raise StopIteration\u001b[0m\u001b[0;34m\u001b[0m\u001b[0;34m\u001b[0m\u001b[0m\n\u001b[0;32m--> 346\u001b[0;31m         \u001b[0mdata\u001b[0m \u001b[0;34m=\u001b[0m \u001b[0mself\u001b[0m\u001b[0;34m.\u001b[0m\u001b[0m_dataset_fetcher\u001b[0m\u001b[0;34m.\u001b[0m\u001b[0mfetch\u001b[0m\u001b[0;34m(\u001b[0m\u001b[0mindex\u001b[0m\u001b[0;34m)\u001b[0m  \u001b[0;31m# may raise StopIteration\u001b[0m\u001b[0;34m\u001b[0m\u001b[0;34m\u001b[0m\u001b[0m\n\u001b[0m\u001b[1;32m    347\u001b[0m         \u001b[0;32mif\u001b[0m \u001b[0mself\u001b[0m\u001b[0;34m.\u001b[0m\u001b[0m_pin_memory\u001b[0m\u001b[0;34m:\u001b[0m\u001b[0;34m\u001b[0m\u001b[0;34m\u001b[0m\u001b[0m\n\u001b[1;32m    348\u001b[0m             \u001b[0mdata\u001b[0m \u001b[0;34m=\u001b[0m \u001b[0m_utils\u001b[0m\u001b[0;34m.\u001b[0m\u001b[0mpin_memory\u001b[0m\u001b[0;34m.\u001b[0m\u001b[0mpin_memory\u001b[0m\u001b[0;34m(\u001b[0m\u001b[0mdata\u001b[0m\u001b[0;34m)\u001b[0m\u001b[0;34m\u001b[0m\u001b[0;34m\u001b[0m\u001b[0m\n",
      "\u001b[0;32m~/.conda/envs/envs_dl/lib/python3.7/site-packages/torch/utils/data/_utils/fetch.py\u001b[0m in \u001b[0;36mfetch\u001b[0;34m(self, possibly_batched_index)\u001b[0m\n\u001b[1;32m     45\u001b[0m         \u001b[0;32melse\u001b[0m\u001b[0;34m:\u001b[0m\u001b[0;34m\u001b[0m\u001b[0;34m\u001b[0m\u001b[0m\n\u001b[1;32m     46\u001b[0m             \u001b[0mdata\u001b[0m \u001b[0;34m=\u001b[0m \u001b[0mself\u001b[0m\u001b[0;34m.\u001b[0m\u001b[0mdataset\u001b[0m\u001b[0;34m[\u001b[0m\u001b[0mpossibly_batched_index\u001b[0m\u001b[0;34m]\u001b[0m\u001b[0;34m\u001b[0m\u001b[0;34m\u001b[0m\u001b[0m\n\u001b[0;32m---> 47\u001b[0;31m         \u001b[0;32mreturn\u001b[0m \u001b[0mself\u001b[0m\u001b[0;34m.\u001b[0m\u001b[0mcollate_fn\u001b[0m\u001b[0;34m(\u001b[0m\u001b[0mdata\u001b[0m\u001b[0;34m)\u001b[0m\u001b[0;34m\u001b[0m\u001b[0;34m\u001b[0m\u001b[0m\n\u001b[0m",
      "\u001b[0;32m~/.conda/envs/envs_dl/lib/python3.7/site-packages/torch/utils/data/_utils/collate.py\u001b[0m in \u001b[0;36mdefault_collate\u001b[0;34m(batch)\u001b[0m\n\u001b[1;32m     77\u001b[0m     \u001b[0;32melif\u001b[0m \u001b[0misinstance\u001b[0m\u001b[0;34m(\u001b[0m\u001b[0melem\u001b[0m\u001b[0;34m,\u001b[0m \u001b[0mcontainer_abcs\u001b[0m\u001b[0;34m.\u001b[0m\u001b[0mSequence\u001b[0m\u001b[0;34m)\u001b[0m\u001b[0;34m:\u001b[0m\u001b[0;34m\u001b[0m\u001b[0;34m\u001b[0m\u001b[0m\n\u001b[1;32m     78\u001b[0m         \u001b[0mtransposed\u001b[0m \u001b[0;34m=\u001b[0m \u001b[0mzip\u001b[0m\u001b[0;34m(\u001b[0m\u001b[0;34m*\u001b[0m\u001b[0mbatch\u001b[0m\u001b[0;34m)\u001b[0m\u001b[0;34m\u001b[0m\u001b[0;34m\u001b[0m\u001b[0m\n\u001b[0;32m---> 79\u001b[0;31m         \u001b[0;32mreturn\u001b[0m \u001b[0;34m[\u001b[0m\u001b[0mdefault_collate\u001b[0m\u001b[0;34m(\u001b[0m\u001b[0msamples\u001b[0m\u001b[0;34m)\u001b[0m \u001b[0;32mfor\u001b[0m \u001b[0msamples\u001b[0m \u001b[0;32min\u001b[0m \u001b[0mtransposed\u001b[0m\u001b[0;34m]\u001b[0m\u001b[0;34m\u001b[0m\u001b[0;34m\u001b[0m\u001b[0m\n\u001b[0m\u001b[1;32m     80\u001b[0m \u001b[0;34m\u001b[0m\u001b[0m\n\u001b[1;32m     81\u001b[0m     \u001b[0;32mraise\u001b[0m \u001b[0mTypeError\u001b[0m\u001b[0;34m(\u001b[0m\u001b[0mdefault_collate_err_msg_format\u001b[0m\u001b[0;34m.\u001b[0m\u001b[0mformat\u001b[0m\u001b[0;34m(\u001b[0m\u001b[0melem_type\u001b[0m\u001b[0;34m)\u001b[0m\u001b[0;34m)\u001b[0m\u001b[0;34m\u001b[0m\u001b[0;34m\u001b[0m\u001b[0m\n",
      "\u001b[0;32m~/.conda/envs/envs_dl/lib/python3.7/site-packages/torch/utils/data/_utils/collate.py\u001b[0m in \u001b[0;36m<listcomp>\u001b[0;34m(.0)\u001b[0m\n\u001b[1;32m     77\u001b[0m     \u001b[0;32melif\u001b[0m \u001b[0misinstance\u001b[0m\u001b[0;34m(\u001b[0m\u001b[0melem\u001b[0m\u001b[0;34m,\u001b[0m \u001b[0mcontainer_abcs\u001b[0m\u001b[0;34m.\u001b[0m\u001b[0mSequence\u001b[0m\u001b[0;34m)\u001b[0m\u001b[0;34m:\u001b[0m\u001b[0;34m\u001b[0m\u001b[0;34m\u001b[0m\u001b[0m\n\u001b[1;32m     78\u001b[0m         \u001b[0mtransposed\u001b[0m \u001b[0;34m=\u001b[0m \u001b[0mzip\u001b[0m\u001b[0;34m(\u001b[0m\u001b[0;34m*\u001b[0m\u001b[0mbatch\u001b[0m\u001b[0;34m)\u001b[0m\u001b[0;34m\u001b[0m\u001b[0;34m\u001b[0m\u001b[0m\n\u001b[0;32m---> 79\u001b[0;31m         \u001b[0;32mreturn\u001b[0m \u001b[0;34m[\u001b[0m\u001b[0mdefault_collate\u001b[0m\u001b[0;34m(\u001b[0m\u001b[0msamples\u001b[0m\u001b[0;34m)\u001b[0m \u001b[0;32mfor\u001b[0m \u001b[0msamples\u001b[0m \u001b[0;32min\u001b[0m \u001b[0mtransposed\u001b[0m\u001b[0;34m]\u001b[0m\u001b[0;34m\u001b[0m\u001b[0;34m\u001b[0m\u001b[0m\n\u001b[0m\u001b[1;32m     80\u001b[0m \u001b[0;34m\u001b[0m\u001b[0m\n\u001b[1;32m     81\u001b[0m     \u001b[0;32mraise\u001b[0m \u001b[0mTypeError\u001b[0m\u001b[0;34m(\u001b[0m\u001b[0mdefault_collate_err_msg_format\u001b[0m\u001b[0;34m.\u001b[0m\u001b[0mformat\u001b[0m\u001b[0;34m(\u001b[0m\u001b[0melem_type\u001b[0m\u001b[0;34m)\u001b[0m\u001b[0;34m)\u001b[0m\u001b[0;34m\u001b[0m\u001b[0;34m\u001b[0m\u001b[0m\n",
      "\u001b[0;32m~/.conda/envs/envs_dl/lib/python3.7/site-packages/torch/utils/data/_utils/collate.py\u001b[0m in \u001b[0;36mdefault_collate\u001b[0;34m(batch)\u001b[0m\n\u001b[1;32m     53\u001b[0m             \u001b[0mstorage\u001b[0m \u001b[0;34m=\u001b[0m \u001b[0melem\u001b[0m\u001b[0;34m.\u001b[0m\u001b[0mstorage\u001b[0m\u001b[0;34m(\u001b[0m\u001b[0;34m)\u001b[0m\u001b[0;34m.\u001b[0m\u001b[0m_new_shared\u001b[0m\u001b[0;34m(\u001b[0m\u001b[0mnumel\u001b[0m\u001b[0;34m)\u001b[0m\u001b[0;34m\u001b[0m\u001b[0;34m\u001b[0m\u001b[0m\n\u001b[1;32m     54\u001b[0m             \u001b[0mout\u001b[0m \u001b[0;34m=\u001b[0m \u001b[0melem\u001b[0m\u001b[0;34m.\u001b[0m\u001b[0mnew\u001b[0m\u001b[0;34m(\u001b[0m\u001b[0mstorage\u001b[0m\u001b[0;34m)\u001b[0m\u001b[0;34m\u001b[0m\u001b[0;34m\u001b[0m\u001b[0m\n\u001b[0;32m---> 55\u001b[0;31m         \u001b[0;32mreturn\u001b[0m \u001b[0mtorch\u001b[0m\u001b[0;34m.\u001b[0m\u001b[0mstack\u001b[0m\u001b[0;34m(\u001b[0m\u001b[0mbatch\u001b[0m\u001b[0;34m,\u001b[0m \u001b[0;36m0\u001b[0m\u001b[0;34m,\u001b[0m \u001b[0mout\u001b[0m\u001b[0;34m=\u001b[0m\u001b[0mout\u001b[0m\u001b[0;34m)\u001b[0m\u001b[0;34m\u001b[0m\u001b[0;34m\u001b[0m\u001b[0m\n\u001b[0m\u001b[1;32m     56\u001b[0m     \u001b[0;32melif\u001b[0m \u001b[0melem_type\u001b[0m\u001b[0;34m.\u001b[0m\u001b[0m__module__\u001b[0m \u001b[0;34m==\u001b[0m \u001b[0;34m'numpy'\u001b[0m \u001b[0;32mand\u001b[0m \u001b[0melem_type\u001b[0m\u001b[0;34m.\u001b[0m\u001b[0m__name__\u001b[0m \u001b[0;34m!=\u001b[0m \u001b[0;34m'str_'\u001b[0m\u001b[0;31m \u001b[0m\u001b[0;31m\\\u001b[0m\u001b[0;34m\u001b[0m\u001b[0;34m\u001b[0m\u001b[0m\n\u001b[1;32m     57\u001b[0m             \u001b[0;32mand\u001b[0m \u001b[0melem_type\u001b[0m\u001b[0;34m.\u001b[0m\u001b[0m__name__\u001b[0m \u001b[0;34m!=\u001b[0m \u001b[0;34m'string_'\u001b[0m\u001b[0;34m:\u001b[0m\u001b[0;34m\u001b[0m\u001b[0;34m\u001b[0m\u001b[0m\n",
      "\u001b[0;31mKeyboardInterrupt\u001b[0m: "
     ]
    }
   ],
   "source": [
    "# define list for results\n",
    "results_ls = []\n",
    "\n",
    "# Where we will store correct/incorrect classifications\n",
    "incorrect_ls = []\n",
    "correct_ls = []\n",
    "\n",
    "# Leave-one-out-cross-fold validation function - the for loop will iterate through the dataset, removing one sample (patient)\n",
    "# at a time in order to create k training and test datasets (where k = number of total samples) always with one sample missing\n",
    "#for index in range (0, 242):\n",
    "for index in range (0, 212): # 212 observations when we downsample healthy patients \n",
    "    # X - features; \n",
    "    mcTrain_xy_drop = mcTrain_x.drop(mcTrain_x.index[index]) # add 'drop'suffix so we can differentiate the df with index and the array that will be created in next line\n",
    "    mcTrain_xy = np.array(mcTrain_xy_drop, dtype = \"float32\")\n",
    "    \n",
    "    # y - target/outputs\n",
    "    mcTrain_yz_drop = mcTrain_y.drop(mcTrain_y.index[index]) \n",
    "    mcTrain_yz = np.array(mcTrain_yz_drop, dtype = \"float32\")\n",
    "    \n",
    "    # reformat into tensors\n",
    "    xb = torch.from_numpy(mcTrain_xy)\n",
    "    yb = torch.from_numpy(mcTrain_yz)\n",
    "    \n",
    "    # squeeze - function is used when we want to remove single-dimensional entries from the shape of an array.\n",
    "    yb = yb.squeeze(1) \n",
    "    \n",
    "    # subset the equivalent test set\n",
    "    mcTrain_test_x_drop = mcTrain_x.iloc[[index]] # add 'drop'suffix so we can differentiate the df with index and the array that will be created in next line\n",
    "    mcTrain_test_x = np.array(mcTrain_test_x_drop, dtype = \"float32\")\n",
    "            \n",
    "    # y - targets/outputs\n",
    "    mcTrain_test_y_drop = mcTrain_y.iloc[[index]]\n",
    "    mcTrain_test_y = np.array(mcTrain_test_y_drop, dtype = \"float32\")\n",
    "        \n",
    "    # Convert arrays into tensors\n",
    "    test_xb = torch.from_numpy(mcTrain_test_x)\n",
    "    test_yb = torch.from_numpy(mcTrain_test_y)\n",
    "    \n",
    "    # Define the batchsize\n",
    "    batch_size = 32\n",
    "\n",
    "    # Combine the arrays\n",
    "    trainloader = TensorDataset(xb, yb)\n",
    "    \n",
    "    # Training Loader\n",
    "    trainloader = DataLoader(trainloader, batch_size, shuffle=True)\n",
    "    \n",
    "    ## Build the Model and define hyperparameters\n",
    "    \n",
    "    # Set parameters for grid search\n",
    "    #lrs = [1e-2, 1e-3, 1e-4]\n",
    "    #epochs = [100, 150, 200, 250]\n",
    "    \n",
    "    # Define the model with hidden layers\n",
    "    model = nn.Sequential(nn.Linear(157, 80),\n",
    "                          nn.ReLU(),\n",
    "                          nn.Linear(80, 30), \n",
    "                          nn.ReLU(), \n",
    "                          nn.Linear(30, 7))\n",
    "                      \n",
    "    # Set Stoachastic Gradient Descent Optimizer and the learning rate\n",
    "    #optimizer = optim.SGD(model.parameters(), lr=0.003)\n",
    "\n",
    "    # Set Adam optimizer: similar to stochastic gradient descent, but uses momentum which can speed up the actual fitting process, and it also adjusts the learning rate for each of the individual parameters in the model\n",
    "    optimizer = optim.Adam(model.parameters(), lr=0.001,  weight_decay=0.01) # we can also change momentum parameter\n",
    "\n",
    "    # loss function\n",
    "    criterion = nn.CrossEntropyLoss() #don't use with softmax or sigmoid- PyTorch manual indicates \"This criterion combines nn.LogSoftmax() and nn.NLLLoss() in one single class.\"\n",
    "    \n",
    "    # Set epochs - number of times the entire dataset will pass through the network\n",
    "    epochs = 200\n",
    "    for e in range(epochs):\n",
    "        # Define running loss as 0\n",
    "        running_loss = 0\n",
    "        \n",
    "        # Run the model for each xb, yb in the trainloader. For the number of epochs specified, the \n",
    "        for xb, yb in trainloader:\n",
    "            # clear gradients - otherwise they are stored\n",
    "            optimizer.zero_grad()\n",
    "            # Training pass\n",
    "            output = model.forward(xb)\n",
    "            # caluclate loss calculated from the model output compared to the labels\n",
    "            loss = criterion(output, yb.long()) \n",
    "            # backpropagate the loss\n",
    "            loss.backward()\n",
    "            # step function to update the weights\n",
    "            optimizer.step()\n",
    "        \n",
    "            running_loss += loss.item() # loss.item() gets the scalar value held in the loss. \n",
    "            # += function: Adds the running_loss (0) with loss.item and assigns back to running_loss\n",
    "        #else:\n",
    "        #    print(\"Epoch {}/{}, Training loss: {:.5f}\".format(e+1, epochs, running_loss/len(trainloader)))\n",
    "\n",
    "    # Apply the model to the testing dataset\n",
    "    # Thus will enable us to see the predictions for each class\n",
    "    ps = model(test_xb)\n",
    "    #print('Network Probabilities', ps)\n",
    "    \n",
    "    # Obtain the top prediction\n",
    "    top_p, top_class = ps.topk(1, dim=1)\n",
    "    #print('top prediction', top_p)\n",
    "    #print('true vals', test_yb[:10])\n",
    "        \n",
    "    # Drop the grad by using detach\n",
    "    top_p = top_p.detach().numpy()\n",
    "    top_class = top_class.detach().numpy()\n",
    "\n",
    "    # convert to integers\n",
    "    top_class = top_class.astype(np.int)\n",
    "    test_yb = test_yb.numpy()\n",
    "    test_yb = test_yb.astype(np.int)\n",
    "    \n",
    "    #print('top class', top_class[:10])\n",
    "    #print('prediction:', top_class)\n",
    "    #print('true:', test_yb)\n",
    "                \n",
    "    # compare top_class to test_yb\n",
    "    if top_class == test_yb:                \n",
    "        results = 1 # prediction and true value are equal\n",
    "    else: \n",
    "        results = 0\n",
    "    \n",
    "    # Create if-else statements to identify which classes are being classified correctly/incorrectly\n",
    "    if results == 0:\n",
    "        incorrect = test_yb\n",
    "    else: \n",
    "        incorrect = np.array([[999]], dtype=int)\n",
    "        \n",
    "    if results == 1:\n",
    "        correct = test_yb\n",
    "    else: \n",
    "        correct = np.array([[999]], dtype=int)\n",
    "    #print('Results:', results)\n",
    "    \n",
    "    results_ls.append(results)\n",
    "    incorrect_ls.append(incorrect)\n",
    "    correct_ls.append(correct)\n",
    "    #print(results_ls) "
   ]
  },
  {
   "cell_type": "markdown",
   "metadata": {},
   "source": [
    "# **Print out description of Experiment**"
   ]
  },
  {
   "cell_type": "code",
   "execution_count": null,
   "metadata": {},
   "outputs": [],
   "source": [
    "print('Hidden Layers:, Weight Decay: LR: , Epochs:')"
   ]
  },
  {
   "cell_type": "markdown",
   "metadata": {},
   "source": [
    "# **Determine LOOCV Mean Error**"
   ]
  },
  {
   "cell_type": "code",
   "execution_count": null,
   "metadata": {},
   "outputs": [],
   "source": [
    "percent_correct = sum(results_ls)\n",
    "percent_correct = percent_correct/len(mcTrain)*100\n",
    "percent_incorrect = 100 - percent_correct\n",
    "print('Percent Error', round(percent_incorrect, 1))"
   ]
  },
  {
   "cell_type": "markdown",
   "metadata": {},
   "source": [
    "# **Incorrect Predictions**"
   ]
  },
  {
   "cell_type": "code",
   "execution_count": null,
   "metadata": {
    "scrolled": true
   },
   "outputs": [],
   "source": [
    "## Remove the correct elements from the ls to faciliate transforming this list into a dataframe\n",
    "# First, concatenate all incorrect list elements and format into dataframe\n",
    "incorrect_res = np.concatenate(incorrect_ls)\n",
    "incorrect_res = pd.DataFrame(incorrect_res)\n",
    "incorrect_res.columns = ['diagnosis']\n",
    "incorrect_res = incorrect_res[incorrect_res.diagnosis != 999] # 999 are the results that were correct - we remove these\n",
    "\n",
    "# Count number of incorrect predictions by diagnosis\n",
    "incorrect_pred = incorrect_res.groupby(['diagnosis']).size()\n",
    "incorrect_pred = pd.DataFrame(incorrect_pred)\n",
    "incorrect_pred.columns = ['Count']\n",
    "\n",
    "# Convert the index to the first column and change the numebr to categorical variables\n",
    "incorrect_pred.reset_index(level=0, inplace=True)\n",
    "incorrect_pred['diagnosis'] = incorrect_pred['diagnosis'].map({0: 'HEA', 1: 'CRC', 2: 'ESCA', 3: 'HCC', 4: 'STAD', 5:'GBM', 6:'BRCA'})\n",
    "\n",
    "# Add a column with the number of cases in each class\n",
    "class_size = mcTrain.groupby(['diagnosis']).size()\n",
    "class_size = pd.DataFrame(class_size)\n",
    "class_size.columns = ['Sample_n']\n",
    "\n",
    "# bind class_size to the pred df diagnoses\n",
    "incorrect_pred = pd.merge(incorrect_pred, class_size, how=\"left\", on=\"diagnosis\") \n",
    "\n",
    "# Calculate the percent error for each class\n",
    "incorrect_pred['Count_Perc_Incorrect'] = incorrect_pred['Count']/incorrect_pred['Sample_n']\n",
    "incorrect_pred['Count_Perc_Incorrect'] = incorrect_pred['Count_Perc_Incorrect'].multiply(100)\n",
    "\n",
    "print(round(incorrect_pred, 1))"
   ]
  },
  {
   "cell_type": "markdown",
   "metadata": {},
   "source": [
    "# **Correct Predictions**"
   ]
  },
  {
   "cell_type": "code",
   "execution_count": null,
   "metadata": {},
   "outputs": [],
   "source": [
    "## Remove the incorrect elements from the ls to faciliate transforming this list into a dataframe\n",
    "# First, concatenate all incorrect list elements and format into dataframe\n",
    "correct_res = np.concatenate(correct_ls)\n",
    "correct_res = pd.DataFrame(correct_res)\n",
    "correct_res.columns = ['diagnosis']\n",
    "correct_res = correct_res[correct_res.diagnosis != 999] # 999 are the results that were incorrect - we remove these\n",
    "\n",
    "# Count number of correct predictions by diagnosis\n",
    "correct_pred = correct_res.groupby(['diagnosis']).size()\n",
    "correct_pred = pd.DataFrame(correct_pred)\n",
    "correct_pred.columns = ['Count']\n",
    "\n",
    "# Convert the index to the first column and change the numebr to categorical variables\n",
    "correct_pred.reset_index(level=0, inplace=True)\n",
    "correct_pred['diagnosis'] = correct_pred['diagnosis'].map({0: 'HEA', 1: 'CRC', 2: 'ESCA', 3: 'HCC', 4: 'STAD', 5:'GBM', 6:'BRCA'})\n",
    "\n",
    "# Add a column with the number of cases in each class\n",
    "class_size = mcTrain.groupby(['diagnosis']).size()\n",
    "class_size = pd.DataFrame(class_size)\n",
    "class_size.columns = ['Sample_n']\n",
    "\n",
    "# bind class_size to the pred df diagnoses\n",
    "correct_pred = pd.merge(correct_pred, class_size, how=\"left\", on=\"diagnosis\") \n",
    "\n",
    "# Calculate the percent correct for each class\n",
    "correct_pred['Count_Perc_Correct'] = correct_pred['Count']/correct_pred['Sample_n']\n",
    "correct_pred['Count_Perc_Correct'] = correct_pred['Count_Perc_Correct'].multiply(100)\n",
    "\n",
    "print(round(correct_pred, 1))"
   ]
  },
  {
   "cell_type": "markdown",
   "metadata": {},
   "source": [
    "# **Save Predictions**"
   ]
  },
  {
   "cell_type": "code",
   "execution_count": null,
   "metadata": {},
   "outputs": [],
   "source": [
    "correct_pred.to_csv('/home/mrh1996/Multi_Cancer_DL/04_Results/correct_preds.csv')\n",
    "incorrect_pred.to_csv('/home/mrh1996/Multi_Cancer_DL/04_Results/incorrect_preds.csv')"
   ]
  }
 ],
 "metadata": {
  "kernelspec": {
   "display_name": "My Environment",
   "language": "python",
   "name": "envs_dl"
  },
  "language_info": {
   "codemirror_mode": {
    "name": "ipython",
    "version": 3
   },
   "file_extension": ".py",
   "mimetype": "text/x-python",
   "name": "python",
   "nbconvert_exporter": "python",
   "pygments_lexer": "ipython3",
   "version": "3.7.6"
  }
 },
 "nbformat": 4,
 "nbformat_minor": 2
}
