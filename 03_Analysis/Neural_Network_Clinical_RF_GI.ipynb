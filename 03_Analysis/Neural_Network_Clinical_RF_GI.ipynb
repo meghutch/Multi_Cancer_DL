{
 "cells": [
  {
   "cell_type": "markdown",
   "metadata": {},
   "source": [
    "# **Methylation Biomarkers for Predicting Cancer**\n",
    "\n",
    "## **Deep Learning Approaches for Cancer Classification - Clinical Data + RF Features**\n",
    "\n",
    "**Author:** Meg Hutch\n",
    "\n",
    "**Date:** March 9, 2020\n",
    "\n",
    "**Objective:** Use neural networks to classify cancer type. \n",
    "\n",
    "**Note:** In this version, I will only test the ability of methylation levels to classify cancer types. I will not include phenotypic data for now. Additionally, this version has our data split 70% for training and 30% for testing. The 70% training data will undergo leave-one-out-cross-fold validation to tune hyperparameters prior to testing final performance on the 30% test set. \n",
    "\n",
    "Note: This is the new version of the script where we normalize gene counts using DEseq2 in the initial pre-processing script in R. This provided more than double the number of Principal Components that make up 90% of the variance (157). Regardless, we will begin running the deep learning classifier on the revised data. \n",
    "\n",
    "Update: This script will include the clinical data\n",
    "\n",
    "Note: This is on the data of the GI cancers. "
   ]
  },
  {
   "cell_type": "code",
   "execution_count": null,
   "metadata": {},
   "outputs": [],
   "source": [
    "import pandas as pd\n",
    "import numpy as np\n",
    "import matplotlib\n",
    "import matplotlib.pyplot as plt\n",
    "import matplotlib.colors\n",
    "import seaborn as sns"
   ]
  },
  {
   "cell_type": "code",
   "execution_count": null,
   "metadata": {},
   "outputs": [],
   "source": [
    "# set working directory for git hub\n",
    "import os\n",
    "os.chdir('/projects/p31049/Multi_Cancer_DL/')\n",
    "#os.chdir('C:\\\\Users\\\\User\\\\Box Sync/Projects/Multi_Cancer_DL/')\n",
    "os. getcwd()"
   ]
  },
  {
   "cell_type": "markdown",
   "metadata": {},
   "source": [
    "**Import Training, Testing, and Principal component data**"
   ]
  },
  {
   "cell_type": "markdown",
   "metadata": {},
   "source": [
    "**Full Dataset**"
   ]
  },
  {
   "cell_type": "code",
   "execution_count": null,
   "metadata": {},
   "outputs": [],
   "source": [
    "# Training set\n",
    "mcTrain_x = pd.read_csv('02_Processed_Data/GI_Datasets/mcTrain_x_gi_Full_70_30.csv')\n",
    "mcTrain_y = pd.read_csv('02_Processed_Data/GI_Datasets/mcTrain_y_gi_Full_70_30.csv')\n",
    "# Testing set\n",
    "mcTest_x = pd.read_csv('02_Processed_Data/GI_Datasets/mcTest_x_gi_Full_70_30.csv')\n",
    "mcTest_y = pd.read_csv('02_Processed_Data/GI_Datasets/mcTest_y_gi_Full_70_30.csv')\n",
    "\n",
    "# Random Forest Features\n",
    "rf_feats = pd.read_csv('02_Processed_Data/GI_Datasets/GI_Datasets/rf_100feats_FULL_gi_70_30.csv')"
   ]
  },
  {
   "cell_type": "code",
   "execution_count": null,
   "metadata": {},
   "outputs": [],
   "source": [
    "#mcTrain_y.head()\n",
    "#pca_Train.head()\n",
    "#rf_feats.head()"
   ]
  },
  {
   "cell_type": "markdown",
   "metadata": {},
   "source": [
    "# **Pre-Process Data**"
   ]
  },
  {
   "cell_type": "code",
   "execution_count": null,
   "metadata": {},
   "outputs": [],
   "source": [
    "# rename the first column name of the rf_feats dataframes\n",
    "rf_feats.rename(columns={'Unnamed: 0':'Gene'}, inplace=True)"
   ]
  },
  {
   "cell_type": "markdown",
   "metadata": {},
   "source": [
    "**Remove the Importance Column**"
   ]
  },
  {
   "cell_type": "code",
   "execution_count": null,
   "metadata": {},
   "outputs": [],
   "source": [
    "rf_feats = rf_feats.drop(columns=[\"0\"])"
   ]
  },
  {
   "cell_type": "markdown",
   "metadata": {},
   "source": [
    "**Convert id to index**"
   ]
  },
  {
   "cell_type": "code",
   "execution_count": null,
   "metadata": {},
   "outputs": [],
   "source": [
    "mcTrain_x = mcTrain_x.set_index('id')\n",
    "mcTrain_y = mcTrain_y.set_index('id')\n",
    "\n",
    "mcTest_x = mcTest_x.set_index('id')\n",
    "mcTest_y = mcTest_y.set_index('id')"
   ]
  },
  {
   "cell_type": "markdown",
   "metadata": {},
   "source": [
    "**Create seperate DF with only Clinical Variables**"
   ]
  },
  {
   "cell_type": "code",
   "execution_count": null,
   "metadata": {},
   "outputs": [],
   "source": [
    "mcTrain_clinical_x = mcTrain_x[['dilute_library_concentration', 'age', 'gender', 'frag_mean']]\n",
    "mcTest_clinical_x = mcTest_x[['dilute_library_concentration', 'age', 'gender', 'frag_mean']]"
   ]
  },
  {
   "cell_type": "markdown",
   "metadata": {},
   "source": [
    "**Keep only the Genes that were in the rf_feats**"
   ]
  },
  {
   "cell_type": "code",
   "execution_count": null,
   "metadata": {
    "scrolled": true
   },
   "outputs": [],
   "source": [
    "# Create a list of the Genes to keep\n",
    "rf_genes = rf_feats.Gene\n",
    "# convert to df\n",
    "rf_genes = pd.DataFrame(rf_genes)\n",
    "# set Gene as an index\n",
    "rf_genes = rf_genes.set_index('Gene')\n",
    "# Create a list of the gene names\n",
    "rf_genes = list(rf_genes.index)\n",
    "rf_genes"
   ]
  },
  {
   "cell_type": "code",
   "execution_count": null,
   "metadata": {},
   "outputs": [],
   "source": [
    "mcTrain_x = mcTrain_x[rf_genes]\n",
    "mcTest_x = mcTest_x[rf_genes]\n",
    "mcTrain_x"
   ]
  },
  {
   "cell_type": "code",
   "execution_count": null,
   "metadata": {},
   "outputs": [],
   "source": [
    "# merge PCs with clinical/phenotypic data\n",
    "mcTrain_x = pd.merge(mcTrain_clinical_x, mcTrain_x, how=\"left\", on=\"id\") \n",
    "mcTest_x = pd.merge(mcTest_clinical_x, mcTest_x, how=\"left\", on=\"id\") "
   ]
  },
  {
   "cell_type": "markdown",
   "metadata": {},
   "source": [
    "**Drop the library concentraion (should have already controlled for this perhaps with deseq2 normalization?); Just simply keep demographic data for these experiments!**"
   ]
  },
  {
   "cell_type": "code",
   "execution_count": null,
   "metadata": {},
   "outputs": [],
   "source": [
    "mcTrain_x = mcTrain_x.drop(columns=[\"dilute_library_concentration\"])\n",
    "mcTest_x = mcTest_x.drop(columns=[\"dilute_library_concentration\"])"
   ]
  },
  {
   "cell_type": "markdown",
   "metadata": {},
   "source": [
    "**Normalize Data**\n",
    "\n",
    "From my reading, it seems that normalization, as opposed to standardization, is the more optimal approach when data is not normally distributed. \n",
    "\n",
    "Normalization will rescale our values into range of [0,1]. We need to normalize both the training and test sets"
   ]
  },
  {
   "cell_type": "code",
   "execution_count": null,
   "metadata": {},
   "outputs": [],
   "source": [
    "from sklearn.preprocessing import MinMaxScaler\n",
    "\n",
    "# The normalization function to be performed will convert dataframe into array, for this reason we'll have to convert it back\n",
    "# Thus, need to store columns and index\n",
    "# select all columns\n",
    "cols = list(mcTrain_x.columns.values)\n",
    "index_train = list(mcTrain_x.index)\n",
    "index_test = list(mcTest_x.index)\n",
    "\n",
    "# Normalize data\n",
    "scaler = MinMaxScaler()\n",
    "mcTrain_x = scaler.fit_transform(mcTrain_x.astype(np.float))\n",
    "mcTest_x = scaler.fit_transform(mcTest_x.astype(np.float))\n",
    "\n",
    "# Convert back to dataframe\n",
    "mcTrain_x = pd.DataFrame(mcTrain_x, columns = cols, index = index_train)\n",
    "mcTest_x = pd.DataFrame(mcTest_x, columns = cols, index = index_test)"
   ]
  },
  {
   "cell_type": "markdown",
   "metadata": {},
   "source": [
    "# Construct & Run Neural Network"
   ]
  },
  {
   "cell_type": "code",
   "execution_count": null,
   "metadata": {},
   "outputs": [],
   "source": [
    "# Import PyTorch packages\n",
    "import torch\n",
    "from torch import nn\n",
    "#from torchvision import datasets, transforms\n",
    "from torch import optim\n",
    "from torch.utils.data.sampler import SubsetRandomSampler\n",
    "from torch.utils.data.dataloader import DataLoader\n",
    "from torch.utils.data import TensorDataset\n",
    "import torch.nn.functional as F\n",
    "from sklearn.metrics import roc_curve, auc\n",
    "from sklearn.metrics import classification_report, confusion_matrix, accuracy_score"
   ]
  },
  {
   "cell_type": "code",
   "execution_count": null,
   "metadata": {},
   "outputs": [],
   "source": [
    "# define list for results\n",
    "results_ls = []\n",
    "\n",
    "# Where we will store correct/incorrect classifications\n",
    "incorrect_ls = []\n",
    "correct_ls = []\n",
    "\n",
    "# Leave-one-out-cross-fold validation function - the for loop will iterate through the dataset, removing one sample (patient)\n",
    "# at a time in order to create k training and test datasets (where k = number of total samples) always with one sample missing\n",
    "for index in range (0, 205):\n",
    "    mcTrain_xy_drop = mcTrain_x.drop(mcTrain_x.index[index]) # add 'drop'suffix so we can differentiate the df with index and the array that will be created in next line\n",
    "    mcTrain_xy = np.array(mcTrain_xy_drop, dtype = \"float32\")\n",
    "    \n",
    "    # y - target/outputs\n",
    "    mcTrain_yz_drop = mcTrain_y.drop(mcTrain_y.index[index]) \n",
    "    mcTrain_yz = np.array(mcTrain_yz_drop, dtype = \"float32\")\n",
    "    \n",
    "    # reformat into tensors\n",
    "    xb = torch.from_numpy(mcTrain_xy)\n",
    "    yb = torch.from_numpy(mcTrain_yz)\n",
    "    \n",
    "    # squeeze - function is used when we want to remove single-dimensional entries from the shape of an array.\n",
    "    yb = yb.squeeze(1) \n",
    "    \n",
    "    # subset the equivalent test set\n",
    "    mcTrain_test_x_drop = mcTrain_x.iloc[[index]] # add 'drop'suffix so we can differentiate the df with index and the array that will be created in next line\n",
    "    mcTrain_test_x = np.array(mcTrain_test_x_drop, dtype = \"float32\")\n",
    "            \n",
    "    # y - targets/outputs\n",
    "    mcTrain_test_y_drop = mcTrain_y.iloc[[index]]\n",
    "    mcTrain_test_y = np.array(mcTrain_test_y_drop, dtype = \"float32\")\n",
    "        \n",
    "    # Convert arrays into tensors\n",
    "    test_xb = torch.from_numpy(mcTrain_test_x)\n",
    "    test_yb = torch.from_numpy(mcTrain_test_y)\n",
    "    \n",
    "    # Define the batchsize\n",
    "    batch_size = 32\n",
    "\n",
    "    # Combine the arrays\n",
    "    trainloader = TensorDataset(xb, yb)\n",
    "    \n",
    "    # Training Loader\n",
    "    trainloader = DataLoader(trainloader, batch_size, shuffle=True)\n",
    "    \n",
    "    ## Build the Model and define hyperparameters\n",
    "    \n",
    "    # summarize experiment with changed parameters\n",
    "    summary = ('Hidden Layers: 50, LR: 0.001, Epochs: 600')\n",
    "    \n",
    "    # Define the model with hidden layers\n",
    "    model = nn.Sequential(nn.Linear(103, 50),\n",
    "                          nn.ReLU(),\n",
    "                          nn.Linear(50, 7))\n",
    "                      \n",
    "    # Set Stoachastic Gradient Descent Optimizer and the learning rate\n",
    "    #optimizer = optim.SGD(model.parameters(), lr=0.003)\n",
    "\n",
    "    # Set Adam optimizer: similar to stochastic gradient descent, but uses momentum which can speed up the actual fitting process, and it also adjusts the learning rate for each of the individual parameters in the model\n",
    "    optimizer = optim.Adam(model.parameters(), lr=0.10,  weight_decay=0.01) # we can also change momentum parameter\n",
    "\n",
    "    # loss function\n",
    "    criterion = nn.CrossEntropyLoss() #don't use with softmax or sigmoid- PyTorch manual indicates \"This criterion combines nn.LogSoftmax() and nn.NLLLoss() in one single class.\"\n",
    "    \n",
    "    # Set epochs - number of times the entire dataset will pass through the network\n",
    "    epochs = 100\n",
    "    for e in range(epochs):\n",
    "        # Define running loss as 0\n",
    "        running_loss = 0\n",
    "        \n",
    "        # Run the model for each xb, yb in the trainloader. For the number of epochs specified, the \n",
    "        for xb, yb in trainloader:\n",
    "            # clear gradients - otherwise they are stored\n",
    "            optimizer.zero_grad()\n",
    "            # Training pass\n",
    "            output = model.forward(xb)\n",
    "            # caluclate loss calculated from the model output compared to the labels\n",
    "            loss = criterion(output, yb.long()) \n",
    "            # backpropagate the loss\n",
    "            loss.backward()\n",
    "            # step function to update the weights\n",
    "            optimizer.step()\n",
    "        \n",
    "            running_loss += loss.item() # loss.item() gets the scalar value held in the loss. \n",
    "            # += function: Adds the running_loss (0) with loss.item and assigns back to running_loss\n",
    "        #else:\n",
    "        #    print(\"Epoch {}/{}, Training loss: {:.5f}\".format(e+1, epochs, running_loss/len(trainloader)))\n",
    "\n",
    "    # Apply the model to the testing dataset\n",
    "    # Thus will enable us to see the predictions for each class\n",
    "    ps = model(test_xb)\n",
    "    #print('Network Probabilities', ps)\n",
    "    \n",
    "    # Obtain the top prediction\n",
    "    top_p, top_class = ps.topk(1, dim=1)\n",
    "    #print('top prediction', top_p)\n",
    "    #print('true vals', test_yb[:10])\n",
    "        \n",
    "    # Drop the grad by using detach\n",
    "    top_p = top_p.detach().numpy()\n",
    "    top_class = top_class.detach().numpy()\n",
    "\n",
    "    # convert to integers\n",
    "    top_class = top_class.astype(np.int)\n",
    "    test_yb = test_yb.numpy()\n",
    "    test_yb = test_yb.astype(np.int)\n",
    "    \n",
    "    #print('top class', top_class[:10])\n",
    "    #print('prediction:', top_class)\n",
    "    #print('true:', test_yb)\n",
    "                \n",
    "    # compare top_class to test_yb\n",
    "    if top_class == test_yb:                \n",
    "        results = 1 # prediction and true value are equal\n",
    "    else: \n",
    "        results = 0\n",
    "    \n",
    "    # Create if-else statements to identify which classes are being classified correctly/incorrectly\n",
    "    if results == 0:\n",
    "        incorrect = test_yb\n",
    "    else: \n",
    "        incorrect = np.array([[999]], dtype=int)\n",
    "        \n",
    "    if results == 1:\n",
    "        correct = test_yb\n",
    "    else: \n",
    "        correct = np.array([[999]], dtype=int)\n",
    "    #print('Results:', results)\n",
    "    \n",
    "    results_ls.append(results)\n",
    "    incorrect_ls.append(incorrect)\n",
    "    correct_ls.append(correct)\n",
    "    #print(results_ls) "
   ]
  },
  {
   "cell_type": "markdown",
   "metadata": {},
   "source": [
    "# **Determine LOOCV Mean Error**"
   ]
  },
  {
   "cell_type": "code",
   "execution_count": null,
   "metadata": {},
   "outputs": [],
   "source": [
    "percent_correct = sum(results_ls)\n",
    "percent_correct = percent_correct/len(mcTrain_y)*100\n",
    "percent_incorrect = 100 - percent_correct\n",
    "percent_incorrect = round(percent_incorrect, 1)\n",
    "#print('Percent Error', round(percent_incorrect, 1))"
   ]
  },
  {
   "cell_type": "markdown",
   "metadata": {},
   "source": [
    "# **Incorrect Predictions**"
   ]
  },
  {
   "cell_type": "code",
   "execution_count": null,
   "metadata": {
    "scrolled": true
   },
   "outputs": [],
   "source": [
    "## Remove the correct elements from the ls to faciliate transforming this list into a dataframe\n",
    "# First, concatenate all incorrect list elements and format into dataframe\n",
    "incorrect_res = np.concatenate(incorrect_ls)\n",
    "incorrect_res = pd.DataFrame(incorrect_res)\n",
    "incorrect_res.columns = ['diagnosis']\n",
    "incorrect_res = incorrect_res[incorrect_res.diagnosis != 999] # 999 are the results that were correct - we remove these\n",
    "\n",
    "# Count number of incorrect predictions by diagnosis\n",
    "incorrect_pred = incorrect_res.groupby(['diagnosis']).size()\n",
    "incorrect_pred = pd.DataFrame(incorrect_pred)\n",
    "incorrect_pred.columns = ['Count']\n",
    "\n",
    "# Convert the index to the first column and change the numebr to categorical variables\n",
    "incorrect_pred.reset_index(level=0, inplace=True)\n",
    "incorrect_pred['diagnosis'] = incorrect_pred['diagnosis'].map({0: 'HEA', 1: 'CRC', 2: 'ESCA', 3: 'HCC', 4: 'STAD'})\n",
    "\n",
    "# Add a column with the number of cases in each class\n",
    "mcTrain_y['diagnosis'] = mcTrain_y['diagnosis'].map({0: 'HEA', 1: 'CRC', 2: 'ESCA', 3: 'HCC', 4: 'STAD'})\n",
    "class_size = mcTrain_y.groupby(['diagnosis']).size()\n",
    "class_size = pd.DataFrame(class_size)\n",
    "class_size.columns = ['Sample_n']\n",
    "\n",
    "# bind class_size to the pred df diagnoses\n",
    "incorrect_pred = pd.merge(incorrect_pred, class_size, how=\"left\", on=\"diagnosis\") \n",
    "\n",
    "# Calculate the percent error for each class\n",
    "incorrect_pred['Count_Perc_Incorrect'] = incorrect_pred['Count']/incorrect_pred['Sample_n']\n",
    "incorrect_pred['Count_Perc_Incorrect'] = incorrect_pred['Count_Perc_Incorrect'].multiply(100)"
   ]
  },
  {
   "cell_type": "markdown",
   "metadata": {},
   "source": [
    "# **Correct Predictions**"
   ]
  },
  {
   "cell_type": "code",
   "execution_count": null,
   "metadata": {},
   "outputs": [],
   "source": [
    "## Remove the incorrect elements from the ls to faciliate transforming this list into a dataframe\n",
    "# First, concatenate all incorrect list elements and format into dataframe\n",
    "correct_res = np.concatenate(correct_ls)\n",
    "correct_res = pd.DataFrame(correct_res)\n",
    "correct_res.columns = ['diagnosis']\n",
    "correct_res = correct_res[correct_res.diagnosis != 999] # 999 are the results that were incorrect - we remove these\n",
    "\n",
    "# Count number of correct predictions by diagnosis\n",
    "correct_pred = correct_res.groupby(['diagnosis']).size()\n",
    "correct_pred = pd.DataFrame(correct_pred)\n",
    "correct_pred.columns = ['Count']\n",
    "\n",
    "# Convert the index to the first column and change the numebr to categorical variables\n",
    "correct_pred.reset_index(level=0, inplace=True)\n",
    "correct_pred['diagnosis'] = correct_pred['diagnosis'].map({0: 'HEA', 1: 'CRC', 2: 'ESCA', 3: 'HCC', 4: 'STAD'})\n",
    "\n",
    "# Add a column with the number of cases in each class\n",
    "class_size = mcTrain_y.groupby(['diagnosis']).size()\n",
    "class_size = pd.DataFrame(class_size)\n",
    "class_size.columns = ['Sample_n']\n",
    "\n",
    "# bind class_size to the pred df diagnoses\n",
    "correct_pred = pd.merge(correct_pred, class_size, how=\"left\", on=\"diagnosis\") \n",
    "\n",
    "# Calculate the percent correct for each class\n",
    "correct_pred['Count_Perc_Correct'] = correct_pred['Count']/correct_pred['Sample_n']\n",
    "correct_pred['Count_Perc_Correct'] = correct_pred['Count_Perc_Correct'].multiply(100)"
   ]
  },
  {
   "cell_type": "markdown",
   "metadata": {},
   "source": [
    "# **Save Predictions**"
   ]
  },
  {
   "cell_type": "code",
   "execution_count": null,
   "metadata": {},
   "outputs": [],
   "source": [
    "# convert float to string in order to save as a txt file\n",
    "percent_error = '     Percent Error'\n",
    "percent_error = str(percent_error)\n",
    "percent_incorrect = str(percent_incorrect)\n",
    "\n",
    "# save the pre-specified summary of the experiment which includes parameter spe$\n",
    "summary = summary + percent_error + percent_incorrect\n",
    "\n",
    "# Print Results\n",
    "print(summary)\n",
    "print(correct_pred)"
   ]
  }
 ],
 "metadata": {
  "kernelspec": {
   "display_name": "Python 3",
   "language": "python",
   "name": "python3"
  },
  "language_info": {
   "codemirror_mode": {
    "name": "ipython",
    "version": 3
   },
   "file_extension": ".py",
   "mimetype": "text/x-python",
   "name": "python",
   "nbconvert_exporter": "python",
   "pygments_lexer": "ipython3",
   "version": "3.7.1"
  }
 },
 "nbformat": 4,
 "nbformat_minor": 2
}
