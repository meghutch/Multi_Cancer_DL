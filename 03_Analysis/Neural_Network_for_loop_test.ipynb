{
 "cells": [
  {
   "cell_type": "markdown",
   "metadata": {},
   "source": [
    "# **Methylation Biomarkers for Predicting Cancer**\n",
    "\n",
    "## **Deep Learning Approaches to Cancer Classification**\n",
    "\n",
    "**Author:** Meg Hutch\n",
    "\n",
    "**Date:** February 09, 2020\n",
    "\n",
    "**Objective:** Use neural networks to classify colon, esophagus, liver, and stomach cancer patients and healthy subjects.\n",
    "\n",
    "**Note:** In this version, I will only test the ability of methylation levels to classify cancer types. I will not include phenotypic data for now. Additionally, this version has our data split 70% for training and 30% for testing. The 70% training data will undergo leave-one-out-cross-fold validation to tune hyperparameters prior to testing final performance on the 30% test set. "
   ]
  },
  {
   "cell_type": "code",
   "execution_count": null,
   "metadata": {},
   "outputs": [],
   "source": [
    "import pandas as pd\n",
    "import numpy as np\n",
    "import matplotlib\n",
    "import matplotlib.pyplot as plt\n",
    "import matplotlib.colors\n",
    "import seaborn as sns"
   ]
  },
  {
   "cell_type": "markdown",
   "metadata": {},
   "source": [
    "**Import Training, Testing, and Principal component data**"
   ]
  },
  {
   "cell_type": "code",
   "execution_count": null,
   "metadata": {},
   "outputs": [],
   "source": [
    "# Training set\n",
    "mcTrain = pd.read_csv('C:\\\\Users\\\\User\\\\Box Sync/Projects/Multi_Cancer_DL/02_Processed_Data/mcTrain_70_30.csv')\n",
    "# Testing set\n",
    "mcTest = pd.read_csv('C:\\\\Users\\\\User\\\\Box Sync/Projects/Multi_Cancer_DL/02_Processed_Data/mcTest_70_30.csv')\n",
    "# Principal Components that make up 90% of the variance of the training set\n",
    "genesTrain_transformed_90 = pd.read_csv('C:\\\\Users\\\\User\\\\Box Sync/Projects/Multi_Cancer_DL/02_Processed_Data/genesTrain_transformed_90pc_70_30.csv')\n",
    "# Principal Components projected onto the test set\n",
    "genesTest_transformed_90 = pd.read_csv('C:\\\\Users\\\\User\\\\Box Sync/Projects/Multi_Cancer_DL/02_Processed_Data/genesTest_transformed_90pc_70_30.csv')"
   ]
  },
  {
   "cell_type": "code",
   "execution_count": null,
   "metadata": {},
   "outputs": [],
   "source": [
    "mcTrain.head()\n",
    "genesTrain_transformed_90.head()"
   ]
  },
  {
   "cell_type": "markdown",
   "metadata": {},
   "source": [
    "# **Pre-Process Data**"
   ]
  },
  {
   "cell_type": "code",
   "execution_count": null,
   "metadata": {},
   "outputs": [],
   "source": [
    "# remove genetic data from the mcTrain dataset\n",
    "mcTrain = mcTrain[['seq_num','diagnosis', 'dilute_library_concentration', 'age', 'gender']]\n",
    "\n",
    "# do the same for the testing set\n",
    "mcTest = mcTest[['seq_num','diagnosis', 'dilute_library_concentration', 'age', 'gender']]"
   ]
  },
  {
   "cell_type": "code",
   "execution_count": null,
   "metadata": {},
   "outputs": [],
   "source": [
    "# rename the first column name of the PC dataframes\n",
    "genesTrain_transformed_90.rename(columns={'Unnamed: 0':'seq_num'}, inplace=True)\n",
    "genesTest_transformed_90.rename(columns={'Unnamed: 0':'seq_num'}, inplace=True)"
   ]
  },
  {
   "cell_type": "code",
   "execution_count": null,
   "metadata": {},
   "outputs": [],
   "source": [
    "# merge PCs with clinical/phenotypic data\n",
    "mcTrain = pd.merge(mcTrain, genesTrain_transformed_90, how=\"left\", on=\"seq_num\") \n",
    "mcTest = pd.merge(mcTest, genesTest_transformed_90, how=\"left\", on=\"seq_num\") "
   ]
  },
  {
   "cell_type": "markdown",
   "metadata": {},
   "source": [
    "**Shuffle the training and test sets**\n",
    "\n",
    "Currently, all disease states are in order - we don't want to feed to the network in order!"
   ]
  },
  {
   "cell_type": "code",
   "execution_count": null,
   "metadata": {},
   "outputs": [],
   "source": [
    "import random\n",
    "random.seed(222020)\n",
    "mcTrain = mcTrain.sample(frac=1, axis = 0).reset_index(drop=True) # frac = 1 returns all rows in random order\n",
    "mcTest = mcTest.sample(frac=1, axis = 0).reset_index(drop=True)"
   ]
  },
  {
   "cell_type": "markdown",
   "metadata": {},
   "source": [
    "**Create a new numeric index and drop seq_num and demographic data for these experiments**\n",
    "\n",
    "For future code we want the index to be numeric"
   ]
  },
  {
   "cell_type": "code",
   "execution_count": null,
   "metadata": {},
   "outputs": [],
   "source": [
    "# Create new ids\n",
    "mcTrain['id'] = mcTrain.index + 1\n",
    "mcTest['id'] = mcTest.index + 243\n",
    "\n",
    "# Drop num_seq\n",
    "mcTrain= mcTrain.drop(columns=[\"seq_num\", \"dilute_library_concentration\", \"age\", \"gender\"])\n",
    "mcTest = mcTest.drop(columns=[\"seq_num\", \"dilute_library_concentration\", \"age\", \"gender\"])"
   ]
  },
  {
   "cell_type": "markdown",
   "metadata": {},
   "source": [
    "**Remove Labels (Diagnosis) from the datasets**"
   ]
  },
  {
   "cell_type": "code",
   "execution_count": null,
   "metadata": {},
   "outputs": [],
   "source": [
    "mcTrain_x = mcTrain.drop(columns=[\"diagnosis\"])\n",
    "mcTest_x = mcTest.drop(columns=[\"diagnosis\"])"
   ]
  },
  {
   "cell_type": "markdown",
   "metadata": {},
   "source": [
    "**Create Labeled Datasets**"
   ]
  },
  {
   "cell_type": "code",
   "execution_count": null,
   "metadata": {},
   "outputs": [],
   "source": [
    "mcTrain_y = mcTrain[['id','diagnosis']]\n",
    "mcTest_y = mcTest[['id','diagnosis']]"
   ]
  },
  {
   "cell_type": "code",
   "execution_count": null,
   "metadata": {},
   "outputs": [],
   "source": [
    "# Examine the unique target variables\n",
    "mcTrain_y.diagnosis.unique()"
   ]
  },
  {
   "cell_type": "code",
   "execution_count": null,
   "metadata": {},
   "outputs": [],
   "source": [
    "# Replace each outcome target with numerical value\n",
    "mcTrain_y = mcTrain_y.replace('HEA', 0)\n",
    "mcTrain_y = mcTrain_y.replace('CRC', 1)\n",
    "mcTrain_y = mcTrain_y.replace('ESCA', 2)\n",
    "mcTrain_y = mcTrain_y.replace('HCC', 3)\n",
    "mcTrain_y = mcTrain_y.replace('STAD', 4)\n",
    "mcTrain_y = mcTrain_y.replace('GBM', 5)\n",
    "mcTrain_y = mcTrain_y.replace('BRCA', 6)\n",
    "\n",
    "mcTest_y = mcTest_y.replace('HEA', 0)\n",
    "mcTest_y = mcTest_y.replace('CRC', 1)\n",
    "mcTest_y = mcTest_y.replace('ESCA', 2)\n",
    "mcTest_y = mcTest_y.replace('HCC', 3)\n",
    "mcTest_y = mcTest_y.replace('STAD', 4)\n",
    "mcTest_y = mcTest_y.replace('GBM', 5)\n",
    "mcTest_y = mcTest_y.replace('BRCA', 6)"
   ]
  },
  {
   "cell_type": "markdown",
   "metadata": {},
   "source": [
    "**Convert seq_num id to index**"
   ]
  },
  {
   "cell_type": "code",
   "execution_count": null,
   "metadata": {},
   "outputs": [],
   "source": [
    "mcTrain_x = mcTrain_x.set_index('id')\n",
    "mcTrain_y = mcTrain_y.set_index('id')\n",
    "\n",
    "mcTest_x = mcTest_x.set_index('id')\n",
    "mcTest_y = mcTest_y.set_index('id')"
   ]
  },
  {
   "cell_type": "markdown",
   "metadata": {},
   "source": [
    "**Examine Distribution of Variables**"
   ]
  },
  {
   "cell_type": "code",
   "execution_count": null,
   "metadata": {},
   "outputs": [],
   "source": [
    "# cfDNA Concentration\n",
    "plt.hist(mcTrain_x.dilute_library_concentration, bins='auto', color='#0504aa',\n",
    "                            alpha=0.7, rwidth=0.85)\n",
    "plt.grid(axis='y', alpha=0.75)\n",
    "plt.title('cfDNA Concentration')\n",
    "plt.xlabel('Dilute Library Concentration')\n",
    "plt.ylabel('Frequency')"
   ]
  },
  {
   "cell_type": "code",
   "execution_count": null,
   "metadata": {},
   "outputs": [],
   "source": [
    "# Age\n",
    "plt.hist(mcTrain_x.age, bins='auto', color='#0504aa',\n",
    "                            alpha=0.7, rwidth=0.85)\n",
    "plt.grid(axis='y', alpha=0.75)\n",
    "plt.title('Age of Subjects')\n",
    "plt.xlabel('Age')\n",
    "plt.ylabel('Frequency')"
   ]
  },
  {
   "cell_type": "code",
   "execution_count": null,
   "metadata": {},
   "outputs": [],
   "source": [
    "# principal component\n",
    "plt.hist(mcTrain_x.pc1, bins='auto', color='#0504aa',\n",
    "                            alpha=0.7, rwidth=0.85)\n",
    "plt.grid(axis='y', alpha=0.75)\n",
    "plt.title('Principal Component 1')\n",
    "plt.xlabel('PC1')\n",
    "plt.ylabel('Frequency')"
   ]
  },
  {
   "cell_type": "markdown",
   "metadata": {},
   "source": [
    "**Normalize Data**\n",
    "\n",
    "From my reading, it seems that normalization, as opposed to standardization, is the more optimal approach when data is not normally distributed. \n",
    "\n",
    "Normalization will rescale our values into range of [0,1]. We need to normalize both the training and test sets"
   ]
  },
  {
   "cell_type": "code",
   "execution_count": null,
   "metadata": {},
   "outputs": [],
   "source": [
    "from sklearn.preprocessing import MinMaxScaler\n",
    "\n",
    "# The normalization function to be performed will convert dataframe into array, for this reason we'll have to convert it back\n",
    "# Thus, need to store columns and index\n",
    "# select all columns\n",
    "cols = list(mcTrain_x.columns.values)\n",
    "index_train = list(mcTrain_x.index)\n",
    "index_test = list(mcTest_x.index)\n",
    "\n",
    "# Normalize data\n",
    "scaler = MinMaxScaler()\n",
    "mcTrain_x = scaler.fit_transform(mcTrain_x.astype(np.float))\n",
    "mcTest_x = scaler.fit_transform(mcTest_x.astype(np.float))\n",
    "\n",
    "# Convert back to dataframe\n",
    "mcTrain_x = pd.DataFrame(mcTrain_x, columns = cols, index = index_train)\n",
    "mcTest_x = pd.DataFrame(mcTest_x, columns = cols, index = index_test)"
   ]
  },
  {
   "cell_type": "markdown",
   "metadata": {},
   "source": [
    "# Construct & Run Neural Network"
   ]
  },
  {
   "cell_type": "code",
   "execution_count": null,
   "metadata": {},
   "outputs": [],
   "source": [
    "# Import PyTorch packages\n",
    "import torch\n",
    "from torch import nn\n",
    "from torchvision import datasets, transforms\n",
    "from torch import optim\n",
    "from torch.utils.data.sampler import SubsetRandomSampler\n",
    "from torch.utils.data.dataloader import DataLoader\n",
    "from torch.utils.data import TensorDataset\n",
    "import torch.nn.functional as F\n",
    "from sklearn.metrics import roc_curve, auc\n",
    "from sklearn.metrics import classification_report, confusion_matrix, accuracy_score"
   ]
  },
  {
   "cell_type": "markdown",
   "metadata": {},
   "source": [
    "**Testing the For-Loop**\n",
    "\n",
    "Upon testing the for-loop function, I feel more confident that this is working the way that we want. When we intitalize the for-loop without running the neural network model, we can print and see exactly which dataframes are entering the model. \n",
    "\n",
    "Specifying the epoch for-loop, repeats the same data frames the exact number of times specified by the epoch vector. The prediction code is only run after the dataframes are pass through the for-loop e times (# of epochs). Similarly, if we passed the dataframes through the neural network, we would not want the prediction to occur until the data passed through the model the e (epoch) number of times. "
   ]
  },
  {
   "cell_type": "code",
   "execution_count": null,
   "metadata": {},
   "outputs": [],
   "source": [
    "# define list for results\n",
    "df_train_x_ls = []\n",
    "df_train_y_ls = []\n",
    "results_ls = []\n",
    "\n",
    "# Where we will store correct/incorrect classifications\n",
    "incorrect_ls = []\n",
    "correct_ls = []\n",
    "\n",
    "# Leave-one-out-cross-fold validation function - the for loop will iterate through the dataset, removing one sample (patient)\n",
    "# at a time in order to create k training and test datasets (where k = number of total samples) always with one sample missing\n",
    "for index in range (0,3):\n",
    "\n",
    "    # X - features; \n",
    "    mcTrain_xy_drop = mcTrain_x.drop(mcTrain_x.index[index]) # add 'drop'suffix so we can differentiate the df with index and the array that will be created in next line\n",
    "    mcTrain_xy = np.array(mcTrain_xy_drop, dtype = \"float32\")\n",
    "    \n",
    "    # y - target/outputs\n",
    "    mcTrain_yz_drop = mcTrain_y.drop(mcTrain_y.index[index]) \n",
    "    mcTrain_yz = np.array(mcTrain_yz_drop, dtype = \"float32\")\n",
    "    \n",
    "    # reformat into tensors\n",
    "    xb = torch.from_numpy(mcTrain_xy)\n",
    "    yb = torch.from_numpy(mcTrain_yz)\n",
    "    \n",
    "    # squeeze - function is used when we want to remove single-dimensional entries from the shape of an array.\n",
    "    yb = yb.squeeze(1) \n",
    "    \n",
    "    # subset the equivalent test set\n",
    "    mcTrain_test_x_drop = mcTrain_x.iloc[[index]] # add 'drop'suffix so we can differentiate the df with index and the array that will be created in next line\n",
    "    mcTrain_test_x = np.array(mcTrain_test_x_drop, dtype = \"float32\")\n",
    "            \n",
    "    # y - targets/outputs\n",
    "    mcTrain_test_y_drop = mcTrain_y.iloc[[index]]\n",
    "    mcTrain_test_y = np.array(mcTrain_test_y_drop, dtype = \"float32\")\n",
    "        \n",
    "    # Convert arrays into tensors\n",
    "    test_xb = torch.from_numpy(mcTrain_test_x)\n",
    "    test_yb = torch.from_numpy(mcTrain_test_y)\n",
    "    \n",
    "    # Printing the below shows us the forloop iterates through the patient index and creates a dataframe with one sample removed\n",
    "    # for both the training and the testing sets\n",
    "    print('Training_x', mcTrain_xy_drop.head())\n",
    "    print('Training_y', mcTrain_yz_drop.head())\n",
    "    print('Testing_x', mcTrain_test_x_drop.head())\n",
    "    print('Testing_y', mcTrain_test_y_drop.head())\n",
    "    \n",
    "    # Define the batchsize\n",
    "    batch_size = 32\n",
    "\n",
    "    # Combine the arrays\n",
    "    trainloader = TensorDataset(xb, yb)\n",
    "    \n",
    "    # Training Loader\n",
    "    trainloader = DataLoader(trainloader, batch_size, shuffle=True)\n",
    "    \n",
    "    ## Build the Model and define hyperparameters\n",
    "    \n",
    "    # Define the model with hidden layers\n",
    "    model = nn.Sequential(nn.Linear(63, 30),\n",
    "                          nn.ReLU(),\n",
    "                          nn.Linear(30, 15), \n",
    "                          nn.ReLU(), \n",
    "                          nn.Linear(15, 7))\n",
    "                      \n",
    "    # Set Stoachastic Gradient Descent Optimizer and the learning rate\n",
    "    #optimizer = optim.SGD(model.parameters(), lr=0.003)\n",
    "\n",
    "    # Set Adam optimizer: similar to stochastic gradient descent, but uses momentum which can speed up the actual fitting process, and it also adjusts the learning rate for each of the individual parameters in the model\n",
    "    optimizer = optim.Adam(model.parameters(), lr=0.005)\n",
    "\n",
    "    # loss function\n",
    "    criterion = nn.CrossEntropyLoss() #don't use with softmax or sigmoid- PyTorch manual indicates \"This criterion combines nn.LogSoftmax() and nn.NLLLoss() in one single class.\"\n",
    "    \n",
    "    # Set epochs - number of times the entire dataset will pass through the network\n",
    "    epochs = 2\n",
    "    for e in range(epochs):\n",
    "        # Define running loss as 0\n",
    "        running_loss = 0\n",
    "        \n",
    "        print(e+1, 'epoch_xb_train', xb)\n",
    "        print('epoch_yb_train', yb)\n",
    "        print('epoch_xb_test', test_xb)\n",
    "        print('epoch_yb_test', test_yb)\n",
    "        \n",
    "        # Run the model for each xb, yb in the trainloader. For the number of epochs specified, the \n",
    "        #for xb, yb in trainloader:\n",
    "            # Training pass\n",
    "        #    output = model.forward(xb)\n",
    "            # caluclate loss calculated from the model output compared to the labels\n",
    "        #    loss = criterion(output, yb.long()) \n",
    "            # clear gradients - otherwise they are stored\n",
    "        #    optimizer.zero_grad()\n",
    "            # backpropagate the loss\n",
    "        #    loss.backward()\n",
    "            # step function to update the weights\n",
    "        #    optimizer.step()\n",
    "        \n",
    "        #    running_loss += loss.item() # loss.item() gets the scalar value held in the loss. \n",
    "            # += function: Adds the running_loss (0) with loss.item and assigns back to running_loss\n",
    "        #else:\n",
    "        #    print(\"Epoch {}/{}, Training loss: {:.5f}\".format(e+1, epochs, running_loss/len(trainloader)))\n",
    "\n",
    "    # Apply the model to the testing dataset\n",
    "    # Thus will enable us to see the predictions for each class\n",
    "    ps = model(test_xb)\n",
    "    print('Network Probabilities', ps)\n",
    "    \n",
    "    # Obtain the top prediction\n",
    "    top_p, top_class = ps.topk(1, dim=1)\n",
    "    print('top prediction', top_p)\n",
    "    print('true vals', test_yb[:10])\n",
    "        \n",
    "    # Drop the grad by using detach\n",
    "    top_p = top_p.detach().numpy()\n",
    "    top_class = top_class.detach().numpy()\n",
    "\n",
    "    # convert to integers\n",
    "    top_class = top_class.astype(np.int)\n",
    "    test_yb = test_yb.numpy()\n",
    "    test_yb = test_yb.astype(np.int)\n",
    "    \n",
    "    #print('top class', top_class[:10])\n",
    "    print('prediction:', top_class)\n",
    "    print('true:', test_yb)\n",
    "                \n",
    "    # compare top_class to test_yb\n",
    "    # for index in range(0,3):\n",
    "    if top_class == test_yb:                \n",
    "        results = 1 # prediction and true value are equal\n",
    "    else: \n",
    "        results = 0\n",
    "    \n",
    "    # Create if-else statements to identify which classes are being classified correctly/incorrectly\n",
    "    if results == 0:\n",
    "        incorrect = test_yb\n",
    "    else: \n",
    "        incorrect = np.array([[999]], dtype=int)\n",
    "        \n",
    "    if results == 1:\n",
    "        correct = test_yb\n",
    "    else: \n",
    "        correct = np.array([[999]], dtype=int)\n",
    "    print('Results:', results)\n",
    "    \n",
    "    results_ls.append(results)\n",
    "    incorrect_ls.append(incorrect)\n",
    "    correct_ls.append(correct)\n",
    "    print(results_ls) "
   ]
  },
  {
   "cell_type": "markdown",
   "metadata": {},
   "source": [
    "# **Determine LOOCV mean error**"
   ]
  },
  {
   "cell_type": "code",
   "execution_count": null,
   "metadata": {},
   "outputs": [],
   "source": [
    "percent_correct = sum(results_ls)\n",
    "percent_correct = percent_correct/len(mcTrain)*100\n",
    "percent_incorrect = 100 - percent_correct\n",
    "print('Percent Error', round(percent_incorrect, 2))"
   ]
  },
  {
   "cell_type": "markdown",
   "metadata": {},
   "source": [
    "# **Incorrect Predictions**"
   ]
  },
  {
   "cell_type": "code",
   "execution_count": null,
   "metadata": {},
   "outputs": [],
   "source": [
    "## Remove the correct elements from the ls to faciliate transforming this list into a dataframe\n",
    "# First, concatenate all incorrect list elements and format into dataframe\n",
    "incorrect_ls = np.concatenate(incorrect_ls)\n",
    "incorrect_ls = pd.DataFrame(incorrect_ls)\n",
    "incorrect_ls.columns = ['diagnosis']\n",
    "incorrect_ls = incorrect_ls[incorrect_ls.diagnosis != 999] # 999 are the results that were correct - we remove these\n",
    "\n",
    "# Count number of incorrect predictions by diagnosis\n",
    "incorrect_pred = incorrect_ls.groupby(['diagnosis']).size()\n",
    "incorrect_pred = pd.DataFrame(incorrect_pred)\n",
    "incorrect_pred.columns = ['Count']\n",
    "\n",
    "# Convert the index to the first column and change the numebr to categorical variables\n",
    "incorrect_pred.reset_index(level=0, inplace=True)\n",
    "incorrect_pred['diagnosis'] = incorrect_pred['diagnosis'].map({0: 'HEA', 1: 'CRC', 2: 'ESCA', 3: 'HCC', 4: 'STAD'})\n",
    "\n",
    "# Add a column with the number of cases in each class\n",
    "class_size = mcTrain.groupby(['diagnosis']).size()\n",
    "class_size = pd.DataFrame(class_size)\n",
    "class_size.columns = ['Sample_n']\n",
    "\n",
    "# bind class_size to the pred df diagnoses\n",
    "incorrect_pred = pd.merge(incorrect_pred, class_size, how=\"left\", on=\"diagnosis\") \n",
    "\n",
    "# Calculate the percent error for each class\n",
    "incorrect_pred['Count_Perc_Incorrect'] = incorrect_pred['Count']/incorrect_pred['Sample_n']\n",
    "incorrect_pred['Count_Perc_Incorrect'] = incorrect_pred['Count_Perc_Incorrect'].multiply(100)\n",
    "\n",
    "print(incorrect_pred)"
   ]
  },
  {
   "cell_type": "markdown",
   "metadata": {},
   "source": [
    "# **Correct Predictions**"
   ]
  },
  {
   "cell_type": "code",
   "execution_count": null,
   "metadata": {},
   "outputs": [],
   "source": [
    "## Remove the incorrect elements from the ls to faciliate transforming this list into a dataframe\n",
    "# First, concatenate all incorrect list elements and format into dataframe\n",
    "correct_ls = np.concatenate(correct_ls)\n",
    "correct_ls = pd.DataFrame(correct_ls)\n",
    "correct_ls.columns = ['diagnosis']\n",
    "correct_ls = correct_ls[correct_ls.diagnosis != 999] # 999 are the results that were incorrect - we remove these\n",
    "\n",
    "# Count number of correct predictions by diagnosis\n",
    "correct_pred = correct_ls.groupby(['diagnosis']).size()\n",
    "correct_pred = pd.DataFrame(correct_pred)\n",
    "correct_pred.columns = ['Count']\n",
    "\n",
    "# Convert the index to the first column and change the numebr to categorical variables\n",
    "correct_pred.reset_index(level=0, inplace=True)\n",
    "correct_pred['diagnosis'] = correct_pred['diagnosis'].map({0: 'HEA', 1: 'CRC', 2: 'ESCA', 3: 'HCC', 4: 'STAD'})\n",
    "\n",
    "# Add a column with the number of cases in each class\n",
    "class_size = mcTrain.groupby(['diagnosis']).size()\n",
    "class_size = pd.DataFrame(class_size)\n",
    "class_size.columns = ['Sample_n']\n",
    "\n",
    "# bind class_size to the pred df diagnoses\n",
    "correct_pred = pd.merge(correct_pred, class_size, how=\"left\", on=\"diagnosis\") \n",
    "\n",
    "# Calculate the percent correct for each class\n",
    "correct_pred['Count_Perc_Correct'] = correct_pred['Count']/correct_pred['Sample_n']\n",
    "correct_pred['Count_Perc_Correct'] = correct_pred['Count_Perc_Correct'].multiply(100)\n",
    "\n",
    "print(correct_pred)"
   ]
  }
 ],
 "metadata": {
  "kernelspec": {
   "display_name": "Python 3",
   "language": "python",
   "name": "python3"
  },
  "language_info": {
   "codemirror_mode": {
    "name": "ipython",
    "version": 3
   },
   "file_extension": ".py",
   "mimetype": "text/x-python",
   "name": "python",
   "nbconvert_exporter": "python",
   "pygments_lexer": "ipython3",
   "version": "3.7.1"
  }
 },
 "nbformat": 4,
 "nbformat_minor": 2
}
