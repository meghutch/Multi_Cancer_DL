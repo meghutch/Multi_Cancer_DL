{
 "cells": [
  {
   "cell_type": "markdown",
   "metadata": {},
   "source": [
    "# **Methylation Biomarkers for Predicting Cancer**\n",
    "\n",
    "## **Dimensionality Reduction: Principal Component Anlaysis**\n",
    "\n",
    "**Author:** Meg Hutch\n",
    "\n",
    "**Date:** February 09, 2020\n",
    "\n",
    "**Objective:** Reduce dimensionality of the gene methylation data"
   ]
  },
  {
   "cell_type": "code",
   "execution_count": null,
   "metadata": {},
   "outputs": [],
   "source": [
    "import pandas as pd\n",
    "import numpy as np\n",
    "import matplotlib\n",
    "import matplotlib.pyplot as plt\n",
    "import matplotlib.colors\n",
    "import seaborn as sns"
   ]
  },
  {
   "cell_type": "markdown",
   "metadata": {},
   "source": [
    "Load Training and testing sets processed in R"
   ]
  },
  {
   "cell_type": "code",
   "execution_count": null,
   "metadata": {},
   "outputs": [],
   "source": [
    "# Training set\n",
    "mcTrain = pd.read_csv('C:\\\\Users\\\\User\\\\Box Sync/Projects/Multi_Cancer_DL/02_Processed_Data/Final_Datasets/mcTrain_Full_70_30.csv')\n",
    "# Testing set\n",
    "mcTest = pd.read_csv('C:\\\\Users\\\\User\\\\Box Sync/Projects/Multi_Cancer_DL/02_Processed_Data/Final_Datasets/mcTest_Full_70_30.csv')"
   ]
  },
  {
   "cell_type": "markdown",
   "metadata": {},
   "source": [
    "**Data Pre-Processing**"
   ]
  },
  {
   "cell_type": "markdown",
   "metadata": {},
   "source": [
    "Check if any missing values: Nope!"
   ]
  },
  {
   "cell_type": "code",
   "execution_count": null,
   "metadata": {},
   "outputs": [],
   "source": [
    "mcTrain.columns[mcTrain.isna().any()].tolist()"
   ]
  },
  {
   "cell_type": "markdown",
   "metadata": {},
   "source": [
    "## **Principal Component Analysis**\n",
    "\n",
    "We will first conduct dimensionality reduction using principal component analysis"
   ]
  },
  {
   "cell_type": "markdown",
   "metadata": {},
   "source": [
    "First, subset the training set to only include the methylated gene information"
   ]
  },
  {
   "cell_type": "code",
   "execution_count": null,
   "metadata": {},
   "outputs": [],
   "source": [
    "# remove non-gene data from both the training and testing sets\n",
    "genesTrain = mcTrain.drop(columns=[\"diagnosis\", \"dilute_library_concentration\", \"age\", \"gender\", \"frag_mean\"])\n",
    "genesTest = mcTest.drop(columns=[\"diagnosis\", \"dilute_library_concentration\", \"age\", \"gender\", \"frag_mean\"])"
   ]
  },
  {
   "cell_type": "markdown",
   "metadata": {},
   "source": [
    "Create patient seq_num id index"
   ]
  },
  {
   "cell_type": "code",
   "execution_count": null,
   "metadata": {},
   "outputs": [],
   "source": [
    "## Training set\n",
    "# Convert patinet_ids to row names \n",
    "genesTrain = genesTrain.set_index(genesTrain.id)\n",
    "\n",
    "# Remove seq_num as a column\n",
    "genesTrain = genesTrain.drop(columns=[\"id\"])\n",
    "\n",
    "# Create a list of row names\n",
    "patients = list(genesTrain.index)\n",
    "\n",
    "## Testing set\n",
    "# Convert patinet_ids to row names \n",
    "genesTest = genesTest.set_index(genesTest.id)\n",
    "\n",
    "# Remove seq_num as a column\n",
    "genesTest = genesTest.drop(columns=[\"id\"])\n",
    "\n",
    "# Create a list of row names\n",
    "patientsTest = list(genesTest.index)"
   ]
  },
  {
   "cell_type": "markdown",
   "metadata": {},
   "source": [
    "# **1) Standardize Dataset**\n",
    "\n",
    "We will scale the data prior to performing PCA on the training set. \n",
    "\n",
    "**StandardScaler** helps standardize features onto unit scale (mean = 0 and standard deviation = 1). Thus, each value in the dataset will have the sample mean value subtracted and then divided by the standard deviation of the whole dataset. \n"
   ]
  },
  {
   "cell_type": "code",
   "execution_count": null,
   "metadata": {},
   "outputs": [],
   "source": [
    "# pca packages\n",
    "from sklearn.preprocessing import StandardScaler \n",
    "from sklearn.decomposition import PCA\n",
    "\n",
    "# Stanardize/Scale the data\n",
    "x = StandardScaler().fit_transform(genesTrain.astype(np.float)) # no errors  "
   ]
  },
  {
   "cell_type": "code",
   "execution_count": null,
   "metadata": {},
   "outputs": [],
   "source": [
    "# manual check that the StandardScaler().fit_transform is correctly scaling the data - look good - \n",
    "#genesTrain.head()\n",
    "#np.mean(genesTrain['OR4F5'])\n",
    "#np.std(genesTrain['OR4F5'])\n",
    "\n",
    "#np.mean(genesTrain['AL627309.1'])\n",
    "#np.std(genesTrain['AL627309.1'])"
   ]
  },
  {
   "cell_type": "markdown",
   "metadata": {},
   "source": [
    "**Check whether the normalized data has a mean of zero and a standard deviation of 1:**"
   ]
  },
  {
   "cell_type": "code",
   "execution_count": null,
   "metadata": {},
   "outputs": [],
   "source": [
    "np.mean(x), np.std(x)"
   ]
  },
  {
   "cell_type": "markdown",
   "metadata": {},
   "source": [
    "**Standardize the Test Set**\n",
    "\n",
    "To standardize each column of the test set, we need to subtract the mean of the training data and then divide by the standard deviation of the training data."
   ]
  },
  {
   "cell_type": "code",
   "execution_count": null,
   "metadata": {},
   "outputs": [],
   "source": [
    "# Functions to calculate mean and sd of each column \n",
    "genesTrain_mean = genesTrain.mean()\n",
    "genesTrain_sd = genesTrain.std()"
   ]
  },
  {
   "cell_type": "markdown",
   "metadata": {},
   "source": [
    "Transpose the mean and sd datasets in order to faciliate the calculations with the testing sets\n",
    "\n",
    "The below code functions to take the mean (or sd) of all the genes (one row) and then duplicates that row. Thus, later on, we can take those dataframes and just subtract each mean or sd from the test set"
   ]
  },
  {
   "cell_type": "code",
   "execution_count": null,
   "metadata": {},
   "outputs": [],
   "source": [
    "# Transpose the mean dataset\n",
    "genesTrain_mean = pd.DataFrame(genesTrain_mean)\n",
    "genesTrain_mean = genesTrain_mean.transpose()\n",
    "\n",
    "# add duplicated rows to match the number of rows in the test set (100 samples) - this will faciliate the subtraction and standard deviation division\n",
    "genesTrain_mean = pd.concat([genesTrain_mean]*100)\n",
    "\n",
    "# Transpose the sd dataset\n",
    "genesTrain_sd = pd.DataFrame(genesTrain_sd)\n",
    "genesTrain_sd = genesTrain_sd.transpose()\n",
    "\n",
    "# Add duplicated rows to the sd dataset\n",
    "genesTrain_sd = pd.concat([genesTrain_sd]*100)"
   ]
  },
  {
   "cell_type": "code",
   "execution_count": null,
   "metadata": {},
   "outputs": [],
   "source": [
    "# remove index\n",
    "genesTest.reset_index(level=0, inplace=True)\n",
    "# Drop seq_num column\n",
    "genesTest = genesTest.drop(columns=[\"id\"])"
   ]
  },
  {
   "cell_type": "markdown",
   "metadata": {},
   "source": [
    "**Replace 0s with 0.01 in order to not get NA values - is this kosher?**"
   ]
  },
  {
   "cell_type": "code",
   "execution_count": null,
   "metadata": {},
   "outputs": [],
   "source": [
    "genesTrain_sd = genesTrain_sd.replace(0, 0.0000000001)"
   ]
  },
  {
   "cell_type": "markdown",
   "metadata": {},
   "source": [
    "**Subtract each value in the Test set by the training set mean and divide by the training set standard deviation**"
   ]
  },
  {
   "cell_type": "code",
   "execution_count": null,
   "metadata": {},
   "outputs": [],
   "source": [
    "# Subtract the mean values from the genesTest\n",
    "genesTest = pd.DataFrame(genesTest.values-genesTrain_mean.values, columns=genesTest.columns)\n",
    "\n",
    "# Divide the trained mean subtracted values by standard deviation of the training set\n",
    "genesTest = pd.DataFrame(genesTest.values/genesTrain_sd.values, columns=genesTest.columns)"
   ]
  },
  {
   "cell_type": "markdown",
   "metadata": {},
   "source": [
    "**Remove any genes that have NAs**\n",
    "\n",
    "Because we converted 0s to a smaller number, none of these are NAs"
   ]
  },
  {
   "cell_type": "code",
   "execution_count": null,
   "metadata": {},
   "outputs": [],
   "source": [
    "genesTest = genesTest.dropna(axis = 1) # by indicating axis = 1, we are able to drop any genes that have become NAs === are we still have to perform PCA now? "
   ]
  },
  {
   "cell_type": "markdown",
   "metadata": {},
   "source": [
    "**Convert the normalized features into tabular format**"
   ]
  },
  {
   "cell_type": "code",
   "execution_count": null,
   "metadata": {},
   "outputs": [],
   "source": [
    "# Create list of column names\n",
    "features = list(genesTrain.columns.values) \n",
    "\n",
    "# Create data frame of newly normalized data - use patients IDs as the index \n",
    "x = pd.DataFrame(x, columns = features, index = patients)"
   ]
  },
  {
   "cell_type": "markdown",
   "metadata": {},
   "source": [
    "# **2) Determine Prinicpal Components**\n",
    "\n",
    "Reference: https://stackoverflow.com/questions/42167907/understanding-scikitlearn-pca-transform-function-in-python\n",
    "\n",
    "**pca.fit** allows PCA function to compute vectors that you can project your data onto in order to reduce the dimensionality of your data.\n",
    "\n",
    "**pca.transform** actually performs the projection. It projects each row of data into the vector space that was learned when fit was called.\n",
    "\n",
    "from sklearn: **fit_transform**: Fit the model with X and apply the dimensionality reduction on X"
   ]
  },
  {
   "cell_type": "code",
   "execution_count": null,
   "metadata": {},
   "outputs": [],
   "source": [
    "## Define pca function\n",
    "pca = PCA()\n",
    "\n",
    "# Fit to the scaled/standardized data - then use transform to prokect into the new vector space learned by fit\n",
    "principalComponents = pca.fit_transform(x)\n",
    "\n",
    "# Generate a list of column names with the number for each prinicpal component \n",
    "col_names = [f'pc{i}' for i in range(1, 243)] # there are 242 samples - so we want to have range of 1 less than 243 column names \n",
    "\n",
    "# Add column names to the principal component dataset \n",
    "principalDf_ALL = pd.DataFrame(principalComponents, columns = col_names, index = patients)"
   ]
  },
  {
   "cell_type": "markdown",
   "metadata": {},
   "source": [
    "**3) Determine # of Components and Variance**"
   ]
  },
  {
   "cell_type": "code",
   "execution_count": null,
   "metadata": {},
   "outputs": [],
   "source": [
    "#Plotting the Cumulative Summation of the Explained Variance\n",
    "plt.figure()\n",
    "plt.plot(np.cumsum(pca.explained_variance_ratio_))\n",
    "plt.xlabel('Number of Components')\n",
    "plt.ylabel('Variance (%)') #for each component\n",
    "plt.title('Gene Methylation Explained Variance')\n",
    "plt.savefig('C:\\\\Users\\\\User\\\\Box Sync/Projects/Multi_Cancer_DL/04_Results/PC_%Variance_Full_Data.png')\n",
    "plt.show()"
   ]
  },
  {
   "cell_type": "markdown",
   "metadata": {},
   "source": [
    "**Alternative method - Pre-selecting % of variance**\n",
    "\n",
    "When we fit the PCA classifier and transform x after specifying 90%, we get 157 principal components representing 90% of the variance."
   ]
  },
  {
   "cell_type": "code",
   "execution_count": null,
   "metadata": {},
   "outputs": [],
   "source": [
    "pca = PCA(0.9)\n",
    "genesTrain_transformed = pca.fit_transform(x)\n",
    "\n",
    "pca.n_components_ "
   ]
  },
  {
   "cell_type": "markdown",
   "metadata": {},
   "source": [
    "**Define PC column names and create dataframe**"
   ]
  },
  {
   "cell_type": "code",
   "execution_count": null,
   "metadata": {},
   "outputs": [],
   "source": [
    "# Define new pc column names (up to pc157)\n",
    "col_names = [f'pc{i}' for i in range(1, 158)] \n",
    "\n",
    "# Add column names to the principal component dataset \n",
    "genesTrain_transformed = pd.DataFrame(genesTrain_transformed, columns = col_names, index = patients)"
   ]
  },
  {
   "cell_type": "markdown",
   "metadata": {},
   "source": [
    "**Scree Plot**\n",
    "\n",
    "View which principal components contribute most to the variance "
   ]
  },
  {
   "cell_type": "code",
   "execution_count": null,
   "metadata": {},
   "outputs": [],
   "source": [
    "# remove PC from \n",
    "per_var = np.round(pca.explained_variance_ratio_* 100, decimals=1)\n",
    "per_var = per_var[:10] #top 10 PC - this number is chosen just so that we can more easily view the plot\n",
    "labels = col_names[:10]\n",
    "\n",
    "plt.bar(x=range(1, len(per_var)+1), height = per_var, tick_label = labels)\n",
    "plt.ylabel('Percentage of Explained Variance')\n",
    "plt.xlabel('Prinicpal Component')\n",
    "plt.title('Scree Plot Top 10 PCs')\n",
    "plt.savefig('C:\\\\Users\\\\User\\\\Box Sync/Projects/Multi_Cancer_DL/04_Results/PCA_Screeplot_Full_Data.png')\n",
    "plt.show()"
   ]
  },
  {
   "cell_type": "markdown",
   "metadata": {},
   "source": [
    "# **4) Project prinicipal components onto the test set**"
   ]
  },
  {
   "cell_type": "code",
   "execution_count": null,
   "metadata": {},
   "outputs": [],
   "source": [
    "genesTest_transformed = pca.transform(genesTest)"
   ]
  },
  {
   "cell_type": "markdown",
   "metadata": {},
   "source": [
    "When converted to a dataframe, we can see that the test set has been transformed into 157 principal components"
   ]
  },
  {
   "cell_type": "code",
   "execution_count": null,
   "metadata": {},
   "outputs": [],
   "source": [
    "genesTest_transformed = pd.DataFrame(data = genesTest_transformed, columns = col_names, index = patientsTest)\n",
    "genesTest_transformed"
   ]
  },
  {
   "cell_type": "markdown",
   "metadata": {},
   "source": [
    "# **5) Save PCA Components**"
   ]
  },
  {
   "cell_type": "code",
   "execution_count": null,
   "metadata": {},
   "outputs": [],
   "source": [
    "#principalDf_ALL.to_csv('C:\\\\Users\\\\User\\\\Box Sync/Projects/Multi_Cancer_DL/02_Processed_Data/principalDF_ALL.csv')\n",
    "\n",
    "genesTrain_transformed.to_csv('C:\\\\Users\\\\User\\\\Box Sync/Projects/Multi_Cancer_DL/02_Processed_Data/Final_Datasets/pca_train_Full_70_30.csv')\n",
    "genesTest_transformed.to_csv('C:\\\\Users\\\\User\\\\Box Sync/Projects/Multi_Cancer_DL/02_Processed_Data/Final_Datasets/pca_test_Full_70_30.csv')"
   ]
  }
 ],
 "metadata": {
  "kernelspec": {
   "display_name": "Python 3",
   "language": "python",
   "name": "python3"
  },
  "language_info": {
   "codemirror_mode": {
    "name": "ipython",
    "version": 3
   },
   "file_extension": ".py",
   "mimetype": "text/x-python",
   "name": "python",
   "nbconvert_exporter": "python",
   "pygments_lexer": "ipython3",
   "version": "3.7.1"
  }
 },
 "nbformat": 4,
 "nbformat_minor": 2
}
