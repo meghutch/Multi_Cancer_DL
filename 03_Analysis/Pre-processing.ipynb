{
 "cells": [
  {
   "cell_type": "markdown",
   "metadata": {},
   "source": [
    "# **Methylation Biomarkers for Predicting Cancer**\n",
    "\n",
    "## **Data Pre-Processing**\n",
    "\n",
    "**Author:** Meg Hutch\n",
    "\n",
    "**Date:** February 25, 2020\n",
    "\n",
    "**Objective:** Pre-process data for use in Neural Networks, Randfom Forest, and logistic regression.\n",
    "\n",
    "**Note:** In this version, I will only test the ability of methylation levels to classify cancer types. I will not include phenotypic data for now. Additionally, this version has our data split 70% for training and 30% for testing. The 70% training data will undergo leave-one-out-cross-fold validation to tune hyperparameters prior to testing final performance on the 30% test set. \n",
    "\n",
    "Note: This is the new version of the script where we normalize gene counts using DEseq2 in the initial pre-processing script in R. This provided more than double the number of Principal Components that make up 90% of the variance (157). Regardless, we will begin running the deep learning classifier on the revised data. \n",
    "\n",
    "\n",
    "\n",
    "\n",
    "**Notes/ToDos: Will need to similarly normalize/modify the final testing sets as well. For now, I just focused on the various training sets. I also have sections to create a few more datasets, combining stomach/colon cancer + removing GBM + BC, will work on this after initital analyses**"
   ]
  },
  {
   "cell_type": "code",
   "execution_count": null,
   "metadata": {},
   "outputs": [],
   "source": [
    "import pandas as pd\n",
    "import numpy as np\n",
    "import matplotlib\n",
    "import matplotlib.pyplot as plt\n",
    "import matplotlib.colors\n",
    "import seaborn as sns"
   ]
  },
  {
   "cell_type": "code",
   "execution_count": null,
   "metadata": {},
   "outputs": [],
   "source": [
    "# set working directory for git hub\n",
    "import os\n",
    "#os.chdir('/projects/p31049/Multi_Cancer_DL/')\n",
    "os.chdir('C:\\\\Users\\\\User\\\\Box Sync/Projects/Multi_Cancer_DL/')\n",
    "os. getcwd()"
   ]
  },
  {
   "cell_type": "markdown",
   "metadata": {},
   "source": [
    "**Import Training, Testing, and Principal component data**"
   ]
  },
  {
   "cell_type": "code",
   "execution_count": null,
   "metadata": {},
   "outputs": [],
   "source": [
    "# Training set\n",
    "mcTrain = pd.read_csv('02_Processed_Data/mcTrain_70_30.csv')\n",
    "# Testing set\n",
    "mcTest = pd.read_csv('02_Processed_Data/mcTest_70_30.csv')"
   ]
  },
  {
   "cell_type": "code",
   "execution_count": null,
   "metadata": {},
   "outputs": [],
   "source": [
    "mcTrain.head()"
   ]
  },
  {
   "cell_type": "markdown",
   "metadata": {},
   "source": [
    "# **Pre-Process Data**"
   ]
  },
  {
   "cell_type": "code",
   "execution_count": null,
   "metadata": {},
   "outputs": [],
   "source": [
    "# remove genetic data from the mcTrain dataset\n",
    "mcTrain = mcTrain[['seq_num','diagnosis', 'dilute_library_concentration', 'age', 'gender', 'frag_mean']]\n",
    "\n",
    "# do the same for the testing set\n",
    "mcTest = mcTest[['seq_num','diagnosis', 'dilute_library_concentration', 'age', 'gender', 'frag_mean']]"
   ]
  },
  {
   "cell_type": "code",
   "execution_count": null,
   "metadata": {},
   "outputs": [],
   "source": [
    "mcTrain"
   ]
  },
  {
   "cell_type": "markdown",
   "metadata": {},
   "source": [
    "**Shuffle the training and test sets**\n",
    "\n",
    "Currently, all disease states are in order - we don't want to feed to the network in order!"
   ]
  },
  {
   "cell_type": "code",
   "execution_count": null,
   "metadata": {},
   "outputs": [],
   "source": [
    "import random\n",
    "random.seed(222020)\n",
    "mcTrain = mcTrain.sample(frac=1, axis = 0).reset_index(drop=True) # frac = 1 returns all rows in random order\n",
    "mcTest = mcTest.sample(frac=1, axis = 0).reset_index(drop=True)"
   ]
  },
  {
   "cell_type": "markdown",
   "metadata": {},
   "source": [
    "**Create a new numeric index and drop seq_num and demographic data for these experiments**\n",
    "\n",
    "For future code we want the index to be numeric"
   ]
  },
  {
   "cell_type": "code",
   "execution_count": null,
   "metadata": {},
   "outputs": [],
   "source": [
    "# Create new ids\n",
    "mcTrain['id'] = mcTrain.index + 1\n",
    "mcTest['id'] = mcTest.index + 243\n",
    "\n",
    "# Drop num_seq\n",
    "mcTrain = mcTrain.drop(columns=[\"seq_num\", \"dilute_library_concentration\", \"age\", \"gender\", \"frag_mean\"])\n",
    "mcTest = mcTest.drop(columns=[\"seq_num\", \"dilute_library_concentration\", \"age\", \"gender\", \"frag_mean\"])"
   ]
  },
  {
   "cell_type": "markdown",
   "metadata": {},
   "source": [
    "**Remove Labels (Diagnosis) from the datasets**"
   ]
  },
  {
   "cell_type": "code",
   "execution_count": null,
   "metadata": {},
   "outputs": [],
   "source": [
    "mcTrain_x = mcTrain.drop(columns=[\"diagnosis\"])\n",
    "mcTest_x = mcTest.drop(columns=[\"diagnosis\"])"
   ]
  },
  {
   "cell_type": "markdown",
   "metadata": {},
   "source": [
    "**Create Labeled Datasets**"
   ]
  },
  {
   "cell_type": "code",
   "execution_count": null,
   "metadata": {},
   "outputs": [],
   "source": [
    "mcTrain_y = mcTrain[['id','diagnosis']]\n",
    "mcTest_y = mcTest[['id','diagnosis']]"
   ]
  },
  {
   "cell_type": "code",
   "execution_count": null,
   "metadata": {},
   "outputs": [],
   "source": [
    "# Examine the unique target variables\n",
    "mcTrain_y.diagnosis.unique()"
   ]
  },
  {
   "cell_type": "code",
   "execution_count": null,
   "metadata": {},
   "outputs": [],
   "source": [
    "# Replace each outcome target with numerical value\n",
    "mcTrain_y = mcTrain_y.replace('HEA', 0)\n",
    "mcTrain_y = mcTrain_y.replace('CRC', 1)\n",
    "mcTrain_y = mcTrain_y.replace('ESCA', 2)\n",
    "mcTrain_y = mcTrain_y.replace('HCC', 3)\n",
    "mcTrain_y = mcTrain_y.replace('STAD', 4)\n",
    "mcTrain_y = mcTrain_y.replace('GBM', 5)\n",
    "mcTrain_y = mcTrain_y.replace('BRCA', 6)\n",
    "\n",
    "mcTest_y = mcTest_y.replace('HEA', 0)\n",
    "mcTest_y = mcTest_y.replace('CRC', 1)\n",
    "mcTest_y = mcTest_y.replace('ESCA', 2)\n",
    "mcTest_y = mcTest_y.replace('HCC', 3)\n",
    "mcTest_y = mcTest_y.replace('STAD', 4)\n",
    "mcTest_y = mcTest_y.replace('GBM', 5)\n",
    "mcTest_y = mcTest_y.replace('BRCA', 6)"
   ]
  },
  {
   "cell_type": "markdown",
   "metadata": {},
   "source": [
    "**Convert seq_num id to index**"
   ]
  },
  {
   "cell_type": "code",
   "execution_count": null,
   "metadata": {},
   "outputs": [],
   "source": [
    "mcTrain_x = mcTrain_x.set_index('id')\n",
    "mcTrain_y = mcTrain_y.set_index('id')\n",
    "\n",
    "mcTest_x = mcTest_x.set_index('id')\n",
    "mcTest_y = mcTest_y.set_index('id')"
   ]
  },
  {
   "cell_type": "markdown",
   "metadata": {},
   "source": [
    "# **Save the Main Training and Testing Datasets**"
   ]
  },
  {
   "cell_type": "code",
   "execution_count": null,
   "metadata": {},
   "outputs": [],
   "source": [
    "mcTrain_x.to_csv('02_Processed_Data/Final_Datasets/mcTrain_x_Full_70_30.csv')\n",
    "mcTrain_y.to_csv('02_Processed_Data/Final_Datasets/mcTrain_y_Full_70_30.csv')"
   ]
  },
  {
   "cell_type": "markdown",
   "metadata": {},
   "source": [
    "# **Downsampling the Majority Class**"
   ]
  },
  {
   "cell_type": "code",
   "execution_count": null,
   "metadata": {},
   "outputs": [],
   "source": [
    "# Subset healthy patients\n",
    "class0 = mcTrain_y[mcTrain_y.diagnosis == 0]\n",
    "\n",
    "# Select only 30 healthy subjects - we will remove these subjects\n",
    "class0 = class0.head(30)\n",
    "class0 = class0.index.tolist()\n",
    "\n",
    "# remove these patients from the main dataframe \n",
    "mcTrain_y_ds = mcTrain_y[~mcTrain_y.index.isin(class0)]\n",
    "#print(mcTrain_y.head(20))\n",
    "\n",
    "# Print the cases we wanted to remove\n",
    "#print(class0)\n",
    "\n",
    "#Observe class distributions\n",
    "class0_new = mcTrain_y[mcTrain_y.diagnosis == 0]\n",
    "#print('# Healthy Subjects', class0_new.shape) # shoud be 31\n",
    "#print('# Full Training Set', mcTrain_y.shape)"
   ]
  },
  {
   "cell_type": "markdown",
   "metadata": {},
   "source": [
    "**Remove excess healthy patients from the input training set and original dataset**"
   ]
  },
  {
   "cell_type": "code",
   "execution_count": null,
   "metadata": {},
   "outputs": [],
   "source": [
    "mcTrain_x_ds = mcTrain_x[~mcTrain_x.index.isin(class0)]\n",
    "#print('# Full Training Set', mcTrain_x)"
   ]
  },
  {
   "cell_type": "markdown",
   "metadata": {},
   "source": [
    "# **Save the Downsampled Training Data**"
   ]
  },
  {
   "cell_type": "code",
   "execution_count": null,
   "metadata": {},
   "outputs": [],
   "source": [
    "mcTrain_x_ds.to_csv('02_Processed_Data/Final_Datasets/mcTrain_x_ds_70_30.csv')\n",
    "mcTrain_y_ds.to_csv('02_Processed_Data/Final_Datasets/mcTrain_y_ds_70_30.csv')"
   ]
  },
  {
   "cell_type": "markdown",
   "metadata": {},
   "source": [
    "# **Equalize All Classes**"
   ]
  },
  {
   "cell_type": "code",
   "execution_count": null,
   "metadata": {},
   "outputs": [],
   "source": [
    "# Subset healthy patients\n",
    "class0 = mcTrain_y[mcTrain_y.diagnosis == 0]\n",
    "class1 = mcTrain_y[mcTrain_y.diagnosis == 1]\n",
    "class2 = mcTrain_y[mcTrain_y.diagnosis == 2]\n",
    "class3 = mcTrain_y[mcTrain_y.diagnosis == 3]\n",
    "class4 = mcTrain_y[mcTrain_y.diagnosis == 4]\n",
    "class5 = mcTrain_y[mcTrain_y.diagnosis == 5]\n",
    "class6 = mcTrain_y[mcTrain_y.diagnosis == 6]\n",
    "\n",
    "\n",
    "# Select only top 20 patients - we will remove these patients\n",
    "class0 = class0.head(20)\n",
    "class0 = class0.index.tolist()\n",
    "\n",
    "class1 = class1.head(20)\n",
    "class1 = class1.index.tolist()\n",
    "\n",
    "class2 = class2.head(20)\n",
    "class2 = class2.index.tolist()\n",
    "\n",
    "class3 = class3.head(20)\n",
    "class3 = class3.index.tolist()\n",
    "\n",
    "class4 = class4.head(20)\n",
    "class4 = class4.index.tolist()\n",
    "\n",
    "class5 = class5.head(20)\n",
    "class5 = class5.index.tolist()\n",
    "\n",
    "class6 = class6.head(20)\n",
    "class6 = class6.index.tolist()\n",
    "\n",
    "# Subset the main mcTrain database with the 20 patients in each class (note: gbm and breast cancer will have 19 and 18)\n",
    "mcTrain_y_ds_20 = mcTrain_y[mcTrain_y.index.isin(class0)]\n",
    "mcTrain_y_ds_20_1 = mcTrain_y[mcTrain_y.index.isin(class1)]\n",
    "mcTrain_y_ds_20_2 = mcTrain_y[mcTrain_y.index.isin(class2)]\n",
    "mcTrain_y_ds_20_3 = mcTrain_y[mcTrain_y.index.isin(class3)]\n",
    "mcTrain_y_ds_20_4 = mcTrain_y[mcTrain_y.index.isin(class4)]\n",
    "mcTrain_y_ds_20_5 = mcTrain_y[mcTrain_y.index.isin(class5)]\n",
    "mcTrain_y_ds_20_6 = mcTrain_y[mcTrain_y.index.isin(class6)]\n",
    "\n",
    "# bind all dataframes\n",
    "mcTrain_y_ds_20 = mcTrain_y_ds_20.append(pd.DataFrame(data = mcTrain_y_ds_20_1))\n",
    "mcTrain_y_ds_20 = mcTrain_y_ds_20.append(pd.DataFrame(data = mcTrain_y_ds_20_2))\n",
    "mcTrain_y_ds_20 = mcTrain_y_ds_20.append(pd.DataFrame(data = mcTrain_y_ds_20_3))\n",
    "mcTrain_y_ds_20 = mcTrain_y_ds_20.append(pd.DataFrame(data = mcTrain_y_ds_20_4))\n",
    "mcTrain_y_ds_20 = mcTrain_y_ds_20.append(pd.DataFrame(data = mcTrain_y_ds_20_5))\n",
    "mcTrain_y_ds_20 = mcTrain_y_ds_20.append(pd.DataFrame(data = mcTrain_y_ds_20_6))"
   ]
  },
  {
   "cell_type": "code",
   "execution_count": null,
   "metadata": {},
   "outputs": [],
   "source": [
    "mcTrain_y_ds_20.shape"
   ]
  },
  {
   "cell_type": "markdown",
   "metadata": {},
   "source": [
    "**Modify the feature training x set**"
   ]
  },
  {
   "cell_type": "code",
   "execution_count": null,
   "metadata": {},
   "outputs": [],
   "source": [
    "mcTrain_x_ds_20 = mcTrain_x[mcTrain_x.index.isin(class0)]\n",
    "mcTrain_x_ds_20_1 = mcTrain_x[mcTrain_x.index.isin(class1)]\n",
    "mcTrain_x_ds_20_2 = mcTrain_x[mcTrain_x.index.isin(class2)]\n",
    "mcTrain_x_ds_20_3 = mcTrain_x[mcTrain_x.index.isin(class3)]\n",
    "mcTrain_x_ds_20_4 = mcTrain_x[mcTrain_x.index.isin(class4)]\n",
    "mcTrain_x_ds_20_5 = mcTrain_x[mcTrain_x.index.isin(class5)]\n",
    "mcTrain_x_ds_20_6 = mcTrain_x[mcTrain_x.index.isin(class6)]\n",
    "\n",
    "# bind all dataframes\n",
    "mcTrain_x_ds_20 = mcTrain_x_ds_20.append(pd.DataFrame(data = mcTrain_x_ds_20_1))\n",
    "mcTrain_x_ds_20 = mcTrain_x_ds_20.append(pd.DataFrame(data = mcTrain_x_ds_20_2))\n",
    "mcTrain_x_ds_20 = mcTrain_x_ds_20.append(pd.DataFrame(data = mcTrain_x_ds_20_3))\n",
    "mcTrain_x_ds_20 = mcTrain_x_ds_20.append(pd.DataFrame(data = mcTrain_x_ds_20_4))\n",
    "mcTrain_x_ds_20 = mcTrain_x_ds_20.append(pd.DataFrame(data = mcTrain_x_ds_20_5))\n",
    "mcTrain_x_ds_20 = mcTrain_x_ds_20.append(pd.DataFrame(data = mcTrain_x_ds_20_6))"
   ]
  },
  {
   "cell_type": "code",
   "execution_count": null,
   "metadata": {},
   "outputs": [],
   "source": [
    "mcTrain_x_ds_20.shape"
   ]
  },
  {
   "cell_type": "markdown",
   "metadata": {},
   "source": [
    "# **Save Equal Downsampled Datasets** "
   ]
  },
  {
   "cell_type": "code",
   "execution_count": null,
   "metadata": {},
   "outputs": [],
   "source": [
    "mcTrain_x_ds.to_csv('02_Processed_Data/Final_Datasets/mcTrain_x_ds_70_30.csv')\n",
    "mcTrain_y_ds.to_csv('02_Processed_Data/Final_Datasets/mcTrain_y_ds_70_30.csv')"
   ]
  },
  {
   "cell_type": "markdown",
   "metadata": {},
   "source": [
    "# **Combine Stomach + Colon Cancer Patients**"
   ]
  },
  {
   "cell_type": "code",
   "execution_count": null,
   "metadata": {},
   "outputs": [],
   "source": []
  },
  {
   "cell_type": "markdown",
   "metadata": {},
   "source": [
    "# **Remove Breast Cancer + GBM Patients**"
   ]
  },
  {
   "cell_type": "code",
   "execution_count": null,
   "metadata": {},
   "outputs": [],
   "source": []
  }
 ],
 "metadata": {
  "kernelspec": {
   "display_name": "Python 3",
   "language": "python",
   "name": "python3"
  },
  "language_info": {
   "codemirror_mode": {
    "name": "ipython",
    "version": 3
   },
   "file_extension": ".py",
   "mimetype": "text/x-python",
   "name": "python",
   "nbconvert_exporter": "python",
   "pygments_lexer": "ipython3",
   "version": "3.7.1"
  }
 },
 "nbformat": 4,
 "nbformat_minor": 2
}
