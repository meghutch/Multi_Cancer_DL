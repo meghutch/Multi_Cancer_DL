{
 "cells": [
  {
   "cell_type": "markdown",
   "metadata": {},
   "source": [
    "# **Methylation Biomarkers for Predicting Cancer**\n",
    "\n",
    "## **Data Pre-Processing**\n",
    "\n",
    "**Author:** Meg Hutch\n",
    "\n",
    "**Date:** February 25, 2020\n",
    "\n",
    "**Objective:** Pre-process data for use in Neural Networks, Randfom Forest, and logistic regression.\n",
    "\n",
    "**Note:** In this version, I will only test the ability of methylation levels to classify cancer types. I will not include phenotypic data for now. Additionally, this version has our data split 70% for training and 30% for testing. The 70% training data will undergo leave-one-out-cross-fold validation to tune hyperparameters prior to testing final performance on the 30% test set. \n",
    "\n",
    "Note: This is the new version of the script where we normalize gene counts using DEseq2 in the initial pre-processing script in R. This provided more than double the number of Principal Components that make up 90% of the variance (157). Regardless, we will begin running the deep learning classifier on the revised data. \n",
    "\n",
    "\n",
    "\n",
    "\n",
    "**Notes/ToDos: Will need to similarly normalize/modify the final testing sets as well. For now, I just focused on the various training sets. I also have sections to create a few more datasets, combining stomach/colon cancer + removing GBM + BC, will work on this after initital analyses**"
   ]
  },
  {
   "cell_type": "code",
   "execution_count": 1,
   "metadata": {},
   "outputs": [],
   "source": [
    "import pandas as pd\n",
    "import numpy as np\n",
    "import matplotlib\n",
    "import matplotlib.pyplot as plt\n",
    "import matplotlib.colors\n",
    "import seaborn as sns"
   ]
  },
  {
   "cell_type": "code",
   "execution_count": 2,
   "metadata": {},
   "outputs": [
    {
     "data": {
      "text/plain": [
       "'C:\\\\Users\\\\User\\\\Box Sync\\\\Projects\\\\Multi_Cancer_DL'"
      ]
     },
     "execution_count": 2,
     "metadata": {},
     "output_type": "execute_result"
    }
   ],
   "source": [
    "# set working directory for git hub\n",
    "import os\n",
    "#os.chdir('/projects/p31049/Multi_Cancer_DL/')\n",
    "os.chdir('C:\\\\Users\\\\User\\\\Box Sync/Projects/Multi_Cancer_DL/')\n",
    "os. getcwd()"
   ]
  },
  {
   "cell_type": "markdown",
   "metadata": {},
   "source": [
    "**Import Training, Testing, and Principal component data**"
   ]
  },
  {
   "cell_type": "code",
   "execution_count": 3,
   "metadata": {},
   "outputs": [],
   "source": [
    "# Training set\n",
    "mcTrain = pd.read_csv('02_Processed_Data/mcTrain_70_30.csv')\n",
    "# Testing set\n",
    "mcTest = pd.read_csv('02_Processed_Data/mcTest_70_30.csv')\n",
    "# Principal Components that make up 90% of the variance of the training set\n",
    "genesTrain_transformed_90 = pd.read_csv('02_Processed_Data/genesTrain_transformed_157pc_70_30.csv')\n",
    "# Principal Components projected onto the test set\n",
    "genesTest_transformed_90 = pd.read_csv('02_Processed_Data/genesTest_transformed_157pc_70_30.csv')"
   ]
  },
  {
   "cell_type": "code",
   "execution_count": 4,
   "metadata": {},
   "outputs": [
    {
     "data": {
      "text/html": [
       "<div>\n",
       "<style scoped>\n",
       "    .dataframe tbody tr th:only-of-type {\n",
       "        vertical-align: middle;\n",
       "    }\n",
       "\n",
       "    .dataframe tbody tr th {\n",
       "        vertical-align: top;\n",
       "    }\n",
       "\n",
       "    .dataframe thead th {\n",
       "        text-align: right;\n",
       "    }\n",
       "</style>\n",
       "<table border=\"1\" class=\"dataframe\">\n",
       "  <thead>\n",
       "    <tr style=\"text-align: right;\">\n",
       "      <th></th>\n",
       "      <th>Unnamed: 0</th>\n",
       "      <th>pc1</th>\n",
       "      <th>pc2</th>\n",
       "      <th>pc3</th>\n",
       "      <th>pc4</th>\n",
       "      <th>pc5</th>\n",
       "      <th>pc6</th>\n",
       "      <th>pc7</th>\n",
       "      <th>pc8</th>\n",
       "      <th>pc9</th>\n",
       "      <th>...</th>\n",
       "      <th>pc148</th>\n",
       "      <th>pc149</th>\n",
       "      <th>pc150</th>\n",
       "      <th>pc151</th>\n",
       "      <th>pc152</th>\n",
       "      <th>pc153</th>\n",
       "      <th>pc154</th>\n",
       "      <th>pc155</th>\n",
       "      <th>pc156</th>\n",
       "      <th>pc157</th>\n",
       "    </tr>\n",
       "  </thead>\n",
       "  <tbody>\n",
       "    <tr>\n",
       "      <th>0</th>\n",
       "      <td>SEQF2032</td>\n",
       "      <td>-28.945059</td>\n",
       "      <td>-32.403797</td>\n",
       "      <td>-0.519967</td>\n",
       "      <td>-27.074691</td>\n",
       "      <td>-14.202266</td>\n",
       "      <td>19.993461</td>\n",
       "      <td>18.922518</td>\n",
       "      <td>-6.985856</td>\n",
       "      <td>0.358684</td>\n",
       "      <td>...</td>\n",
       "      <td>-5.164339</td>\n",
       "      <td>-0.560490</td>\n",
       "      <td>5.182056</td>\n",
       "      <td>6.927316</td>\n",
       "      <td>0.949892</td>\n",
       "      <td>-4.678334</td>\n",
       "      <td>-3.688339</td>\n",
       "      <td>0.433768</td>\n",
       "      <td>-6.032803</td>\n",
       "      <td>4.715499</td>\n",
       "    </tr>\n",
       "    <tr>\n",
       "      <th>1</th>\n",
       "      <td>SEQF2036</td>\n",
       "      <td>-44.217894</td>\n",
       "      <td>24.452308</td>\n",
       "      <td>33.042421</td>\n",
       "      <td>-16.371200</td>\n",
       "      <td>-11.621861</td>\n",
       "      <td>-14.680939</td>\n",
       "      <td>1.362154</td>\n",
       "      <td>-4.139965</td>\n",
       "      <td>-0.503822</td>\n",
       "      <td>...</td>\n",
       "      <td>3.135182</td>\n",
       "      <td>1.609314</td>\n",
       "      <td>0.540895</td>\n",
       "      <td>1.674428</td>\n",
       "      <td>0.780811</td>\n",
       "      <td>6.550943</td>\n",
       "      <td>2.203284</td>\n",
       "      <td>-2.186134</td>\n",
       "      <td>2.337185</td>\n",
       "      <td>-1.654099</td>\n",
       "    </tr>\n",
       "    <tr>\n",
       "      <th>2</th>\n",
       "      <td>SEQF2037</td>\n",
       "      <td>0.402742</td>\n",
       "      <td>-2.331201</td>\n",
       "      <td>-0.163246</td>\n",
       "      <td>-27.016531</td>\n",
       "      <td>-3.761961</td>\n",
       "      <td>22.911067</td>\n",
       "      <td>9.722398</td>\n",
       "      <td>2.136080</td>\n",
       "      <td>2.637944</td>\n",
       "      <td>...</td>\n",
       "      <td>-2.626749</td>\n",
       "      <td>0.343140</td>\n",
       "      <td>-3.307787</td>\n",
       "      <td>-1.680439</td>\n",
       "      <td>-2.682968</td>\n",
       "      <td>2.546865</td>\n",
       "      <td>0.303318</td>\n",
       "      <td>-2.718366</td>\n",
       "      <td>-0.652620</td>\n",
       "      <td>1.215243</td>\n",
       "    </tr>\n",
       "    <tr>\n",
       "      <th>3</th>\n",
       "      <td>SEQF2038</td>\n",
       "      <td>22.945211</td>\n",
       "      <td>89.824662</td>\n",
       "      <td>-62.017133</td>\n",
       "      <td>-29.163198</td>\n",
       "      <td>3.770062</td>\n",
       "      <td>10.497954</td>\n",
       "      <td>2.137644</td>\n",
       "      <td>1.693253</td>\n",
       "      <td>5.346057</td>\n",
       "      <td>...</td>\n",
       "      <td>3.709008</td>\n",
       "      <td>-0.659335</td>\n",
       "      <td>4.609737</td>\n",
       "      <td>-4.582692</td>\n",
       "      <td>-5.888171</td>\n",
       "      <td>-3.690396</td>\n",
       "      <td>-1.855820</td>\n",
       "      <td>0.342069</td>\n",
       "      <td>0.081236</td>\n",
       "      <td>0.658757</td>\n",
       "    </tr>\n",
       "    <tr>\n",
       "      <th>4</th>\n",
       "      <td>SEQF2040</td>\n",
       "      <td>-49.427962</td>\n",
       "      <td>-13.271621</td>\n",
       "      <td>-0.336084</td>\n",
       "      <td>-20.161418</td>\n",
       "      <td>-17.332071</td>\n",
       "      <td>-0.177102</td>\n",
       "      <td>13.728438</td>\n",
       "      <td>-8.602698</td>\n",
       "      <td>0.822969</td>\n",
       "      <td>...</td>\n",
       "      <td>-1.294989</td>\n",
       "      <td>-6.169188</td>\n",
       "      <td>4.229857</td>\n",
       "      <td>0.294180</td>\n",
       "      <td>3.464734</td>\n",
       "      <td>-1.982001</td>\n",
       "      <td>0.224488</td>\n",
       "      <td>1.915049</td>\n",
       "      <td>8.692484</td>\n",
       "      <td>4.023793</td>\n",
       "    </tr>\n",
       "  </tbody>\n",
       "</table>\n",
       "<p>5 rows × 158 columns</p>\n",
       "</div>"
      ],
      "text/plain": [
       "  Unnamed: 0        pc1        pc2        pc3        pc4        pc5  \\\n",
       "0   SEQF2032 -28.945059 -32.403797  -0.519967 -27.074691 -14.202266   \n",
       "1   SEQF2036 -44.217894  24.452308  33.042421 -16.371200 -11.621861   \n",
       "2   SEQF2037   0.402742  -2.331201  -0.163246 -27.016531  -3.761961   \n",
       "3   SEQF2038  22.945211  89.824662 -62.017133 -29.163198   3.770062   \n",
       "4   SEQF2040 -49.427962 -13.271621  -0.336084 -20.161418 -17.332071   \n",
       "\n",
       "         pc6        pc7       pc8       pc9    ...        pc148     pc149  \\\n",
       "0  19.993461  18.922518 -6.985856  0.358684    ...    -5.164339 -0.560490   \n",
       "1 -14.680939   1.362154 -4.139965 -0.503822    ...     3.135182  1.609314   \n",
       "2  22.911067   9.722398  2.136080  2.637944    ...    -2.626749  0.343140   \n",
       "3  10.497954   2.137644  1.693253  5.346057    ...     3.709008 -0.659335   \n",
       "4  -0.177102  13.728438 -8.602698  0.822969    ...    -1.294989 -6.169188   \n",
       "\n",
       "      pc150     pc151     pc152     pc153     pc154     pc155     pc156  \\\n",
       "0  5.182056  6.927316  0.949892 -4.678334 -3.688339  0.433768 -6.032803   \n",
       "1  0.540895  1.674428  0.780811  6.550943  2.203284 -2.186134  2.337185   \n",
       "2 -3.307787 -1.680439 -2.682968  2.546865  0.303318 -2.718366 -0.652620   \n",
       "3  4.609737 -4.582692 -5.888171 -3.690396 -1.855820  0.342069  0.081236   \n",
       "4  4.229857  0.294180  3.464734 -1.982001  0.224488  1.915049  8.692484   \n",
       "\n",
       "      pc157  \n",
       "0  4.715499  \n",
       "1 -1.654099  \n",
       "2  1.215243  \n",
       "3  0.658757  \n",
       "4  4.023793  \n",
       "\n",
       "[5 rows x 158 columns]"
      ]
     },
     "execution_count": 4,
     "metadata": {},
     "output_type": "execute_result"
    }
   ],
   "source": [
    "mcTrain.head()\n",
    "genesTrain_transformed_90.head()"
   ]
  },
  {
   "cell_type": "markdown",
   "metadata": {},
   "source": [
    "# **Pre-Process Data**"
   ]
  },
  {
   "cell_type": "code",
   "execution_count": 5,
   "metadata": {},
   "outputs": [],
   "source": [
    "# remove genetic data from the mcTrain dataset\n",
    "mcTrain = mcTrain[['seq_num','diagnosis', 'dilute_library_concentration', 'age', 'gender', 'frag_mean']]\n",
    "\n",
    "# do the same for the testing set\n",
    "mcTest = mcTest[['seq_num','diagnosis', 'dilute_library_concentration', 'age', 'gender', 'frag_mean']]"
   ]
  },
  {
   "cell_type": "code",
   "execution_count": 6,
   "metadata": {},
   "outputs": [],
   "source": [
    "# rename the first column name of the PC dataframes\n",
    "genesTrain_transformed_90.rename(columns={'Unnamed: 0':'seq_num'}, inplace=True)\n",
    "genesTest_transformed_90.rename(columns={'Unnamed: 0':'seq_num'}, inplace=True)"
   ]
  },
  {
   "cell_type": "code",
   "execution_count": 7,
   "metadata": {},
   "outputs": [],
   "source": [
    "# merge PCs with clinical/phenotypic data\n",
    "mcTrain = pd.merge(mcTrain, genesTrain_transformed_90, how=\"left\", on=\"seq_num\") \n",
    "mcTest = pd.merge(mcTest, genesTest_transformed_90, how=\"left\", on=\"seq_num\") "
   ]
  },
  {
   "cell_type": "markdown",
   "metadata": {},
   "source": [
    "**Shuffle the training and test sets**\n",
    "\n",
    "Currently, all disease states are in order - we don't want to feed to the network in order!"
   ]
  },
  {
   "cell_type": "code",
   "execution_count": 8,
   "metadata": {},
   "outputs": [],
   "source": [
    "import random\n",
    "random.seed(222020)\n",
    "mcTrain = mcTrain.sample(frac=1, axis = 0).reset_index(drop=True) # frac = 1 returns all rows in random order\n",
    "mcTest = mcTest.sample(frac=1, axis = 0).reset_index(drop=True)"
   ]
  },
  {
   "cell_type": "markdown",
   "metadata": {},
   "source": [
    "**Create a new numeric index and drop seq_num and demographic data for these experiments**\n",
    "\n",
    "For future code we want the index to be numeric"
   ]
  },
  {
   "cell_type": "code",
   "execution_count": 9,
   "metadata": {},
   "outputs": [],
   "source": [
    "# Create new ids\n",
    "mcTrain['id'] = mcTrain.index + 1\n",
    "mcTest['id'] = mcTest.index + 243\n",
    "\n",
    "# Drop num_seq\n",
    "mcTrain = mcTrain.drop(columns=[\"seq_num\", \"dilute_library_concentration\", \"age\", \"gender\", \"frag_mean\"])\n",
    "mcTest = mcTest.drop(columns=[\"seq_num\", \"dilute_library_concentration\", \"age\", \"gender\", \"frag_mean\"])"
   ]
  },
  {
   "cell_type": "markdown",
   "metadata": {},
   "source": [
    "**Remove Labels (Diagnosis) from the datasets**"
   ]
  },
  {
   "cell_type": "code",
   "execution_count": 10,
   "metadata": {},
   "outputs": [],
   "source": [
    "mcTrain_x = mcTrain.drop(columns=[\"diagnosis\"])\n",
    "mcTest_x = mcTest.drop(columns=[\"diagnosis\"])"
   ]
  },
  {
   "cell_type": "markdown",
   "metadata": {},
   "source": [
    "**Create Labeled Datasets**"
   ]
  },
  {
   "cell_type": "code",
   "execution_count": 11,
   "metadata": {},
   "outputs": [],
   "source": [
    "mcTrain_y = mcTrain[['id','diagnosis']]\n",
    "mcTest_y = mcTest[['id','diagnosis']]"
   ]
  },
  {
   "cell_type": "code",
   "execution_count": 12,
   "metadata": {},
   "outputs": [
    {
     "data": {
      "text/plain": [
       "array(['ESCA', 'GBM', 'HEA', 'STAD', 'BRCA', 'HCC', 'CRC'], dtype=object)"
      ]
     },
     "execution_count": 12,
     "metadata": {},
     "output_type": "execute_result"
    }
   ],
   "source": [
    "# Examine the unique target variables\n",
    "mcTrain_y.diagnosis.unique()"
   ]
  },
  {
   "cell_type": "code",
   "execution_count": 13,
   "metadata": {},
   "outputs": [],
   "source": [
    "# Replace each outcome target with numerical value\n",
    "mcTrain_y = mcTrain_y.replace('HEA', 0)\n",
    "mcTrain_y = mcTrain_y.replace('CRC', 1)\n",
    "mcTrain_y = mcTrain_y.replace('ESCA', 2)\n",
    "mcTrain_y = mcTrain_y.replace('HCC', 3)\n",
    "mcTrain_y = mcTrain_y.replace('STAD', 4)\n",
    "mcTrain_y = mcTrain_y.replace('GBM', 5)\n",
    "mcTrain_y = mcTrain_y.replace('BRCA', 6)\n",
    "\n",
    "mcTest_y = mcTest_y.replace('HEA', 0)\n",
    "mcTest_y = mcTest_y.replace('CRC', 1)\n",
    "mcTest_y = mcTest_y.replace('ESCA', 2)\n",
    "mcTest_y = mcTest_y.replace('HCC', 3)\n",
    "mcTest_y = mcTest_y.replace('STAD', 4)\n",
    "mcTest_y = mcTest_y.replace('GBM', 5)\n",
    "mcTest_y = mcTest_y.replace('BRCA', 6)"
   ]
  },
  {
   "cell_type": "markdown",
   "metadata": {},
   "source": [
    "**Convert seq_num id to index**"
   ]
  },
  {
   "cell_type": "code",
   "execution_count": 14,
   "metadata": {},
   "outputs": [],
   "source": [
    "mcTrain_x = mcTrain_x.set_index('id')\n",
    "mcTrain_y = mcTrain_y.set_index('id')\n",
    "\n",
    "mcTest_x = mcTest_x.set_index('id')\n",
    "mcTest_y = mcTest_y.set_index('id')"
   ]
  },
  {
   "cell_type": "markdown",
   "metadata": {},
   "source": [
    "**Normalize Data**\n",
    "\n",
    "From my reading, it seems that normalization, as opposed to standardization, is the more optimal approach when data is not normally distributed. \n",
    "\n",
    "Normalization will rescale our values into range of [0,1]. We need to normalize both the training and test sets"
   ]
  },
  {
   "cell_type": "code",
   "execution_count": 15,
   "metadata": {},
   "outputs": [],
   "source": [
    "from sklearn.preprocessing import MinMaxScaler\n",
    "\n",
    "# The normalization function to be performed will convert dataframe into array, for this reason we'll have to convert it back\n",
    "# Thus, need to store columns and index\n",
    "# select all columns\n",
    "cols = list(mcTrain_x.columns.values)\n",
    "index_train = list(mcTrain_x.index)\n",
    "index_test = list(mcTest_x.index)\n",
    "\n",
    "# Normalize data\n",
    "scaler = MinMaxScaler()\n",
    "mcTrain_x = scaler.fit_transform(mcTrain_x.astype(np.float))\n",
    "mcTest_x = scaler.fit_transform(mcTest_x.astype(np.float))\n",
    "\n",
    "# Convert back to dataframe\n",
    "mcTrain_x = pd.DataFrame(mcTrain_x, columns = cols, index = index_train)\n",
    "mcTest_x = pd.DataFrame(mcTest_x, columns = cols, index = index_test)"
   ]
  },
  {
   "cell_type": "markdown",
   "metadata": {},
   "source": [
    "# **Save the Main Training and Testing Datasets**"
   ]
  },
  {
   "cell_type": "code",
   "execution_count": 16,
   "metadata": {},
   "outputs": [],
   "source": [
    "mcTrain_x.to_csv('02_Processed_Data/mcTrain_x_Full_70_30.csv')\n",
    "mcTrain_y.to_csv('02_Processed_Data/mcTrain_y_Full_70_30.csv')"
   ]
  },
  {
   "cell_type": "markdown",
   "metadata": {},
   "source": [
    "# **Downsampling the Majority Class**"
   ]
  },
  {
   "cell_type": "code",
   "execution_count": 17,
   "metadata": {},
   "outputs": [],
   "source": [
    "# Subset healthy patients\n",
    "class0 = mcTrain_y[mcTrain_y.diagnosis == 0]\n",
    "\n",
    "# Select only 30 healthy subjects - we will remove these subjects\n",
    "class0 = class0.head(30)\n",
    "class0 = class0.index.tolist()\n",
    "\n",
    "# remove these patients from the main dataframe \n",
    "mcTrain_y_ds = mcTrain_y[~mcTrain_y.index.isin(class0)]\n",
    "#print(mcTrain_y.head(20))\n",
    "\n",
    "# Print the cases we wanted to remove\n",
    "#print(class0)\n",
    "\n",
    "#Observe class distributions\n",
    "class0_new = mcTrain_y[mcTrain_y.diagnosis == 0]\n",
    "#print('# Healthy Subjects', class0_new.shape) # shoud be 31\n",
    "#print('# Full Training Set', mcTrain_y.shape)"
   ]
  },
  {
   "cell_type": "markdown",
   "metadata": {},
   "source": [
    "**Remove excess healthy patients from the input training set and original dataset**"
   ]
  },
  {
   "cell_type": "code",
   "execution_count": 18,
   "metadata": {},
   "outputs": [],
   "source": [
    "mcTrain_x_ds = mcTrain_x[~mcTrain_x.index.isin(class0)]\n",
    "#print('# Full Training Set', mcTrain_x)"
   ]
  },
  {
   "cell_type": "markdown",
   "metadata": {},
   "source": [
    "# **Save the Downsampled Training Data**"
   ]
  },
  {
   "cell_type": "code",
   "execution_count": 19,
   "metadata": {},
   "outputs": [],
   "source": [
    "mcTrain_x_ds.to_csv('02_Processed_Data/mcTrain_x_ds_70_30.csv')\n",
    "mcTrain_y_ds.to_csv('02_Processed_Data/mcTrain_y_ds_70_30.csv')"
   ]
  },
  {
   "cell_type": "markdown",
   "metadata": {},
   "source": [
    "# **Equalize All Classes**"
   ]
  },
  {
   "cell_type": "code",
   "execution_count": 20,
   "metadata": {},
   "outputs": [],
   "source": [
    "# Subset healthy patients\n",
    "class0 = mcTrain_y[mcTrain_y.diagnosis == 0]\n",
    "class1 = mcTrain_y[mcTrain_y.diagnosis == 1]\n",
    "class2 = mcTrain_y[mcTrain_y.diagnosis == 2]\n",
    "class3 = mcTrain_y[mcTrain_y.diagnosis == 3]\n",
    "class4 = mcTrain_y[mcTrain_y.diagnosis == 4]\n",
    "class5 = mcTrain_y[mcTrain_y.diagnosis == 5]\n",
    "class6 = mcTrain_y[mcTrain_y.diagnosis == 6]\n",
    "\n",
    "\n",
    "# Select only top 20 patients - we will remove these patients\n",
    "class0 = class0.head(20)\n",
    "class0 = class0.index.tolist()\n",
    "\n",
    "class1 = class1.head(20)\n",
    "class1 = class1.index.tolist()\n",
    "\n",
    "class2 = class2.head(20)\n",
    "class2 = class2.index.tolist()\n",
    "\n",
    "class3 = class3.head(20)\n",
    "class3 = class3.index.tolist()\n",
    "\n",
    "class4 = class4.head(20)\n",
    "class4 = class4.index.tolist()\n",
    "\n",
    "class5 = class5.head(20)\n",
    "class5 = class5.index.tolist()\n",
    "\n",
    "class6 = class6.head(20)\n",
    "class6 = class6.index.tolist()\n",
    "\n",
    "# Subset the main mcTrain database with the 20 patients in each class (note: gbm and breast cancer will have 19 and 18)\n",
    "mcTrain_y_ds_20 = mcTrain_y[mcTrain_y.index.isin(class0)]\n",
    "mcTrain_y_ds_20_1 = mcTrain_y[mcTrain_y.index.isin(class1)]\n",
    "mcTrain_y_ds_20_2 = mcTrain_y[mcTrain_y.index.isin(class2)]\n",
    "mcTrain_y_ds_20_3 = mcTrain_y[mcTrain_y.index.isin(class3)]\n",
    "mcTrain_y_ds_20_4 = mcTrain_y[mcTrain_y.index.isin(class4)]\n",
    "mcTrain_y_ds_20_5 = mcTrain_y[mcTrain_y.index.isin(class5)]\n",
    "mcTrain_y_ds_20_6 = mcTrain_y[mcTrain_y.index.isin(class6)]\n",
    "\n",
    "# bind all dataframes\n",
    "mcTrain_y_ds_20 = mcTrain_y_ds_20.append(pd.DataFrame(data = mcTrain_y_ds_20_1))\n",
    "mcTrain_y_ds_20 = mcTrain_y_ds_20.append(pd.DataFrame(data = mcTrain_y_ds_20_2))\n",
    "mcTrain_y_ds_20 = mcTrain_y_ds_20.append(pd.DataFrame(data = mcTrain_y_ds_20_3))\n",
    "mcTrain_y_ds_20 = mcTrain_y_ds_20.append(pd.DataFrame(data = mcTrain_y_ds_20_4))\n",
    "mcTrain_y_ds_20 = mcTrain_y_ds_20.append(pd.DataFrame(data = mcTrain_y_ds_20_5))\n",
    "mcTrain_y_ds_20 = mcTrain_y_ds_20.append(pd.DataFrame(data = mcTrain_y_ds_20_6))"
   ]
  },
  {
   "cell_type": "code",
   "execution_count": 21,
   "metadata": {},
   "outputs": [
    {
     "data": {
      "text/plain": [
       "(137, 1)"
      ]
     },
     "execution_count": 21,
     "metadata": {},
     "output_type": "execute_result"
    }
   ],
   "source": [
    "mcTrain_y_ds_20.shape"
   ]
  },
  {
   "cell_type": "markdown",
   "metadata": {},
   "source": [
    "**Modify the feature training x set**"
   ]
  },
  {
   "cell_type": "code",
   "execution_count": 22,
   "metadata": {},
   "outputs": [],
   "source": [
    "mcTrain_x_ds_20 = mcTrain_x[mcTrain_x.index.isin(class0)]\n",
    "mcTrain_x_ds_20_1 = mcTrain_x[mcTrain_x.index.isin(class1)]\n",
    "mcTrain_x_ds_20_2 = mcTrain_x[mcTrain_x.index.isin(class2)]\n",
    "mcTrain_x_ds_20_3 = mcTrain_x[mcTrain_x.index.isin(class3)]\n",
    "mcTrain_x_ds_20_4 = mcTrain_x[mcTrain_x.index.isin(class4)]\n",
    "mcTrain_x_ds_20_5 = mcTrain_x[mcTrain_x.index.isin(class5)]\n",
    "mcTrain_x_ds_20_6 = mcTrain_x[mcTrain_x.index.isin(class6)]\n",
    "\n",
    "# bind all dataframes\n",
    "mcTrain_x_ds_20 = mcTrain_x_ds_20.append(pd.DataFrame(data = mcTrain_x_ds_20_1))\n",
    "mcTrain_x_ds_20 = mcTrain_x_ds_20.append(pd.DataFrame(data = mcTrain_x_ds_20_2))\n",
    "mcTrain_x_ds_20 = mcTrain_x_ds_20.append(pd.DataFrame(data = mcTrain_x_ds_20_3))\n",
    "mcTrain_x_ds_20 = mcTrain_x_ds_20.append(pd.DataFrame(data = mcTrain_x_ds_20_4))\n",
    "mcTrain_x_ds_20 = mcTrain_x_ds_20.append(pd.DataFrame(data = mcTrain_x_ds_20_5))\n",
    "mcTrain_x_ds_20 = mcTrain_x_ds_20.append(pd.DataFrame(data = mcTrain_x_ds_20_6))"
   ]
  },
  {
   "cell_type": "code",
   "execution_count": 23,
   "metadata": {},
   "outputs": [
    {
     "data": {
      "text/plain": [
       "(137, 157)"
      ]
     },
     "execution_count": 23,
     "metadata": {},
     "output_type": "execute_result"
    }
   ],
   "source": [
    "mcTrain_x_ds_20.shape"
   ]
  },
  {
   "cell_type": "markdown",
   "metadata": {},
   "source": [
    "# **Save Equal Downsampled Datasets** "
   ]
  },
  {
   "cell_type": "code",
   "execution_count": 24,
   "metadata": {},
   "outputs": [],
   "source": [
    "mcTrain_x_ds.to_csv('02_Processed_Data/mcTrain_x_ds_70_30.csv')\n",
    "mcTrain_y_ds.to_csv('02_Processed_Data/mcTrain_y_ds_70_30.csv')"
   ]
  },
  {
   "cell_type": "markdown",
   "metadata": {},
   "source": [
    "# **Combine Stomach + Colon Cancer Patients**"
   ]
  },
  {
   "cell_type": "code",
   "execution_count": null,
   "metadata": {},
   "outputs": [],
   "source": []
  },
  {
   "cell_type": "markdown",
   "metadata": {},
   "source": [
    "# **Remove Breast Cancer + Colon Cancer**"
   ]
  },
  {
   "cell_type": "code",
   "execution_count": null,
   "metadata": {},
   "outputs": [],
   "source": []
  }
 ],
 "metadata": {
  "kernelspec": {
   "display_name": "Python 3",
   "language": "python",
   "name": "python3"
  },
  "language_info": {
   "codemirror_mode": {
    "name": "ipython",
    "version": 3
   },
   "file_extension": ".py",
   "mimetype": "text/x-python",
   "name": "python",
   "nbconvert_exporter": "python",
   "pygments_lexer": "ipython3",
   "version": "3.7.1"
  }
 },
 "nbformat": 4,
 "nbformat_minor": 2
}
